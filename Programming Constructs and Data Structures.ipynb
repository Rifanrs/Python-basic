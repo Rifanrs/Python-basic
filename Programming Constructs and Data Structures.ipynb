{
  "nbformat": 4,
  "nbformat_minor": 0,
  "metadata": {
    "colab": {
      "provenance": []
    },
    "kernelspec": {
      "name": "python3",
      "display_name": "Python 3"
    },
    "language_info": {
      "name": "python"
    }
  },
  "cells": [
    {
      "cell_type": "markdown",
      "source": [
        "#Python Asyncronous 2 ⭐⭐"
      ],
      "metadata": {
        "id": "ujMNtWG5meS1"
      }
    },
    {
      "cell_type": "markdown",
      "source": [
        "##1. Create a program using one or a combination of all existing Block Statements!\n",
        "`You can see an example from synchronous recording on March, 28th 2024`"
      ],
      "metadata": {
        "id": "vzGk7hKCjSLr"
      }
    },
    {
      "cell_type": "markdown",
      "source": [
        "###Your Turn! 🔥"
      ],
      "metadata": {
        "id": "Owk-qb7I6hVj"
      }
    },
    {
      "cell_type": "code",
      "source": [
        "import random\n",
        "\n",
        "print('Selamat datang di Permainan Tebak Angka!')\n",
        "jawaban = random.randint(1, 100)\n",
        "\n",
        "while True:\n",
        "    try:\n",
        "        tebakan = int(input(\"Tebak angka antara 1-100: \"))\n",
        "        if tebakan == jawaban:\n",
        "            print(\"Selamat! Tebakan Anda benar!\")\n",
        "            break\n",
        "        elif tebakan < jawaban:\n",
        "            print(\"Tebakan terlalu kecil! Coba lagi.\")\n",
        "        else:\n",
        "            print(\"Tebakan terlalu besar! Coba lagi.\")\n",
        "    except ValueError:\n",
        "        print(\"Input tidak valid! Harap masukkan angka yang valid.\")\n",
        "\n",
        "print(\"Terima kasih telah bermain!\")\n"
      ],
      "metadata": {
        "id": "IMbnUlRb6reI",
        "colab": {
          "base_uri": "https://localhost:8080/"
        },
        "outputId": "c7d9de0e-b7e0-46b2-d2f3-a49c53a3d494"
      },
      "execution_count": null,
      "outputs": [
        {
          "output_type": "stream",
          "name": "stdout",
          "text": [
            "Selamat datang di Permainan Tebak Angka!\n",
            "Tebak angka antara 1-100: 59\n",
            "Tebakan terlalu kecil! Coba lagi.\n",
            "Tebak angka antara 1-100: 78\n",
            "Tebakan terlalu besar! Coba lagi.\n",
            "Tebak angka antara 1-100: 67\n",
            "Tebakan terlalu besar! Coba lagi.\n",
            "Tebak angka antara 1-100: 63\n",
            "Tebakan terlalu kecil! Coba lagi.\n",
            "Tebak angka antara 1-100: 65\n",
            "Tebakan terlalu besar! Coba lagi.\n",
            "Tebak angka antara 1-100: 64\n",
            "Selamat! Tebakan Anda benar!\n",
            "Terima kasih telah bermain!\n"
          ]
        }
      ]
    },
    {
      "cell_type": "code",
      "source": [
        "print(\"Selamat datang di Kalkulator Sederhana\")\n",
        "\n",
        "while True:\n",
        "    try:\n",
        "        angka1 = float(input(\"Masukkan angka pertama: \"))\n",
        "        angka2 = float(input(\"Masukkan angka kedua: \"))\n",
        "\n",
        "        print(\"\\nPilih operasi yang ingin Anda lakukan:\")\n",
        "        print(\"1. Penjumlahan\")\n",
        "        print(\"2. Pengurangan\")\n",
        "        print(\"3. Perkalian\")\n",
        "        print(\"4. Pembagian\")\n",
        "\n",
        "        pilihan = int(input(\"\\nMasukkan nomor operasi (1/2/3/4): \"))\n",
        "\n",
        "        if pilihan == 1:\n",
        "            hasil = angka1 + angka2\n",
        "            print(\"Hasil penjumlahan:\", hasil)\n",
        "        elif pilihan == 2:\n",
        "            hasil = angka1 - angka2\n",
        "            print(\"Hasil pengurangan:\", hasil)\n",
        "        elif pilihan == 3:\n",
        "            hasil = angka1 * angka2\n",
        "            print(\"Hasil perkalian:\", hasil)\n",
        "        elif pilihan == 4:\n",
        "            hasil = angka1 / angka2\n",
        "            print(\"Hasil pembagian:\", hasil)\n",
        "        else:\n",
        "            print(\"Pilihan tidak valid!\")\n",
        "\n",
        "    except ValueError:\n",
        "        print(\"Input tidak valid! Harap masukkan angka.\")\n",
        "\n",
        "    except ZeroDivisionError:\n",
        "        print(\"Error: Pembagian dengan angka nol tidak diperbolehkan.\")\n",
        "\n",
        "    except Exception as e:\n",
        "        print(\"Error:\", e)\n",
        "\n",
        "    lagi = input(\"\\nApakah Anda ingin menghitung lagi? (y/n): \")\n",
        "    if lagi.lower() != 'y':\n",
        "        print(\"Terima kasih telah menggunakan kalkulator sederhana.\")\n",
        "        break\n"
      ],
      "metadata": {
        "colab": {
          "base_uri": "https://localhost:8080/"
        },
        "id": "OuNgSBvCd0sh",
        "outputId": "06c7903c-d3e1-4047-ba42-e37c47f2f97c"
      },
      "execution_count": null,
      "outputs": [
        {
          "output_type": "stream",
          "name": "stdout",
          "text": [
            "Selamat datang di Kalkulator Sederhana\n",
            "Masukkan angka pertama: 3\n",
            "Masukkan angka kedua: 5\n",
            "\n",
            "Pilih operasi yang ingin Anda lakukan:\n",
            "1. Penjumlahan\n",
            "2. Pengurangan\n",
            "3. Perkalian\n",
            "4. Pembagian\n",
            "\n",
            "Masukkan nomor operasi (1/2/3/4): 3\n",
            "Hasil perkalian: 15.0\n",
            "\n",
            "Apakah Anda ingin menghitung lagi? (y/n): n\n",
            "Terima kasih telah menggunakan kalkulator sederhana.\n"
          ]
        }
      ]
    },
    {
      "cell_type": "markdown",
      "source": [
        "##2. Rewrite and execute the python program in the image [Here](https://drive.google.com/file/d/1ty1kc7IUKLr3jo9E24sg9KSFRA6E_bqR/view?usp=sharing) ! Then, explain all the functions that you know based on the syntax!"
      ],
      "metadata": {
        "id": "XI3tWN2kjWZ_"
      }
    },
    {
      "cell_type": "markdown",
      "source": [
        "###a. Syntax"
      ],
      "metadata": {
        "id": "1UgoQzPQogJ0"
      }
    },
    {
      "cell_type": "code",
      "source": [
        "'''Program data mahasiswa menggunakan dictionary'''\n",
        "\n",
        "import datetime\n",
        "import os\n",
        "import string\n",
        "import random\n",
        "\n",
        "#template dict mahasiswa\n",
        "mahasiswa_template={\n",
        "    'nama':'nama',\n",
        "    'nim':'00000000',\n",
        "    'sks_lulus':0,\n",
        "    'lahir':datetime.datetime(1111,1,11)\n",
        "}\n",
        "data_mahasiswa={}\n",
        "\n",
        "while True:\n",
        "  #os.system(\"cls\") #untuk windows\n",
        "  os.system(\"clear\")\n",
        "  print(f\"('SELAMAT DATANG':^20)\")\n",
        "  print(f\"('DATA MAHASISWA':^20)\")\n",
        "  print(\"-\"*20)\n",
        "\n",
        "  mahasiswa=dict.fromkeys(mahasiswa_template.keys())\n",
        "  mahasiswa['nama']=input(\"Nama Mahasiswa: \")\n",
        "  mahasiswa['nim']=input(\"NIM Mahasiswa: \")\n",
        "  mahasiswa['sks_lulus']=int(input(\"SKS Lulus:\"))\n",
        "  TAHUN_LAHIR=int(input(\"Tahun lahir(YYYY): \"))\n",
        "  BULAN_LAHIR=int(input(\"Bulan lahir(1-12): \"))\n",
        "  TANGGAL_LAHIR=int(input(\"Tanggal lahir(1-31): \"))\n",
        "  mahasiswa['lahir']=datetime.datetime(TAHUN_LAHIR,BULAN_LAHIR,TANGGAL_LAHIR)\n",
        "\n",
        "  KEY=''.join((random.choice(string.ascii_uppercase) for i in range(6)))\n",
        "  data_mahasiswa.update({KEY:mahasiswa})\n",
        "\n",
        "  #dari tutorial sebelumnya, hilangkan beasiswa\n",
        "  print(f\"\\n{'KEY':<6}{'Nama':<17}{'NIM':<8}{'SKS Lulus':<10}{'Tanggal Lahir':<10}\")\n",
        "  print('-'*60)\n",
        "\n",
        "  for mahasiswa in data_mahasiswa:\n",
        "    KEY=mahasiswa\n",
        "\n",
        "    NAMA=data_mahasiswa[KEY]['nama']\n",
        "    NIM=data_mahasiswa[KEY]['nim']\n",
        "    SKS=data_mahasiswa[KEY]['sks_lulus']\n",
        "    LAHIR=data_mahasiswa[KEY]['lahir'].strftime(\"%x\")\n",
        "\n",
        "    print(f\"{KEY:<6}{NAMA:17}{NIM:<8}{SKS:^10}{LAHIR:^10}\")\n",
        "\n",
        "\n",
        "  print(\"\\n\")\n",
        "  is_done=input(\"Mau tambah lagi bro (y/n)?\")\n",
        "  if is_done==\"n\":\n",
        "    break\n",
        "\n",
        "  print('\\nAkhir dari program, terima kasih')"
      ],
      "metadata": {
        "id": "xDG0OBB4kQ3n",
        "colab": {
          "base_uri": "https://localhost:8080/"
        },
        "outputId": "7eca6219-26a1-49a3-e6bd-5c0faa3c1f09"
      },
      "execution_count": null,
      "outputs": [
        {
          "name": "stdout",
          "output_type": "stream",
          "text": [
            "('SELAMAT DATANG':^20)\n",
            "('DATA MAHASISWA':^20)\n",
            "--------------------\n",
            "Nama Mahasiswa: Rifa\n",
            "NIM Mahasiswa: 2102743\n",
            "SKS Lulus:144\n",
            "Tahun lahir(YYYY): 2003\n",
            "Bulan lahir(1-12): 4\n",
            "Tanggal lahir(1-31): 19\n",
            "\n",
            "KEY   Nama             NIM     SKS Lulus Tanggal Lahir\n",
            "------------------------------------------------------------\n",
            "TDOYLERifa             2102743    144     04/19/03 \n",
            "\n",
            "\n",
            "Mau tambah lagi bro (y/n)?n\n"
          ]
        }
      ]
    },
    {
      "cell_type": "markdown",
      "source": [
        "###b. Explanation of Functions"
      ],
      "metadata": {
        "id": "1NvT7Rcbomq6"
      }
    },
    {
      "cell_type": "markdown",
      "source": [
        "Import : digunakan untuk mengimpor modul-modul yang dibutuhkan dalam program\n",
        "- datetime: Untuk bekerja dengan tanggal dan waktu.\n",
        "- os: Untuk melakukan operasi terkait sistem operasi.\n",
        "- string: Untuk mengakses berbagai konstanta string.\n",
        "- random: Untuk menghasilkan nilai acak.\n",
        "\n",
        "Template mahasiswa_template: template untuk data mahasiswa\n",
        "\n",
        "Dictionary data_mahasiswa: untuk menyimpan data mahasiswa yang dimasukkan oleh pengguna\n",
        "\n",
        "While Statement : While Statement dalam Python mengatur sebuah blok kode yang akan dieksekusi berulang kali sampai suatu kondisi tidak terpenuhi lagi. Dengan kata lain, blok kode dalam While Statement akan terus dijalankan selama kondisi yang ditentukan masih benar (True).\n",
        "\n",
        "os.system(\"clear\")): untuk membersihkan layar konsol setiap kali loop dimulai, sehingga antarmuka program tetap bersih dan terorganisir.\n",
        "\n",
        "input(): untuk memasukkan data mahasiswa seperti nama, NIM, jumlah SKS yang telah lulus, dan tanggal lahir.\n",
        "\n",
        "random.choice(string.ascii_uppercase): membuat kunci acak yang terdiri dari 6 huruf besar menggunakan random, kunci ini akan digunakan untuk mengidentifikasi setiap entri dalam dictionary data_mahasiswa.\n",
        "\n",
        "\n",
        "Dictionary Method:\n",
        "- dict.fromkeys(mahasiswa_template.keys()): menggunakan method  **fromkeys()** digunakan untuk membuat dictionary baru dengan kunci-kunci yang diberikan dan nilai-nilai defaultnya.\n",
        "- data_mahasiswa.update({KEY:mahasiswa}): menggunakan method **update()** digunakan untuk memperbarui dictionary dengan pasangan kunci-nilai baru\n",
        "- data_mahasiswa.items(): menggunakan method **items()** digunakan untuk mengembalikan daftar tupel yang berisi pasangan kunci-nilai dari dictionary\n",
        "- dict.keys(): menggunakan method **keys()** digunakan untuk mengembalikan daftar semua kunci yang ada dalam dictionary\n",
        "-dict.values(): method **values()** digunakan untuk mengembalikan daftar semua nilai yang ada dalam dictionary.\n",
        "-dict.get(key): menggunakan method **get()** digunakan untuk mengembalikan nilai yang terkait dengan kunci tertentu dalam dictionary.\n",
        "\n",
        "List Method:\n",
        "- list.append(item): menggunakan method **append()** digunakan untuk menambahkan elemen baru ke dalam list.\n",
        "-list.extend(iterable): mengggunakan method **extend()** digunakan untuk menambahkan semua elemen dari iterable (seperti list, tuple, atau string) ke dalam list.\n",
        "- list.insert(index, item): menggunakan method **insert()** digunakan untuk menyisipkan elemen baru pada posisi tertentu dalam list.\n",
        "- list.pop(index): menggunakan method **pop()** digunakan untuk menghapus dan mengembalikan elemen dari list berdasarkan indeks tertentu.\n",
        "- list.remove(item): menggunakan method **remove()** digunakan untuk menghapus elemen pertama dari list yang memiliki nilai yang sama dengan item\n",
        "\n",
        "String Method:\n",
        "- str.format(): menggunakan method **format()** digunakan untuk memformat string dengan nilai-nilai tertentu.\n",
        "- str.join(iterable): menggunakan method **join()** digunakan untuk menggabungkan elemen-elemen dari iterable (seperti list atau tuple) menjadi satu string dengan menggunakan string yang dipanggilnya sebagai pemisah.\n",
        "- str.upper(): menggunakan method **upper()** digunakan untuk mengonversi semua huruf dalam string menjadi huruf kapital.\n",
        "- str.lower():menggunakan method **lower()** digunakan untuk mengonversi semua huruf dalam string menjadi huruf kecil.\n",
        "- str.strip(): menggunakan method **strip()** digunakan untuk menghapus spasi kosong (atau karakter lain yang ditentukan) dari awal dan akhir string"
      ],
      "metadata": {
        "id": "bu5zJNF9opcY"
      }
    }
  ]
}