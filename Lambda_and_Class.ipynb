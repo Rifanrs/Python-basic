{
  "nbformat": 4,
  "nbformat_minor": 0,
  "metadata": {
    "colab": {
      "provenance": []
    },
    "kernelspec": {
      "name": "python3",
      "display_name": "Python 3"
    },
    "language_info": {
      "name": "python"
    }
  },
  "cells": [
    {
      "cell_type": "markdown",
      "source": [
        "# Lambda"
      ],
      "metadata": {
        "id": "GVLVFF_THMZn"
      }
    },
    {
      "cell_type": "code",
      "source": [
        "perkalian=lambda x,y: x*y; #seperti variabel tapi isinya function\n",
        "\n",
        "print(perkalian(5,4))\n",
        "print(perkalian(5,'a'))"
      ],
      "metadata": {
        "colab": {
          "base_uri": "https://localhost:8080/"
        },
        "id": "aBPW--giHMI4",
        "outputId": "49f289b7-edd7-4098-b3b8-adf4e908b24a"
      },
      "execution_count": null,
      "outputs": [
        {
          "output_type": "stream",
          "name": "stdout",
          "text": [
            "20\n",
            "aaaaa\n"
          ]
        }
      ]
    },
    {
      "cell_type": "code",
      "source": [
        "def perpangkatan(n):\n",
        "  return lambda a : a ** n"
      ],
      "metadata": {
        "id": "gf0iTZX0HMF5"
      },
      "execution_count": null,
      "outputs": []
    },
    {
      "cell_type": "code",
      "source": [
        "hasil = perpangkatan(2)\n",
        "\n",
        "print(hasil(3))"
      ],
      "metadata": {
        "colab": {
          "base_uri": "https://localhost:8080/"
        },
        "id": "yyMGNOdsMZTD",
        "outputId": "215ab30c-83ec-417e-80a4-a38f2083e65c"
      },
      "execution_count": null,
      "outputs": [
        {
          "output_type": "stream",
          "name": "stdout",
          "text": [
            "9\n"
          ]
        }
      ]
    },
    {
      "cell_type": "markdown",
      "source": [
        "# Class"
      ],
      "metadata": {
        "id": "PK7R2wJzHKMu"
      }
    },
    {
      "cell_type": "code",
      "source": [
        "class biodata:\n",
        "  def isidata(self, nama, telp, gender, email, alamat, nama_orangtua):\n",
        "    self.fullname = nama\n",
        "    self.phone = telp\n",
        "    self.gender = gender\n",
        "    self.email = email\n",
        "    self.alamat = alamat\n",
        "    self.nama_orangtua = nama_orangtua\n",
        "\n",
        "  def cetakdata(self):\n",
        "    print('Full Name: ', self.fullname)\n",
        "    print('Phone Number: ', self.phone)\n",
        "    print('Gender: ', self.gender)\n",
        "    print('Email: ', self.email)\n",
        "    print('Alamat: ', self.alamat)\n",
        "    print('Nama Orangtua: ', self.nama_orangtua)"
      ],
      "metadata": {
        "id": "60M9axKytXBP"
      },
      "execution_count": null,
      "outputs": []
    },
    {
      "cell_type": "code",
      "source": [
        "data = biodata()\n",
        "data.isidata(\"Santri\", \"12345678\", 'pria', 'san@gmail.com','bandung','deddy')\n",
        "data.cetakdata()"
      ],
      "metadata": {
        "colab": {
          "base_uri": "https://localhost:8080/"
        },
        "id": "Sd1E9KflqZgN",
        "outputId": "136bfee2-1136-4e09-aa79-4f5647dc6076"
      },
      "execution_count": null,
      "outputs": [
        {
          "output_type": "stream",
          "name": "stdout",
          "text": [
            "Full Name:  Santri\n",
            "Phone Number:  12345678\n",
            "Gender:  pria\n",
            "Email:  san@gmail.com\n",
            "Alamat:  bandung\n",
            "Nama Orangtua:  deddy\n"
          ]
        }
      ]
    },
    {
      "cell_type": "markdown",
      "source": [
        "# __init__"
      ],
      "metadata": {
        "id": "FwkIf1VkBn8L"
      }
    },
    {
      "cell_type": "code",
      "source": [
        "class Person:\n",
        "  def __init__(self, name, age):\n",
        "    self.name = name\n",
        "    self.age = age\n",
        "\n",
        "p1 = Person(\"John\", 36)\n",
        "\n",
        "print(p1.name)\n",
        "print(p1.age)"
      ],
      "metadata": {
        "colab": {
          "base_uri": "https://localhost:8080/"
        },
        "id": "v_0Km_aIB6E5",
        "outputId": "a0513a0b-1f47-43ab-916c-2cc8f5cf043e"
      },
      "execution_count": null,
      "outputs": [
        {
          "output_type": "stream",
          "name": "stdout",
          "text": [
            "John\n",
            "36\n"
          ]
        }
      ]
    },
    {
      "cell_type": "code",
      "source": [
        "class biodata:\n",
        "  def __init__(self, nama, telp, gender, email, alamat, nama_orangtua):\n",
        "    self.fullname = nama\n",
        "    self.phone = telp\n",
        "    self.gender = gender\n",
        "    self.email = email\n",
        "    self.alamat = alamat\n",
        "    self.nama_orangtua = nama_orangtua\n",
        "\n",
        "  def cetakdata(self):\n",
        "    print('Full Name: ', self.fullname)\n",
        "    print('Phone Number: ', self.phone)\n",
        "    print('Gender: ', self.gender)\n",
        "    print('Email: ', self.email)\n",
        "    print('Alamat: ', self.alamat)\n",
        "    print('Nama Orangtua: ', self.nama_orangtua)"
      ],
      "metadata": {
        "id": "SPxREFdJRMn7"
      },
      "execution_count": null,
      "outputs": []
    },
    {
      "cell_type": "code",
      "source": [
        "data = biodata(\"Santri\", \"12345678\", 'pria', 'san@gmail.com','bandung','deddy')\n",
        "data.cetakdata()"
      ],
      "metadata": {
        "colab": {
          "base_uri": "https://localhost:8080/"
        },
        "id": "ApEBtafpRUoc",
        "outputId": "8993eae0-b8d6-42e9-82d5-9e00c9124b59"
      },
      "execution_count": null,
      "outputs": [
        {
          "output_type": "stream",
          "name": "stdout",
          "text": [
            "Full Name:  Santri\n",
            "Phone Number:  12345678\n",
            "Gender:  pria\n",
            "Email:  san@gmail.com\n",
            "Alamat:  bandung\n",
            "Nama Orangtua:  deddy\n"
          ]
        }
      ]
    },
    {
      "cell_type": "markdown",
      "source": [
        "# str"
      ],
      "metadata": {
        "id": "sP3pHu4rDJYo"
      }
    },
    {
      "cell_type": "code",
      "source": [],
      "metadata": {
        "id": "fYTmTNSRSiWM"
      },
      "execution_count": null,
      "outputs": []
    },
    {
      "cell_type": "code",
      "source": [
        "class Person:\n",
        "  def __init__(self, name, age):\n",
        "    self.name = name\n",
        "    self.age = age\n",
        "\n",
        "  def __str__(self):\n",
        "    return f\"{self.name}({self.age})\"\n",
        "\n",
        "p1 = Person(\"John\", 36)\n",
        "\n",
        "print(p1)"
      ],
      "metadata": {
        "colab": {
          "base_uri": "https://localhost:8080/"
        },
        "id": "KluWU9FP97LA",
        "outputId": "bbfe23f1-d643-494a-962e-aba4718e3780"
      },
      "execution_count": null,
      "outputs": [
        {
          "output_type": "stream",
          "name": "stdout",
          "text": [
            "John(36)\n"
          ]
        }
      ]
    },
    {
      "cell_type": "code",
      "source": [
        "class biodata:\n",
        "  def __init__(self, nama, telp):\n",
        "    self.fullname = nama\n",
        "    self.phone = telp\n",
        "\n",
        "  def __str__(self):\n",
        "    return f\"nama {self.fullname}, nomer telpon {self.phone}\""
      ],
      "metadata": {
        "id": "FSK3oFisSqU1"
      },
      "execution_count": null,
      "outputs": []
    },
    {
      "cell_type": "code",
      "source": [
        "p1 = biodata(\"Ucup\", 123456789)\n",
        "\n",
        "print(p1)"
      ],
      "metadata": {
        "colab": {
          "base_uri": "https://localhost:8080/"
        },
        "id": "LEjS5Z9wTIfl",
        "outputId": "1fa733ba-c899-4853-c2e3-95634dc8f455"
      },
      "execution_count": null,
      "outputs": [
        {
          "output_type": "stream",
          "name": "stdout",
          "text": [
            "nama Ucup, nomer telpon 123456789\n"
          ]
        }
      ]
    },
    {
      "cell_type": "markdown",
      "source": [
        "# Pewarisan (Inheritance)"
      ],
      "metadata": {
        "id": "HP_6KCsYClJ0"
      }
    },
    {
      "cell_type": "code",
      "source": [
        "class Hewan:\n",
        "  def __init__(self,nama):\n",
        "    self.nama = nama\n",
        "\n",
        "  def gerak(self):\n",
        "    print(self.nama, \"itu adalah hewan yang bergerak\")\n",
        "\n",
        "class HewanDarat(Hewan):\n",
        "  def __init__(self, nama, kaki):\n",
        "    super().__init__(nama) ## fungsi untuk mewariskan atribut\n",
        "    self.kaki = kaki\n",
        "\n",
        "  def gerak(self):\n",
        "    print(self.nama, 'gerak di darat dengan kaki', self.kaki)\n",
        "\n",
        "class Hewanair(Hewan):\n",
        "  def __init__(self, nama, sirip='kecil'):\n",
        "    super().__init__(nama)\n",
        "    self.sirip = sirip\n",
        "\n",
        "  def gerak(self):\n",
        "    print(self.nama, 'gerak di laut dengan sirip yang', self.sirip)"
      ],
      "metadata": {
        "id": "y27_4S2GtyWZ"
      },
      "execution_count": null,
      "outputs": []
    },
    {
      "cell_type": "code",
      "source": [
        "darat = HewanDarat('kambing', 4)\n",
        "air = Hewanair('Lumba-lumba', sirip = 'lebar')\n",
        "\n",
        "darat.gerak()\n",
        "air.gerak()"
      ],
      "metadata": {
        "colab": {
          "base_uri": "https://localhost:8080/"
        },
        "id": "qwkF6QqTVm5W",
        "outputId": "be8acf62-cb61-4f0b-fdc5-50a8fc215406"
      },
      "execution_count": null,
      "outputs": [
        {
          "output_type": "stream",
          "name": "stdout",
          "text": [
            "kambing gerak di darat dengan kaki 4\n",
            "Lumba-lumba gerak di laut dengan sirip yang lebar\n"
          ]
        }
      ]
    },
    {
      "cell_type": "code",
      "source": [
        "hewan = Hewan('kelinci')\n",
        "\n",
        "hewan.gerak()"
      ],
      "metadata": {
        "id": "Y2W6KJUF0cu8"
      },
      "execution_count": null,
      "outputs": []
    },
    {
      "cell_type": "code",
      "source": [],
      "metadata": {
        "id": "p6tKrktY0dFU"
      },
      "execution_count": null,
      "outputs": []
    }
  ]
}