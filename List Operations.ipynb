{
  "nbformat": 4,
  "nbformat_minor": 0,
  "metadata": {
    "colab": {
      "provenance": []
    },
    "kernelspec": {
      "name": "python3",
      "display_name": "Python 3"
    },
    "language_info": {
      "name": "python"
    }
  },
  "cells": [
    {
      "cell_type": "markdown",
      "source": [
        "#Python Asyncronous 1 ⭐"
      ],
      "metadata": {
        "id": "ujMNtWG5meS1"
      }
    },
    {
      "cell_type": "markdown",
      "source": [
        "##A. Create a python syntax based on the instructions below!"
      ],
      "metadata": {
        "id": "Uvl5FInzOP_r"
      }
    },
    {
      "cell_type": "markdown",
      "source": [
        "1. Instruction:<br>\n",
        "Create a variable list_sample in the form of a \"list\" with 10 elements! Return list_sample!\n"
      ],
      "metadata": {
        "id": "ZhFqwgxre-LR"
      }
    },
    {
      "cell_type": "code",
      "source": [
        "list_sample = [5, 8, 20, 22, 19, 4, 20, 3, 20, 24]\n",
        "\n",
        "print(list_sample)\n"
      ],
      "metadata": {
        "id": "OHPrV_cHfAuA",
        "colab": {
          "base_uri": "https://localhost:8080/"
        },
        "outputId": "f6e27dd3-6ffc-4f79-b216-be5d7591eb52"
      },
      "execution_count": null,
      "outputs": [
        {
          "output_type": "stream",
          "name": "stdout",
          "text": [
            "[5, 8, 20, 22, 19, 4, 20, 3, 20, 24]\n"
          ]
        }
      ]
    },
    {
      "cell_type": "markdown",
      "source": [
        "2. Instruction: <br>\n",
        "Return the second element from list_sample!\n"
      ],
      "metadata": {
        "id": "o4XHrfWefBNu"
      }
    },
    {
      "cell_type": "code",
      "source": [
        "list_sample = [5, 8, 20, 22, 19, 4, 20, 3, 20, 24]\n",
        "\n",
        "print(\"Second element:\", (list_sample[1]))"
      ],
      "metadata": {
        "id": "Vi0LaAAIfDgd",
        "colab": {
          "base_uri": "https://localhost:8080/"
        },
        "outputId": "47eacd54-d952-4dd7-9965-09b14972d4f1"
      },
      "execution_count": null,
      "outputs": [
        {
          "output_type": "stream",
          "name": "stdout",
          "text": [
            "Second element: 8\n"
          ]
        }
      ]
    },
    {
      "cell_type": "markdown",
      "source": [
        "3. Instruction:<br>\n",
        "Add a new element in the form of a list with 5 elements in the sixth position! Return list_sample!\n"
      ],
      "metadata": {
        "id": "WgCBJz-vfD0N"
      }
    },
    {
      "cell_type": "code",
      "source": [
        "list_sample = [5, 8, 20, 22, 19, 4, 20, 3, 20, 24]\n",
        "new_element = [10,11,12,13,14]\n",
        "list_sample.insert(5, new_element)\n",
        "print(\"Updated list_sample:\", list_sample)"
      ],
      "metadata": {
        "id": "fOi3yR4ufGJS",
        "colab": {
          "base_uri": "https://localhost:8080/"
        },
        "outputId": "74fea091-753e-4802-add3-529ca8d00ac9"
      },
      "execution_count": null,
      "outputs": [
        {
          "output_type": "stream",
          "name": "stdout",
          "text": [
            "Updated list_sample: [5, 8, 20, 22, 19, [10, 11, 12, 13, 14], 4, 20, 3, 20, 24]\n"
          ]
        }
      ]
    },
    {
      "cell_type": "markdown",
      "source": [
        "4. Instruction:<br>\n",
        "Return the 4th element of the list created in instruction number 3!\n"
      ],
      "metadata": {
        "id": "i5H7mmuGfGjq"
      }
    },
    {
      "cell_type": "code",
      "source": [
        "list_sample = [5, 8, 20, 22, 19, 4, 20, 3, 20, 24]\n",
        "new_element = [10,11,12,13,14]\n",
        "list_sample.insert(5, new_element)\n",
        "\n",
        "print(\"Fourth element of the list:\",(list_sample[3]))"
      ],
      "metadata": {
        "id": "ZsUAcm_0fIrY",
        "colab": {
          "base_uri": "https://localhost:8080/"
        },
        "outputId": "74eaecaf-6bdd-4581-ba4a-269e3426200a"
      },
      "execution_count": null,
      "outputs": [
        {
          "output_type": "stream",
          "name": "stdout",
          "text": [
            "Fourth element of the list: 22\n"
          ]
        }
      ]
    },
    {
      "cell_type": "markdown",
      "source": [
        "5. Instruction:<br>\n",
        "Update the 10th element of list_sample with 'Practice'. Return list_sample!\n"
      ],
      "metadata": {
        "id": "aqYnHpgXfJBj"
      }
    },
    {
      "cell_type": "code",
      "source": [
        "list_sample = [5, 8, 20, 22, 19, 4, 20, 3, 20, 24]\n",
        "\n",
        "\n",
        "list_sample[9]='Practice'\n",
        "print (\"Updated list_sample:\" ,list_sample)"
      ],
      "metadata": {
        "colab": {
          "base_uri": "https://localhost:8080/"
        },
        "id": "I4kuxqaymjGL",
        "outputId": "776a9527-806c-4ef7-e3ad-c1c21bb7d0c2"
      },
      "execution_count": null,
      "outputs": [
        {
          "output_type": "stream",
          "name": "stdout",
          "text": [
            "Updated list_sample: [5, 8, 20, 22, 19, 4, 20, 3, 20, 'Practice']\n"
          ]
        }
      ]
    },
    {
      "cell_type": "markdown",
      "source": [
        "6. Instruction:<br>\n",
        "Return the 10th output element that has been changed!\n"
      ],
      "metadata": {
        "id": "hWQBMh32fLdn"
      }
    },
    {
      "cell_type": "code",
      "source": [
        "list_sample = [5, 8, 20, 22, 19, 4, 20, 3, 20, 24]\n",
        "list_sample[9]='Practice'\n",
        "print (\"Updated list_sample:\" ,list_sample)\n",
        "changed_element = list_sample[9]\n",
        "print(\"Changed 10th element:\", changed_element)\n",
        "\n"
      ],
      "metadata": {
        "id": "x3b44zOyfNxj",
        "colab": {
          "base_uri": "https://localhost:8080/"
        },
        "outputId": "fb7c3502-fd01-4ee3-df89-3569727b335d"
      },
      "execution_count": null,
      "outputs": [
        {
          "output_type": "stream",
          "name": "stdout",
          "text": [
            "Updated list_sample: [5, 8, 20, 22, 19, 4, 20, 3, 20, 'Practice']\n",
            "Changed 10th element: Practice\n"
          ]
        }
      ]
    },
    {
      "cell_type": "markdown",
      "source": [
        "7. Instruction:<br>\n",
        "Return the count of one of the elements in list_sample!\n"
      ],
      "metadata": {
        "id": "EGj8ZRpgfOTT"
      }
    },
    {
      "cell_type": "code",
      "source": [
        "list_sample = [5, 8, 20, 22, 19, 4, 20, 3, 20, 24]\n",
        "print(\"Count of element 20:\",list_sample.count(20))"
      ],
      "metadata": {
        "id": "BFAmE5sofRFY",
        "colab": {
          "base_uri": "https://localhost:8080/"
        },
        "outputId": "6fe2ba67-2b91-48b2-d167-77fe1924de0b"
      },
      "execution_count": null,
      "outputs": [
        {
          "output_type": "stream",
          "name": "stdout",
          "text": [
            "Count of element 20: 3\n"
          ]
        }
      ]
    },
    {
      "cell_type": "markdown",
      "source": [
        "8. Instruction:<br>\n",
        "Return the number of elements in the list_sample!\n"
      ],
      "metadata": {
        "id": "yUwF9mkWfRl3"
      }
    },
    {
      "cell_type": "code",
      "source": [
        "list_sample = [5, 8, 20, 22, 19, 4, 20, 3, 20, 24]\n",
        "\n",
        "print(\"Number of elements in list_sample:\", len(list_sample))\n"
      ],
      "metadata": {
        "id": "FFBW7gqNfTv1",
        "colab": {
          "base_uri": "https://localhost:8080/"
        },
        "outputId": "349197ae-c4a6-41ff-e803-5b2a0ef24998"
      },
      "execution_count": null,
      "outputs": [
        {
          "output_type": "stream",
          "name": "stdout",
          "text": [
            "Number of elements in list_sample: 10\n"
          ]
        }
      ]
    },
    {
      "cell_type": "markdown",
      "source": [
        "9. Instruction:<br>\n",
        "Remove elements in the form of lists from list_sample! Return list_sample!\n"
      ],
      "metadata": {
        "id": "QYAYnblVfUL0"
      }
    },
    {
      "cell_type": "code",
      "source": [
        "list_sample = [5, 8, 20, 22, 19, 4, 20, 3, 20, 24]\n",
        "list_sample.remove(24)\n",
        "print(list_sample)"
      ],
      "metadata": {
        "id": "afTN0X24fWMb",
        "colab": {
          "base_uri": "https://localhost:8080/"
        },
        "outputId": "d54b9828-f958-4543-c28e-c66dba9d6eeb"
      },
      "execution_count": null,
      "outputs": [
        {
          "output_type": "stream",
          "name": "stdout",
          "text": [
            "[5, 8, 20, 22, 19, 4, 20, 3, 20]\n"
          ]
        }
      ]
    },
    {
      "cell_type": "markdown",
      "source": [
        "10. Instruction:<br>\n",
        "Remove all elements from the list_sample! Return list_sample!"
      ],
      "metadata": {
        "id": "US0fo3_jfWb7"
      }
    },
    {
      "cell_type": "code",
      "source": [
        "list_sample = [5, 8, 20, 22, 19, 4, 20, 3, 20, 24]\n",
        "list_sample.clear()\n",
        "print(\"list sample:\", list_sample)"
      ],
      "metadata": {
        "id": "AgicceMwfXSy",
        "colab": {
          "base_uri": "https://localhost:8080/"
        },
        "outputId": "28642a5a-6660-47fd-b43a-46611d38a6d0"
      },
      "execution_count": null,
      "outputs": [
        {
          "output_type": "stream",
          "name": "stdout",
          "text": [
            "list sample: []\n"
          ]
        }
      ]
    },
    {
      "cell_type": "markdown",
      "source": [
        "##B. Make a simple program about mathematical calculations!"
      ],
      "metadata": {
        "id": "WK4KxUGqm75X"
      }
    },
    {
      "cell_type": "markdown",
      "source": [
        "###1st Example"
      ],
      "metadata": {
        "id": "EWngJ2Ya5TI0"
      }
    },
    {
      "cell_type": "code",
      "source": [
        "#meminta input dari user\n",
        "kilometer = float(input(\"Masukan bilangan yang ingin di konversi: \"))\n",
        "\n",
        "#konversi kilometer ke meter\n",
        "meter = kilometer * 1000\n",
        "\n",
        "#menampilkan hasil konversi\n",
        "print(f\"{kilometer} kilometer = {meter} meter\")"
      ],
      "metadata": {
        "id": "mE619GrXnF4x",
        "colab": {
          "base_uri": "https://localhost:8080/"
        },
        "outputId": "9abb9ef2-73d2-459f-b74f-f0c311c5ae0f"
      },
      "execution_count": null,
      "outputs": [
        {
          "output_type": "stream",
          "name": "stdout",
          "text": [
            "Masukan bilangan yang ingin di konversi: 10\n",
            "10.0 kilometer = 10000.0 meter\n"
          ]
        }
      ]
    },
    {
      "cell_type": "markdown",
      "source": [
        "###2nd Example"
      ],
      "metadata": {
        "id": "veizWpzo5Wkw"
      }
    },
    {
      "cell_type": "code",
      "source": [
        "# Menginput Alas dan Tinggi Segitiga\n",
        "alas = float(input('Tulis Alas Segitiga: '))\n",
        "tinggi = float(input('Tulis Tinggi Segitiga: '))\n",
        "\n",
        "# Hitung Luas Segitiga\n",
        "luas = (alas * tinggi) / 2\n",
        "\n",
        "#Menampilkan Hasil Perhitungan\n",
        "print(f'Luas Segitiga tersebut adalah {luas}')"
      ],
      "metadata": {
        "id": "B7LRJNE85Y3B",
        "colab": {
          "base_uri": "https://localhost:8080/"
        },
        "outputId": "897d9e9a-8258-4de0-b27e-fcb52ccc480e"
      },
      "execution_count": null,
      "outputs": [
        {
          "output_type": "stream",
          "name": "stdout",
          "text": [
            "Tulis Alas Segitiga: 30\n",
            "Tulis Tinggi Segitiga: 15\n",
            "Luas Segitiga tersebut adalah 225.0\n"
          ]
        }
      ]
    },
    {
      "cell_type": "markdown",
      "source": [
        "###Your Turn! 🔥"
      ],
      "metadata": {
        "id": "Owk-qb7I6hVj"
      }
    },
    {
      "cell_type": "code",
      "source": [
        "# Input Mass and Force\n",
        "mass = float(input('Enter the value of mass (kg): '))\n",
        "force = float(input('Enter the value of force (N): '))\n",
        "\n",
        "# Calculate Acceleration\n",
        "acceleration = force / mass\n",
        "\n",
        "# Display the Calculation Result\n",
        "print(f'The acceleration is: {acceleration} m/s^2')\n"
      ],
      "metadata": {
        "id": "IMbnUlRb6reI",
        "colab": {
          "base_uri": "https://localhost:8080/"
        },
        "outputId": "e300328b-470e-43a0-b4c5-c7e526dcf0cb"
      },
      "execution_count": null,
      "outputs": [
        {
          "output_type": "stream",
          "name": "stdout",
          "text": [
            "Enter the value of mass (kg): 10\n",
            "Enter the value of force (N): 4\n",
            "The acceleration is: 0.4 m/s^2\n"
          ]
        }
      ]
    }
  ]
}