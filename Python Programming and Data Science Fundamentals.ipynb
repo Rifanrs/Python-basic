{
  "nbformat": 4,
  "nbformat_minor": 0,
  "metadata": {
    "colab": {
      "provenance": [],
      "collapsed_sections": [
        "BT6_hsk2cdCa"
      ]
    },
    "kernelspec": {
      "name": "python3",
      "display_name": "Python 3"
    },
    "language_info": {
      "name": "python"
    }
  },
  "cells": [
    {
      "cell_type": "markdown",
      "source": [
        "# **Welcome to Python Module!!!**\n"
      ],
      "metadata": {
        "id": "IDOuvzHxQ0SR"
      }
    },
    {
      "cell_type": "markdown",
      "source": [
        "# Day 1\n"
      ],
      "metadata": {
        "id": "K05MXAx8Rcyl"
      }
    },
    {
      "cell_type": "markdown",
      "source": [
        "##Introduction to Data Scientist\n",
        "---\n",
        "\n",
        "`1. What is Data Scientist?` <br>\n",
        "`2. Roles and responsibilities of a Data Scientist` <br>\n",
        "`3. The difference between of Data Analyst, Data Scientist, or Business Analyst` <br>\n",
        "`4. Tools and technology used` <br>\n",
        "`5. Introduction to Python`"
      ],
      "metadata": {
        "id": "M3-PidimVFcK"
      }
    },
    {
      "cell_type": "markdown",
      "source": [
        "###1. What is Data Scientist?"
      ],
      "metadata": {
        "id": "N02FRt7HVX7S"
      }
    },
    {
      "cell_type": "markdown",
      "source": [
        "**A data scientist** is a professional who utilizes scientific methods, algorithms, processes, and systems to extract insights and knowledge from structured and unstructured data. They possess a blend of analytical, statistical, programming, and domain-specific skills to analyze complex datasets and derive valuable insights that can inform business decisions, improve products or services, or solve various challenges.\n",
        "\n"
      ],
      "metadata": {
        "id": "TiD_H3ZdVeWr"
      }
    },
    {
      "cell_type": "markdown",
      "source": [
        "###2. Roles and responsibilities?"
      ],
      "metadata": {
        "id": "qiUbm4P_Vhvt"
      }
    },
    {
      "cell_type": "markdown",
      "source": [
        "**Data Scientists** play the lead role in data science applications in organizations. They're commonly tasked with finding information that enables more effective marketing campaigns, improved customer service, stronger supply chain management and better business decisions and strategies overall. To do so, they analyze sets of quantitative and qualitative data, depending on the needs of specific applications."
      ],
      "metadata": {
        "id": "zbLvpP71VsRX"
      }
    },
    {
      "cell_type": "markdown",
      "source": [
        "\n",
        "\n",
        "```\n",
        "# Key Responsibilities\n",
        "```\n",
        "\n"
      ],
      "metadata": {
        "id": "13aC3V5IV7Fy"
      }
    },
    {
      "cell_type": "markdown",
      "source": [
        "Key responsibilities of a data scientist may include:\n",
        "\n",
        "1. ***Data Collection and Cleaning***: Gathering data from various sources and ensuring its quality and reliability by preprocessing and cleaning it.\n",
        "2. ***Data Analysis***: Applying statistical and machine learning techniques to analyze data, identify patterns, trends, and correlations, and gain actionable insights.\n",
        "3. ***Data Visualization***: Presenting findings and insights effectively through data visualization techniques such as charts, graphs, and dashboards to make complex information more understandable for non-technical stakeholders.\n",
        "4. ***Machine Learning and Predictive Modeling***: Building predictive models and machine learning algorithms to make predictions, classifications, or recommendations based on historical data.\n",
        "5. ***Interpretation and Communication***: Interpreting analytical results and communicating findings, recommendations, and implications to stakeholders in a clear and understandable manner.\n",
        "\n"
      ],
      "metadata": {
        "id": "l6ZFlvJ4V8dz"
      }
    },
    {
      "cell_type": "markdown",
      "source": [
        "\n",
        "\n",
        "```\n",
        "# The quotes\n",
        "```\n",
        "\n"
      ],
      "metadata": {
        "id": "LQ0V__8FWAm_"
      }
    },
    {
      "cell_type": "markdown",
      "source": [
        "*A data scientist is that unique blend of skills that can both unlock the insights of data and tell a fantastic story via the data.* - (DJ Patil, Mathematician and computer scientist)"
      ],
      "metadata": {
        "id": "Vyz--xrOWFxZ"
      }
    },
    {
      "cell_type": "markdown",
      "source": [
        "###3. The difference between of Data Analyst, Data Scientist, or Business Analyst\n"
      ],
      "metadata": {
        "id": "9IlERVQcWIvl"
      }
    },
    {
      "cell_type": "markdown",
      "source": [
        "> **Data Analyst (Translators)**, translate statistical information into a language everyday people can understand and use as a basis to make practical decisions\n",
        "\n",
        "> **Data Scientist (Problem Solvers)**, as the name suggests, are truly scientists or problem solvers because they use a high paced scientific method to diagnose a problem, determine the\n",
        "method and tools needed to solve it, explore what works, and try again\n",
        "\n",
        "> **Business Analyst (Communicators)**, are generally a little less technologically savvy but offer a deep knowledge of the processes involved in running a successful business, they are good at connecting this insight to real world strategies that enable businesses to become more successful.\n",
        "\n",
        "\n",
        "\n",
        "\n",
        "\n"
      ],
      "metadata": {
        "id": "EjYfdoXGWLtW"
      }
    },
    {
      "cell_type": "markdown",
      "source": [
        "###4. Tools and technology used\n",
        "\n"
      ],
      "metadata": {
        "id": "eSCY7kkJWUS9"
      }
    },
    {
      "cell_type": "markdown",
      "source": [
        "Here are some tools that Data Analysts can use:\n",
        "\n",
        "\n",
        "1.   Analytical tools: Python, R, SPSS\n",
        "2.   Database tools: MySQL, PostgreSQL, Big Query\n",
        "3.   Data Visualization tools: Tableau, Power BI, Google Data Studio\n",
        "4.   Data Integration tools: Pentaho, Talend\n",
        "\n"
      ],
      "metadata": {
        "id": "oUnGomZqWWDJ"
      }
    },
    {
      "cell_type": "markdown",
      "source": [
        "##Introduction to Python\n",
        "\n",
        "---\n",
        "\n"
      ],
      "metadata": {
        "id": "J7frIn7kWe2Z"
      }
    },
    {
      "cell_type": "markdown",
      "source": [
        "###What is Python?"
      ],
      "metadata": {
        "id": "De1XefwbWiNf"
      }
    },
    {
      "cell_type": "markdown",
      "source": [
        "- **Python** is the greatest computer programming language that enables you to fully harness the power of a computer, in a language that’s *clean* and *easy to understand.*\n",
        "- **Python** is a programming language conceived in the late 1980s by Guido van Rossum at Centrum Wiskunde & Informatica (CWI) in the Netherlands as a successor to the AB language."
      ],
      "metadata": {
        "id": "0Z0CV7pRWkQ2"
      }
    },
    {
      "cell_type": "markdown",
      "source": [
        "###Why?"
      ],
      "metadata": {
        "id": "UmurdHs5WnZn"
      }
    },
    {
      "cell_type": "markdown",
      "source": [
        "Concern:\n",
        "\n",
        "- Python is a programming language that is intended for general-purpose programming and belongs to the category of high-level programming language (easy to read and write by humans);\n",
        "- Python has a nice and simple design concept python;\n",
        "- Python code is also much less then code written in other programming languages such as C, C++, C# and Java. Python can increase productivity and save time for programmers;\n",
        "- Program written in python can run on almost ani operating system (Unix, Windows, Mac, etc);\n",
        "- Python has a lot of library support;\n",
        "- Finally, Python is free and open source, even though it is used for commercial purposes."
      ],
      "metadata": {
        "id": "TgS5c8IIWrDf"
      }
    },
    {
      "cell_type": "markdown",
      "source": [
        "###What can we do with Python?"
      ],
      "metadata": {
        "id": "kGQvZrcoWvH_"
      }
    },
    {
      "cell_type": "markdown",
      "source": [
        "1. ***Big Data***, python plays a substantial role in big data. It’s extensively used to analyze huge chunks of the available big data and extract specific information. There are countless libraries and free modules that enable fast, secure, and accurate processing of data. Example: CERN.\n",
        "2. ***Artificial Intelligence***, have you ever heard AI about recommendation playlists based on what you’ve previously listened to? for this example, Spotify, uses Python in their based code. Python is at the forefront of the way Internet will work in future.\n",
        "3. ***Web Development***, with python, a web developer has the ability to create dynamic and highly secure web apps.\n",
        "3. ***Gaming***, the primary use of Python in gaming is in the form of scripting, where Python can add customization to the core game engine."
      ],
      "metadata": {
        "id": "E1JoSMtqWyQb"
      }
    },
    {
      "cell_type": "markdown",
      "source": [
        "###Python in Numbers\n",
        "\n",
        "`source: https://www.jetbrains.com/lp/devecosystem-2023/python/`"
      ],
      "metadata": {
        "id": "qaty4PqsW6-1"
      }
    },
    {
      "cell_type": "markdown",
      "source": [
        "The survey results indicate a consistent growth in Python's adoption across various domains, with data analysis (47%), machine learning (42%), and web development (40%) emerging as the top use cases. This versatility underscores Python's resilience and adaptability, which make it a go-to choice for developers working across different industries.\n",
        "\n",
        "![image.png](data:image/png;base64,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)"
      ],
      "metadata": {
        "id": "-CjcnP9vW_16"
      }
    },
    {
      "cell_type": "markdown",
      "source": [
        "The survey results indicate a consistent growth in Python's adoption across various domains, with data analysis (47%), machine learning (42%), and web development (40%) emerging as the top use cases. This versatility underscores Python's resilience and adaptability, which make it a go-to choice for developers working across different industries.\n",
        "\n",
        "![image.png](data:image/png;base64,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)"
      ],
      "metadata": {
        "id": "DL6Qo1XxXEfG"
      }
    },
    {
      "cell_type": "markdown",
      "source": [
        "###Quotes"
      ],
      "metadata": {
        "id": "zeSkWg_dXT67"
      }
    },
    {
      "cell_type": "markdown",
      "source": [
        "*Python is fast enough for our site and allows us to produce maintainable features in record times, with a minimum of developers.* <br>\n",
        "**Cuong Do, Software Architect, YouTube.com** <br>\n",
        "<br>\n",
        "*Python plays a key role in our production pipeline. Without it a project the size of Star Wars: Episode II would have been very difficult to pull off. From crowd rendering to batch processing to compositing, Python binds all things together.* <br>\n",
        "**Tommy Burnette, Senior Technical Director, Industrial Light & Magic** <br>\n",
        "<br>\n",
        "*Python has been an important part of Google since the beginning, and remains so as the system grows and evolves. Today dozens of Google engineers use Python, and we're looking for more people with skills in this language.* <br>\n",
        "**Peter Norvig, Director of Search Quality, Google, Inc**\n"
      ],
      "metadata": {
        "id": "uXa_0DGIXcyZ"
      }
    },
    {
      "cell_type": "markdown",
      "source": [
        "###The Zen of Python"
      ],
      "metadata": {
        "id": "6hY0zS1LXiC4"
      }
    },
    {
      "cell_type": "code",
      "source": [
        "import this"
      ],
      "metadata": {
        "colab": {
          "base_uri": "https://localhost:8080/"
        },
        "id": "AJ0rqUBjXmKi",
        "outputId": "bc8896ef-6b84-4503-cc3b-b4fd9f17d7f5"
      },
      "execution_count": null,
      "outputs": [
        {
          "output_type": "stream",
          "name": "stdout",
          "text": [
            "The Zen of Python, by Tim Peters\n",
            "\n",
            "Beautiful is better than ugly.\n",
            "Explicit is better than implicit.\n",
            "Simple is better than complex.\n",
            "Complex is better than complicated.\n",
            "Flat is better than nested.\n",
            "Sparse is better than dense.\n",
            "Readability counts.\n",
            "Special cases aren't special enough to break the rules.\n",
            "Although practicality beats purity.\n",
            "Errors should never pass silently.\n",
            "Unless explicitly silenced.\n",
            "In the face of ambiguity, refuse the temptation to guess.\n",
            "There should be one-- and preferably only one --obvious way to do it.\n",
            "Although that way may not be obvious at first unless you're Dutch.\n",
            "Now is better than never.\n",
            "Although never is often better than *right* now.\n",
            "If the implementation is hard to explain, it's a bad idea.\n",
            "If the implementation is easy to explain, it may be a good idea.\n",
            "Namespaces are one honking great idea -- let's do more of those!\n"
          ]
        }
      ]
    },
    {
      "cell_type": "markdown",
      "source": [
        "##Python Syntax\n",
        "\n",
        "---\n",
        "\n"
      ],
      "metadata": {
        "id": "1s8FzeXVXtkt"
      }
    },
    {
      "cell_type": "markdown",
      "source": [
        "###Python Identifier / Variable"
      ],
      "metadata": {
        "id": "ICJJRBMZXxIB"
      }
    },
    {
      "cell_type": "markdown",
      "source": [
        "> A Python identifier is the name of a variable, function, class, module, or other. Python object, and a valid identifier conforms to the following rules:\n",
        "1. It starts with a letter A to Z, a to z, or an underscore (_)\n",
        "2. It includes zero or more letters, underscores, and digits (0 to 9)\n",
        "3. Spaces are not allowed in variable names, so we use underscores instead of spaces. For example, use student_name instead of \"student name\".\n",
        "4. Variable names cannot use existing python keywords such as if, while, for, etc. <br>\n",
        "***Notes: Python identifiers cannot contain characters such as @, $, and %.*** <br>\n",
        "\n",
        "> Python is a case-sensitive language, so Abc and abc different identifiers in Python. In addition, Python has the following naming convention:\n",
        "* Class names start with an uppercase letter and all other identifiers with a lowercase letter\n",
        "\n",
        "\n",
        "\n"
      ],
      "metadata": {
        "id": "_EG3vr46XyHE"
      }
    },
    {
      "cell_type": "markdown",
      "source": [
        "###Lines & Indentation"
      ],
      "metadata": {
        "id": "4EEpSvlwX4QT"
      }
    },
    {
      "cell_type": "markdown",
      "source": [
        "Indentation is indented syntax writing. indentation greatly affects the execution result. The program code that is on the same left side is read as a block, to create a sub-block it is enough to leave a space or tab to the right. <br>\n",
        "<br>\n",
        "```\n",
        "angka1 = 1\n",
        "angka2 = 2\n",
        "if angka1*angka2 == 2;\n",
        "  print(\"benar\") #indentation\n",
        "else\n",
        "  print(\"salah\") #indentation\n",
        "```\n",
        "<br>\n",
        "Why is indentation necessary? Because some commands like IF..ELSE require indentation to separate which part belongs to IF, and which part belongs to ELSE. that's why Python requires indentation\n",
        "\n",
        "\n",
        "\n"
      ],
      "metadata": {
        "id": "2cdZElZmX8HW"
      }
    },
    {
      "cell_type": "markdown",
      "source": [
        "###Mulitilines\n",
        "\n",
        "**Multiline statements in Python can terminate with a new line or the backslash (“\\”) character**"
      ],
      "metadata": {
        "id": "S_G55fMOX_8x"
      }
    },
    {
      "cell_type": "markdown",
      "source": [
        "Obviously you can place x1, x2, and x3 on the same line, so there is no reason to use three separate lines; however, this functionality is available in case you need to add a set of variables that do not fit on a single line.<br>\n",
        "\n",
        "You can specify multiple statements in one line by using a semicolon (“;”) to separate each statement, as shown here:<br>\n",
        "`a=10; b=5; print(a); print(a+b)` <br>\n",
        "The output of the preceding code snippet is here:<br>\n",
        "`10`<br>\n",
        "`15`<br>\n",
        "The use of semicolons and the continuation character are discouraged in Python.\n"
      ],
      "metadata": {
        "id": "HChr1kWMYB9l"
      }
    },
    {
      "cell_type": "markdown",
      "source": [
        "##Python Package & Library (PIP)\n",
        "`PIP is a package manager in python, pip is installed automatically if we use Python 2 >= 2.7.9 or Python 3 >= 3.4`\n",
        "\n",
        "---"
      ],
      "metadata": {
        "id": "hshrAE48YD_a"
      }
    },
    {
      "cell_type": "markdown",
      "source": [
        "In python, we have to call (import) the library so that we can use the library in our code.<br>\n",
        "<br>\n",
        "For example, if we want to use the function to open / write a csv file we must first import the csv package as follows:<br>\n",
        "\n",
        "`import csv`\n",
        "\n",
        "<br>If this module is not installed in our python environment, you can download it first with the PIP command:<br>\n",
        "`pip install python-csv`\n",
        "\n",
        "Run the command in your computer's command-line or in the cell.\n"
      ],
      "metadata": {
        "id": "u2qOElxZYIp5"
      }
    },
    {
      "cell_type": "markdown",
      "source": [
        "##Let's Practice\n",
        "\n",
        "Hari ini kita akan belajar mengenai tipe data di python\n",
        "---"
      ],
      "metadata": {
        "id": "5z5SO1K1cEHp"
      }
    },
    {
      "cell_type": "markdown",
      "source": [
        "###Data Types Python\n",
        "    > Text Type:str\n",
        "    > Numeric Types:int, float, complex\n",
        "    > Sequence Types:list, tuple, set, range\n",
        "    > Mapping Type:dict\n",
        "    > Set Types:set, frozenset\n",
        "    > Boolean Type:bool\n",
        "    > Binary Types:bytes, bytearray, memoryview\n",
        "    > None Type:NoneType"
      ],
      "metadata": {
        "id": "BT6_hsk2cdCa"
      }
    },
    {
      "cell_type": "markdown",
      "source": [
        "|Example|Data Type|\n",
        "|:-|-:|\n",
        "|x = \"Halo! Teman-teman\"|str|\n",
        "|x = 22|int|\n",
        "|x = 4.5|float|\n",
        "|x = 1j|complex|\n",
        "|x = [\"alpukat\", \"durian\", \"mangga\"]|list|\n",
        "|x = (\"alpukat\", \"durian\", \"mangga\")|tuple|\n",
        "|x = range(5)|range|\n",
        "|x = {\"nama\" : \"Angga\", \"Jurusan\" : \"Matematika\"}|dict|\n",
        "|x = {\"alupkat\", \"durian\", \"mangga\"}|set|\n",
        "|x = frozenset({\"alpukat\", \"durian\", \"mangga\"})|frozenset|\n",
        "|x = False/True|bool|\n",
        "|x = b\"Halo\"|bytes|\n",
        "|x = bytearray(4)|bytearray|\n",
        "|x = memoryview(bytes(4))|memoryview|\n",
        "|x = None|NoneType|"
      ],
      "metadata": {
        "id": "OrhtNHuQdbOy"
      }
    },
    {
      "cell_type": "markdown",
      "source": [
        "### Variable\n",
        "\n",
        "- Variables are containers for storing data values.\n",
        "- Python has no command for declaring a variable."
      ],
      "metadata": {
        "id": "BuUl9pt7d09V"
      }
    },
    {
      "cell_type": "code",
      "source": [
        "# Example of variable\n",
        "# Example of using print with semicolon (;)\n",
        "x=22\n",
        "y=\"Hello World\"\n",
        "z=4.56\n",
        "\n",
        "print (x)\n",
        "print (y)\n",
        "print (z)\n",
        "print (x);print(y);print(z)"
      ],
      "metadata": {
        "colab": {
          "base_uri": "https://localhost:8080/"
        },
        "id": "SFTVy8W4ewvs",
        "outputId": "ae7d1f81-68f9-4910-869f-1a5c519b5f1a"
      },
      "execution_count": null,
      "outputs": [
        {
          "output_type": "stream",
          "name": "stdout",
          "text": [
            "22\n",
            "Hello World\n",
            "4.56\n",
            "22\n",
            "Hello World\n",
            "4.56\n"
          ]
        }
      ]
    },
    {
      "cell_type": "code",
      "source": [
        "#Example of declare variable with comma (,)\n",
        "#Example of using print with comma (,)\n",
        "a,b=20,\"Hello\"\n",
        "print (a)\n",
        "print (a,b)\n",
        "print (type(a),type (b)) #Cara cek tipe data"
      ],
      "metadata": {
        "colab": {
          "base_uri": "https://localhost:8080/"
        },
        "id": "_FxdjOcggC4f",
        "outputId": "d0cc10c7-f55b-4f6c-f65c-9a8174879055"
      },
      "execution_count": null,
      "outputs": [
        {
          "output_type": "stream",
          "name": "stdout",
          "text": [
            "20\n",
            "20 Hello\n",
            "<class 'int'> <class 'str'>\n"
          ]
        }
      ]
    },
    {
      "cell_type": "code",
      "source": [
        "x=\"Muhammad Azfa Az-Dzikri\"\n",
        "print (x)\n",
        "print (type(x))\n"
      ],
      "metadata": {
        "colab": {
          "base_uri": "https://localhost:8080/"
        },
        "id": "4p7K0ZyYhAJR",
        "outputId": "dec00757-2e0d-4b3c-9373-342af52ebc11"
      },
      "execution_count": null,
      "outputs": [
        {
          "output_type": "stream",
          "name": "stdout",
          "text": [
            "Muhammad Azfa Az-Dzikri\n",
            "<class 'str'>\n"
          ]
        }
      ]
    },
    {
      "cell_type": "code",
      "source": [
        "r=s=t=\"Muhammad Azfa Az-Dzikri\" #Penamaan 1 objek dengan 3 variable\n",
        "print (s)"
      ],
      "metadata": {
        "colab": {
          "base_uri": "https://localhost:8080/"
        },
        "id": "wUQ32UZehire",
        "outputId": "26f3ba70-a16a-431b-ca3f-3f8a19e8ceec"
      },
      "execution_count": null,
      "outputs": [
        {
          "output_type": "stream",
          "name": "stdout",
          "text": [
            "Muhammad Azfa Az-Dzikri\n"
          ]
        }
      ]
    },
    {
      "cell_type": "code",
      "source": [
        "a,b,c,d,e,f=\"Python\" #Baca per karakter\n",
        "print (a,b)\n",
        "print (e,f)"
      ],
      "metadata": {
        "colab": {
          "base_uri": "https://localhost:8080/"
        },
        "id": "Tootmfrgh9ra",
        "outputId": "db8962c7-32a0-4807-ed9a-e8bd67030d92"
      },
      "execution_count": null,
      "outputs": [
        {
          "output_type": "stream",
          "name": "stdout",
          "text": [
            "P y\n",
            "o n\n"
          ]
        }
      ]
    },
    {
      "cell_type": "code",
      "source": [
        "m=str(4) #angka 4 sebagai '4'\n",
        "n=int(4) #angka 4 sebagai integer\n",
        "o=float(4) #angka 4 sebagai 4.0\n",
        "\n",
        "print(type(m));print(type(n));print(type(o))\n",
        "print(m);print(n);print(o)"
      ],
      "metadata": {
        "colab": {
          "base_uri": "https://localhost:8080/"
        },
        "id": "MN0WUnECiejM",
        "outputId": "c9c1b22d-dc11-4990-efd7-15861699fdfd"
      },
      "execution_count": null,
      "outputs": [
        {
          "output_type": "stream",
          "name": "stdout",
          "text": [
            "<class 'str'>\n",
            "<class 'int'>\n",
            "<class 'float'>\n",
            "4\n",
            "4\n",
            "4.0\n"
          ]
        }
      ]
    },
    {
      "cell_type": "markdown",
      "source": [
        "#Day 2\n"
      ],
      "metadata": {
        "id": "hoAIdiLrbeGb"
      }
    },
    {
      "cell_type": "markdown",
      "source": [
        "##Let's Practice"
      ],
      "metadata": {
        "id": "1oVZvj1sbtLO"
      }
    },
    {
      "cell_type": "markdown",
      "source": [
        "###Range in Python"
      ],
      "metadata": {
        "id": "S3yAAmhobudA"
      }
    },
    {
      "cell_type": "markdown",
      "source": [
        "The range() function returns a sequence of numbers, starting from 0 by default, and increments by 1 (by default), and stops before a specified number."
      ],
      "metadata": {
        "id": "A61PQN-bcGWW"
      }
    },
    {
      "cell_type": "code",
      "source": [
        "x=range(6) #0<=x<6 #nilai ke 1 dan 2 , nilai 6 nya ga dibawa karena range\n",
        "print (x)\n",
        "for n in x:\n",
        "  print(n)"
      ],
      "metadata": {
        "colab": {
          "base_uri": "https://localhost:8080/"
        },
        "id": "eD64mObWcID3",
        "outputId": "11ec2dd0-9358-4670-e790-e6722cbc5ac0"
      },
      "execution_count": null,
      "outputs": [
        {
          "output_type": "stream",
          "name": "stdout",
          "text": [
            "range(0, 6)\n",
            "0\n",
            "1\n",
            "2\n",
            "3\n",
            "4\n",
            "5\n"
          ]
        }
      ]
    },
    {
      "cell_type": "markdown",
      "source": [
        "***range(n):=0<=x<n***\n",
        "\n",
        "for example : range(5) means 0<=x<5"
      ],
      "metadata": {
        "id": "7cMCq7PAdNTo"
      }
    },
    {
      "cell_type": "markdown",
      "source": [
        "###Syntax function range\n",
        "range(start, stop, step) -> syntax Range, default step 1 if not define"
      ],
      "metadata": {
        "id": "NQQB56SldWsJ"
      }
    },
    {
      "cell_type": "code",
      "source": [
        "x=range(1,10,4) #2 itu angka 'beda' nya (selisih), urutan bilangan antara 1 dan 100 dengan selisih 4\n",
        "for n in x:\n",
        "  print(n)\n"
      ],
      "metadata": {
        "colab": {
          "base_uri": "https://localhost:8080/"
        },
        "id": "VebZKEvfdl8o",
        "outputId": "cd3b189a-47fe-4f7a-f079-6b442824b8e5"
      },
      "execution_count": null,
      "outputs": [
        {
          "output_type": "stream",
          "name": "stdout",
          "text": [
            "1\n",
            "5\n",
            "9\n"
          ]
        }
      ]
    },
    {
      "cell_type": "markdown",
      "source": [
        "###Numeric Type"
      ],
      "metadata": {
        "id": "DMnu3-z8esal"
      }
    },
    {
      "cell_type": "markdown",
      "source": [
        "***INT*** or integer, is a whole number, positive or negative, without decimals, of unlimited length.\n",
        "\n",
        "***FLOAT*** or \"floating point number\" is a number, positive or negative, containing one or more decimals.\n",
        "\n",
        "***COMPLEX*** numbers are written with a \"j\" as the imaginary part"
      ],
      "metadata": {
        "id": "pRYVIIdDe7By"
      }
    },
    {
      "cell_type": "code",
      "source": [
        "a=100 # a adalah integer\n",
        "b=13.89756 #b adalah bilangan desimal\n",
        "c=5j #c adalah bilangan complex\n",
        "print (a);print(type(a))\n",
        "print (b);print(type(b))\n",
        "print (c);print(type(c))"
      ],
      "metadata": {
        "colab": {
          "base_uri": "https://localhost:8080/"
        },
        "id": "xWAgZ8NjfmRk",
        "outputId": "c8a2f903-5179-4305-fe5d-c4874c93d90b"
      },
      "execution_count": null,
      "outputs": [
        {
          "output_type": "stream",
          "name": "stdout",
          "text": [
            "100\n",
            "<class 'int'>\n",
            "13.89756\n",
            "<class 'float'>\n",
            "5j\n",
            "<class 'complex'>\n"
          ]
        }
      ]
    },
    {
      "cell_type": "code",
      "source": [
        "x=10 #integer\n",
        "y=15.5 #float\n",
        "\n",
        "#convert/casting dari integer ke float\n",
        "p=float (x)\n",
        "\n",
        "#convert/casting dari float ke integer\n",
        "q=int(y)\n",
        "\n",
        "#convert/casting dari integer ke complex\n",
        "r=complex(x)\n",
        "\n",
        "print (p);print(q);print(r)\n",
        "print (type(p));print (type(q));print (type(r))\n"
      ],
      "metadata": {
        "colab": {
          "base_uri": "https://localhost:8080/"
        },
        "id": "swrG41thgV6g",
        "outputId": "2813e9e5-bc86-4d06-eba2-5fb4e6277cc0"
      },
      "execution_count": null,
      "outputs": [
        {
          "output_type": "stream",
          "name": "stdout",
          "text": [
            "10.0\n",
            "15\n",
            "(10+0j)\n",
            "<class 'float'>\n",
            "<class 'int'>\n",
            "<class 'complex'>\n"
          ]
        }
      ]
    },
    {
      "cell_type": "markdown",
      "source": [
        "###Python Aritmethics Operator"
      ],
      "metadata": {
        "id": "RlYApfCAihyM"
      }
    },
    {
      "cell_type": "markdown",
      "source": [
        "'Aritmetic operators are used with numeric values to perform common mathematical operation'"
      ],
      "metadata": {
        "id": "Mr8JYJb5im7m"
      }
    },
    {
      "cell_type": "code",
      "source": [
        "x=6; y=20\n",
        "\n",
        "print(\"Addition:\",x+y) #penjumlahan\n",
        "print(\"Subtraction:\",x-y) #pengurangan\n",
        "print(\"Multiplication:\",x*y) #perkalian\n",
        "print(\"Division:\",x/y) #pembagian\n",
        "print(\"Modulus:\",x%y) #modulo\n",
        "print(\"Exponentiation:\",y**x) #perpangkatan\n",
        "print(\"Floor Division:\",y//x) #pembagian dengan pembulatan"
      ],
      "metadata": {
        "colab": {
          "base_uri": "https://localhost:8080/"
        },
        "id": "PQuX-7NZjjie",
        "outputId": "7667aaf6-c365-4775-82fd-079488c13bea"
      },
      "execution_count": null,
      "outputs": [
        {
          "output_type": "stream",
          "name": "stdout",
          "text": [
            "Addition: 26\n",
            "Subtraction: -14\n",
            "Multiplication: 120\n",
            "Division: 0.3\n",
            "Modulus: 6\n",
            "Exponentiation: 64000000\n",
            "Floor Division: 3\n"
          ]
        }
      ]
    },
    {
      "cell_type": "markdown",
      "source": [
        "###Python Assignment Operators <br>"
      ],
      "metadata": {
        "id": "M5F8R4w2ks8r"
      }
    },
    {
      "cell_type": "markdown",
      "source": [
        "'Assignment operators are used to assign values to variable'"
      ],
      "metadata": {
        "id": "G53MoLiNkxjw"
      }
    },
    {
      "cell_type": "markdown",
      "source": [
        "|Operator|Example|Same As|\n",
        "|:-|:-|-:|\n",
        "|=|x = 5|x = 5|\n",
        "|+=|x += 3|x = x + 3|\n",
        "|-=|x -= 3|x = x - 3|\n",
        "|*=|x *= 3|x = x * 3|\n",
        "|/=|x /= 3|x = x / 3|\n",
        "|%=|x %= 3|x = x % 3|\n",
        "|//=|x //= 3|x = x // 3|\n",
        "|*=|x *= 3|x = x ** 3|\n",
        "|&=|x &= 3|x = x & 3|\n",
        "|^=|x ^= 3|x = x ^ 3|\n",
        "|>>=|x >>= 3|x = x >> 3|\n",
        "|<<=|x <<= 3|x = x << 3|"
      ],
      "metadata": {
        "id": "sf2ikW60lCKU"
      }
    },
    {
      "cell_type": "code",
      "source": [
        "x=10\n",
        "x+=5 #menambahkan x dengan 5 sehingga nilai x menjadi 10+5\n",
        "print (x)"
      ],
      "metadata": {
        "colab": {
          "base_uri": "https://localhost:8080/"
        },
        "id": "oNoIvpo5lFuB",
        "outputId": "4971c2ed-e5bb-412b-969d-28f8e846dff7"
      },
      "execution_count": null,
      "outputs": [
        {
          "output_type": "stream",
          "name": "stdout",
          "text": [
            "15\n"
          ]
        }
      ]
    },
    {
      "cell_type": "markdown",
      "source": [
        "###String"
      ],
      "metadata": {
        "id": "3oDFVXQcl4Qx"
      }
    },
    {
      "cell_type": "markdown",
      "source": [
        "'Strings in python are surrounded by either single quotation ('text') marks, or double quotation (\"text\") marks'"
      ],
      "metadata": {
        "id": "IC0N92Gul6Tm"
      }
    },
    {
      "cell_type": "code",
      "source": [
        "#string di python menggunakan kutip dua\n",
        "a=\"Azfa\"\n",
        "\n",
        "#menggunakan kutip satu\n",
        "b='Az-Dzikri'\n",
        "\n",
        "print(type(a));print (type(b))"
      ],
      "metadata": {
        "colab": {
          "base_uri": "https://localhost:8080/"
        },
        "id": "UTiqfjFpmH6I",
        "outputId": "c84024ee-e8cd-4d30-873e-b21ca26ab6db"
      },
      "execution_count": null,
      "outputs": [
        {
          "output_type": "stream",
          "name": "stdout",
          "text": [
            "<class 'str'>\n",
            "<class 'str'>\n"
          ]
        }
      ]
    },
    {
      "cell_type": "code",
      "source": [
        "#membuat paragraf\n",
        "paragraf='''Lorem ipsum dolor sit amet,\n",
        "consectetur adipiscing elit,\n",
        "Vestibulum malesuada,\n",
        "ligula a consectetur venenatis,\n",
        "augue metus tincidunt turpis,\n",
        "nec efficitur urna ante vitae dolor. ''' #bisa menggunakan triple single quote atau double quote\n",
        "print (paragraf)"
      ],
      "metadata": {
        "colab": {
          "base_uri": "https://localhost:8080/"
        },
        "id": "hzb5Ca7mmq1K",
        "outputId": "f2f9dbd6-9591-4098-dbab-e57888aabf14"
      },
      "execution_count": null,
      "outputs": [
        {
          "output_type": "stream",
          "name": "stdout",
          "text": [
            "Lorem ipsum dolor sit amet,\n",
            "consectetur adipiscing elit,\n",
            "Vestibulum malesuada,\n",
            "ligula a consectetur venenatis,\n",
            "augue metus tincidunt turpis, \n",
            "nec efficitur urna ante vitae dolor. \n"
          ]
        }
      ]
    },
    {
      "cell_type": "code",
      "source": [
        "paragraf2=\"Lorem ipsum dolor sit amet,\\\n",
        "consectetur adipiscing elit,\\\n",
        "Vestibulum malesuada,\\\n",
        "ligula a consectetur venenatis,\\\n",
        "augue metus tincidunt turpis, \\\n",
        "nec efficitur urna ante vitae dolor\"\n",
        "\n",
        "print(paragraf2)"
      ],
      "metadata": {
        "colab": {
          "base_uri": "https://localhost:8080/"
        },
        "id": "XX4AF2Lrndfh",
        "outputId": "c0b80fa7-898e-4d01-ad56-03a4a40283a5"
      },
      "execution_count": null,
      "outputs": [
        {
          "output_type": "stream",
          "name": "stdout",
          "text": [
            "Lorem ipsum dolor sit amet,consectetur adipiscing elit,Vestibulum malesuada,ligula a consectetur venenatis,augue metus tincidunt turpis, nec efficitur urna ante vitae dolor\n"
          ]
        }
      ]
    },
    {
      "cell_type": "code",
      "source": [
        "#beberapa case yang ada di string\n",
        "nama=\"Azfa\"\n",
        "print(type(nama)) #untuk menngetahui type data\n",
        "print (len(nama)) #untuk menghitung jumlah karakter(panjang kata)\n",
        "print(nama) #untuk melihat value dari variabel nama\n",
        "print(nama[3]) #untuk membaca karakter ke empat berdasarkan value dari variabel nama, kenapa ke empat? karena mulai hitungnya dari 0 (0,1,2,3)\n",
        "print(nama[1:3]) #titik dua mendefinisikan sebagai range, nilai ke 1 dan 2 , nilaike 3 nya ga dibawa karena range\n",
        "print (nama[-3:-2]) #tanda negatif disini mengartikan bahwa python membaca karakter dari belakang\n",
        "print(nama+\"Rifa\") #menjumlahkan kata\n",
        "print(nama+\" \"+\"Rifa\") #menjumlahkan kata dengan spasi\n",
        "print(nama*3) #perkalian nama\n",
        "print(nama+\" Rifa\") #menjumlahkan kata dengan spasi"
      ],
      "metadata": {
        "colab": {
          "base_uri": "https://localhost:8080/"
        },
        "id": "GPehlJaooe3U",
        "outputId": "74aad201-8d6e-4165-8a32-9e58e63a5c00"
      },
      "execution_count": null,
      "outputs": [
        {
          "output_type": "stream",
          "name": "stdout",
          "text": [
            "<class 'str'>\n",
            "4\n",
            "Azfa\n",
            "a\n",
            "zf\n",
            "z\n",
            "AzfaRifa\n",
            "Azfa Rifa\n",
            "AzfaAzfaAzfa\n",
            "Azfa Rifa\n"
          ]
        }
      ]
    },
    {
      "cell_type": "code",
      "source": [
        "data=\"latihan Python\"\n",
        "nilai=\"75\"\n",
        "spasi=\" \"\n",
        "nama='Someone'\n",
        "print (data) # value dari variabel data\n",
        "print(len(data)) #menghitung panjang kata\n",
        "print(type(nilai)) #cek tipe data dari suatu variabel\n",
        "\n",
        "print(data.upper()) #membuat value menjadi kapital semua\n",
        "print(data.capitalize()) #membuat value huruf pertama menjadi kapital dari setiap kalimat\n",
        "print(data.title()) #membuat value huruf pertama menjadi kapital dari setiap kata\n",
        "print(data.isspace()) #cek variabel data adalah spasi/tidak\n",
        "print(data.isnumeric()) #cek variabel data adalah numeric/tidak\n",
        "print(data.swapcase()) #merubah yang kapital menjadi tidak kapital dan sebaliknya\n",
        "print(nilai*3) #disini sebagai string\n",
        "print(\"Python\" in data) #cek apakah kata \"python\" ada di variabel data\n",
        "print(\"SQL\" not in data) #cek kata \"sql\" tidak ada di variabel data\n"
      ],
      "metadata": {
        "colab": {
          "base_uri": "https://localhost:8080/"
        },
        "id": "lagwXbPqswfn",
        "outputId": "ceb6a842-e369-4380-f3f6-3e9d01608296"
      },
      "execution_count": null,
      "outputs": [
        {
          "output_type": "stream",
          "name": "stdout",
          "text": [
            "latihan Python\n",
            "14\n",
            "<class 'str'>\n",
            "LATIHAN PYTHON\n",
            "Latihan python\n",
            "Latihan Python\n",
            "False\n",
            "False\n",
            "LATIHAN pYTHON\n",
            "757575\n",
            "True\n",
            "True\n",
            "False\n"
          ]
        }
      ]
    },
    {
      "cell_type": "code",
      "source": [
        "variabel=\"Training Python\"\n",
        "print(variabel.find(\"n\")) #melihat index untuk huruf n ada di indeks ke berapa\n",
        "print(variabel.find(\"n\",7)) #sama kaya diatas tapi di hitungnya setelah index ke 7"
      ],
      "metadata": {
        "colab": {
          "base_uri": "https://localhost:8080/"
        },
        "id": "3Ljme0XRxhQr",
        "outputId": "f54f1cfa-a743-4e3d-a32f-76fac290008c"
      },
      "execution_count": null,
      "outputs": [
        {
          "output_type": "stream",
          "name": "stdout",
          "text": [
            "4\n",
            "14\n"
          ]
        }
      ]
    },
    {
      "cell_type": "code",
      "source": [
        "number=\"123\"\n",
        "number1=\"ab\"\n",
        "print(number.zfill(10)) #membuat total length menjadi 10, sehingga ditambah 0 didepannya (z=zero)\n",
        "print(number1.zfill(5)) #membuat total length menjadi 5, sehingga ditambah 0 didepannya (z=zero)\n"
      ],
      "metadata": {
        "colab": {
          "base_uri": "https://localhost:8080/"
        },
        "id": "s-TcRRE7ys-z",
        "outputId": "5e02e7da-2fe7-4d24-8692-d9628f1c3d69"
      },
      "execution_count": null,
      "outputs": [
        {
          "output_type": "stream",
          "name": "stdout",
          "text": [
            "0000000123\n",
            "000ab\n"
          ]
        }
      ]
    },
    {
      "cell_type": "code",
      "source": [
        "title=\"latihan\"\n",
        "title1=\"training\"\n",
        "print(title.center(10,\"-\")) #membuat karakter dengan length 10 dan menambah \"-\" untuk mengisi sisanya\n",
        "print(title1.center(10,\"-\")) #sama kaya atas, kalo genap pas kanan kirinya, kalo ganjil akan lebih banyak di kanan\n",
        "print(title.replace('a','x')) #mengganti karakter a menjadi x\n",
        "print (title.rjust(10,\"1\"))"
      ],
      "metadata": {
        "colab": {
          "base_uri": "https://localhost:8080/"
        },
        "id": "VdgG04yvz0ta",
        "outputId": "f5dc2db1-af99-44a6-9422-6a1dca64ce84"
      },
      "execution_count": null,
      "outputs": [
        {
          "output_type": "stream",
          "name": "stdout",
          "text": [
            "-latihan--\n",
            "-training-\n",
            "lxtihxn\n",
            "111latihan\n"
          ]
        }
      ]
    },
    {
      "cell_type": "markdown",
      "source": [
        "#Day 3"
      ],
      "metadata": {
        "id": "92T9I-lQlE9U"
      }
    },
    {
      "cell_type": "markdown",
      "source": [
        "##Let's Practice"
      ],
      "metadata": {
        "id": "skIXTs7slIdz"
      }
    },
    {
      "cell_type": "markdown",
      "source": [
        "###String"
      ],
      "metadata": {
        "id": "KLCexi3clMUq"
      }
    },
    {
      "cell_type": "code",
      "source": [
        "import string\n",
        "\n",
        "kode='aiueo'\n",
        "kode2='12345'\n",
        "kalimat='Latihan Python'\n",
        "transform=kalimat.maketrans(kode,kode2) #salahsatu fungsi yang ada di package string\n",
        "print (kalimat)\n",
        "print(transform)\n",
        "print(kalimat.translate(transform))"
      ],
      "metadata": {
        "colab": {
          "base_uri": "https://localhost:8080/"
        },
        "id": "PfHqIjbzlNoS",
        "outputId": "bac34d9a-c649-4b7e-b18d-84d8f25ad147"
      },
      "execution_count": null,
      "outputs": [
        {
          "output_type": "stream",
          "name": "stdout",
          "text": [
            "Latihan Python\n",
            "{97: 49, 105: 50, 117: 51, 101: 52, 111: 53}\n",
            "L1t2h1n Pyth5n\n"
          ]
        }
      ]
    },
    {
      "cell_type": "code",
      "source": [
        "usia=20\n",
        "text=\"Nama saya Rifa, umur saya {}\"\n",
        "print(text.format(usia))"
      ],
      "metadata": {
        "colab": {
          "base_uri": "https://localhost:8080/"
        },
        "id": "gx23i-6knb-8",
        "outputId": "e0fbc9bf-7040-4939-9b78-fe9647e375e8"
      },
      "execution_count": null,
      "outputs": [
        {
          "output_type": "stream",
          "name": "stdout",
          "text": [
            "Nama saya Rifa, umur saya 20\n"
          ]
        }
      ]
    },
    {
      "cell_type": "code",
      "source": [
        "qty=6\n",
        "product_no=567\n",
        "harga=100000\n",
        "order=\"saya mau membeli {} buah produk {} dengan harga {}\"\n",
        "print(order.format(qty,product_no,harga)) #urutannya harus sesuai"
      ],
      "metadata": {
        "colab": {
          "base_uri": "https://localhost:8080/"
        },
        "id": "mw67GfDjoH2s",
        "outputId": "2e8f197e-263d-43b0-d888-667608d38920"
      },
      "execution_count": null,
      "outputs": [
        {
          "output_type": "stream",
          "name": "stdout",
          "text": [
            "saya mau membeli 6 buah produk 567 dengan harga 100000\n"
          ]
        }
      ]
    },
    {
      "cell_type": "code",
      "source": [
        "qty=6\n",
        "product_no=567\n",
        "harga=100000\n",
        "order=\"saya mau membeli {1} buah produk {2} dengan harga {0}\" #isi bracket dengan index\n",
        "print(order.format(harga,qty,product_no))"
      ],
      "metadata": {
        "colab": {
          "base_uri": "https://localhost:8080/"
        },
        "id": "qpctDnmSo-ri",
        "outputId": "e10f8175-8f48-4c6a-e2b8-ad7b9c023c39"
      },
      "execution_count": null,
      "outputs": [
        {
          "output_type": "stream",
          "name": "stdout",
          "text": [
            "saya mau membeli 6 buah produk 567 dengan harga 100000\n"
          ]
        }
      ]
    },
    {
      "cell_type": "markdown",
      "source": [
        "####String Method"
      ],
      "metadata": {
        "id": "Ugr22KzOp7a9"
      }
    },
    {
      "cell_type": "markdown",
      "source": [
        "`Python has a set of built-in methods that you can use on strings.` <br>\n",
        "**Note:** All string methods return new values. They do not change the original string.\n",
        "\n",
        "    - capitalize():\tConverts the first character to upper case\n",
        "    - casefold():\tConverts string into lower case\n",
        "    - center():\tReturns a centered string\n",
        "    - count():\tReturns the number of times a specified value occurs in a string\n",
        "    - encode():\tReturns an encoded version of the string\n",
        "    - endswith():\tReturns true if the string ends with the specified value\n",
        "    - expandtabs():\tSets the tab size of the string\n",
        "    - find():\tSearches the string for a specified value and returns the position of where it was found\n",
        "    - format():\tFormats specified values in a string\n",
        "    - format_map():\tFormats specified values in a string\n",
        "    - index():\tSearches the string for a specified value and returns the position of where it was found\n",
        "    - isalnum():\tReturns True if all characters in the string are alphanumeric\n",
        "    - isalpha():\tReturns True if all characters in the string are in the alphabet\n",
        "    - isdecimal():\tReturns True if all characters in the string are decimals\n",
        "    - isdigit():\tReturns True if all characters in the string are digits\n",
        "    - isidentifier():\tReturns True if the string is an identifier\n",
        "    - islower():\tReturns True if all characters in the string are lower case\n",
        "    - isnumeric():\tReturns True if all characters in the string are numeric\n",
        "    - isprintable():\tReturns True if all characters in the string are printable\n",
        "    - isspace():\tReturns True if all characters in the string are whitespaces\n",
        "    - istitle():\tReturns True if the string follows the rules of a title\n",
        "    - isupper():\tReturns True if all characters in the string are upper case\n",
        "    - join():\tJoins the elements of an iterable to the end of the string\n",
        "    - ljust():\tReturns a left justified version of the string\n",
        "    - lower():\tConverts a string into lower case\n",
        "    - lstrip():\tReturns a left trim version of the string\n",
        "    - maketrans():\tReturns a translation table to be used in translations\n",
        "    - partition():\tReturns a tuple where the string is parted into three parts\n",
        "    - replace():\tReturns a string where a specified value is replaced with a specified value\n",
        "    - rfind():\tSearches the string for a specified value and returns the last position of where it was found\n",
        "    - rindex():\tSearches the string for a specified value and returns the last position of where it was found\n",
        "    - rjust():\tReturns a right justified version of the string\n",
        "    - rpartition():\tReturns a tuple where the string is parted into three parts\n",
        "    - rsplit():\tSplits the string at the specified separator, and returns a list\n",
        "    - rstrip():\tReturns a right trim version of the string\n",
        "    - split():\tSplits the string at the specified separator, and returns a list\n",
        "    - splitlines():\tSplits the string at line breaks and returns a list\n",
        "    - startswith():\tReturns true if the string starts with the specified value\n",
        "    - strip():\tReturns a trimmed version of the string\n",
        "    - swapcase():\tSwaps cases, lower case becomes upper case and vice versa\n",
        "    - title():\tConverts the first character of each word to upper case\n",
        "    - translate():\tReturns a translated string\n",
        "    - upper():\tConverts a string into upper case\n",
        "    - zfill():\tFills the string with a specified number of 0 values at the beginning"
      ],
      "metadata": {
        "id": "i1JWKZQnqSL6"
      }
    },
    {
      "cell_type": "markdown",
      "source": [
        "###Boolean\n",
        "Booleans represent one of two values: ***True*** or ***False***."
      ],
      "metadata": {
        "id": "VPB0UNwxr1vt"
      }
    },
    {
      "cell_type": "markdown",
      "source": [
        "#### Python Comparison Operators\n",
        "`Comparison operators are used to compare two values:`\n",
        "\n",
        "|Operator |Name| Example|\n",
        "|:-|:-|-:|\n",
        "|==|Equal|\tx == y|\n",
        "|!=|Not equal|\tx != y|\n",
        "|>| Greater than|\tx > y|\n",
        "|<|Less than|\tx < y|\n",
        "|>=\t|Greater than or equal to|\tx >= y|\n",
        "|<=\t|Less than or equal to|\tx <= y|"
      ],
      "metadata": {
        "id": "D_1OaF2XsGbj"
      }
    },
    {
      "cell_type": "code",
      "source": [
        "print (10<9)\n",
        "print(10==9)\n",
        "print(10>9)"
      ],
      "metadata": {
        "colab": {
          "base_uri": "https://localhost:8080/"
        },
        "id": "De4mNpU9sK9C",
        "outputId": "9cd947fb-c9ec-42f0-c843-61cba86093ec"
      },
      "execution_count": null,
      "outputs": [
        {
          "output_type": "stream",
          "name": "stdout",
          "text": [
            "False\n",
            "False\n",
            "True\n"
          ]
        }
      ]
    },
    {
      "cell_type": "code",
      "source": [
        "#contoh sederhana if else\n",
        "\n",
        "a=5\n",
        "b=7\n",
        "\n",
        "if b>a:\n",
        "  print(\"b lebih besar dari a\")\n",
        "else:\n",
        "  print(\"b lebih kecil dari a\")"
      ],
      "metadata": {
        "colab": {
          "base_uri": "https://localhost:8080/"
        },
        "id": "7gsk_hP3s0SI",
        "outputId": "2ae60aff-b11f-4f16-e683-42953dc38894"
      },
      "execution_count": null,
      "outputs": [
        {
          "output_type": "stream",
          "name": "stdout",
          "text": [
            "b lebih besar dari a\n"
          ]
        }
      ]
    },
    {
      "cell_type": "code",
      "source": [
        "#beberapa case dengan output boolean TRUE\n",
        "\n",
        "print(bool('Azfa'))\n",
        "print(bool(15))\n",
        "print(bool(['mangga','jeruk','apel']))"
      ],
      "metadata": {
        "colab": {
          "base_uri": "https://localhost:8080/"
        },
        "id": "CnZ5SNVptscv",
        "outputId": "abac9d78-e387-42c2-c55f-bf43cc98f813"
      },
      "execution_count": null,
      "outputs": [
        {
          "output_type": "stream",
          "name": "stdout",
          "text": [
            "True\n",
            "True\n",
            "True\n"
          ]
        }
      ]
    },
    {
      "cell_type": "code",
      "source": [
        "#beberapa case dengan output boolean FALSE\n",
        "\n",
        "print(bool(False))\n",
        "print(bool(None))\n",
        "print(bool(0))\n",
        "print(bool(''))\n",
        "print(bool({}))\n",
        "print(bool([]))"
      ],
      "metadata": {
        "colab": {
          "base_uri": "https://localhost:8080/"
        },
        "id": "lGve5VNJuOzf",
        "outputId": "d333db0b-9169-4a57-94ba-19af58f572ec"
      },
      "execution_count": null,
      "outputs": [
        {
          "output_type": "stream",
          "name": "stdout",
          "text": [
            "False\n",
            "False\n",
            "False\n",
            "False\n",
            "False\n",
            "False\n"
          ]
        }
      ]
    },
    {
      "cell_type": "code",
      "source": [],
      "metadata": {
        "id": "BMdg2BPUvVW1"
      },
      "execution_count": null,
      "outputs": []
    },
    {
      "cell_type": "markdown",
      "source": [
        "###None Value\n",
        "- The None keyword is used to define a null value, or no value at all.\n",
        "- None is not the same as 0, False, or an empty string. None is a data type of its own (NoneType) and only None can be None.`"
      ],
      "metadata": {
        "id": "gBb1RPU1vWKK"
      }
    },
    {
      "cell_type": "code",
      "source": [
        "a=None\n",
        "b=0\n",
        "c=False\n",
        "d=''\n",
        "print (type(a))\n",
        "print (type(b))\n",
        "print (type(c))\n",
        "print (type(d))"
      ],
      "metadata": {
        "colab": {
          "base_uri": "https://localhost:8080/"
        },
        "id": "3ep0da7lvoEk",
        "outputId": "f32c3680-7715-449d-9eea-bc7c3548e20c"
      },
      "execution_count": null,
      "outputs": [
        {
          "output_type": "stream",
          "name": "stdout",
          "text": [
            "<class 'NoneType'>\n",
            "<class 'int'>\n",
            "<class 'bool'>\n",
            "<class 'str'>\n"
          ]
        }
      ]
    },
    {
      "cell_type": "code",
      "source": [
        "x=None\n",
        "if x is True :\n",
        "  print (\"Do you think None is True?\")\n",
        "elif x is False:\n",
        "  print(\"Do you think None is False\")\n",
        "else:\n",
        "  print(\"None is not True or False, None is just None\")"
      ],
      "metadata": {
        "colab": {
          "base_uri": "https://localhost:8080/"
        },
        "id": "r6l5II7QwFVP",
        "outputId": "45782f1a-5564-4892-fe39-5f00017059a1"
      },
      "execution_count": null,
      "outputs": [
        {
          "output_type": "stream",
          "name": "stdout",
          "text": [
            "None is not True or False, None is just None\n"
          ]
        }
      ]
    },
    {
      "cell_type": "markdown",
      "source": [
        "###Python Collections (Array)"
      ],
      "metadata": {
        "id": "9JOWaY4rw735"
      }
    },
    {
      "cell_type": "markdown",
      "source": [
        "\n",
        "There are four collection data types in the Python programming language:\n",
        "\n",
        "- **List** is a collection which is ordered and changeable. Allows duplicate members.\n",
        "- **Tuple** is a collection which is ordered and unchangeable. Allows duplicate members.\n",
        "- **Set** is a collection which is unordered, unchangeable#, and unindexed. No duplicate members.\n",
        "- **Dictionary** is a collection which is ordered## and changeable. No duplicate members.\n",
        "\n",
        "*# Set items are unchangeable, but you can remove and/or add items whenever you like.* <br>\n",
        "*## As of Python version 3.7, dictionaries are ordered. In Python 3.6 and earlier, dictionaries are unordered*\n",
        "\n"
      ],
      "metadata": {
        "id": "2SUOqv4pxAB0"
      }
    },
    {
      "cell_type": "markdown",
      "source": [
        "####List\n",
        "\n",
        "`Lists are used to store multiple items in a single variable.`\n",
        "\n",
        "`Lists are one of 4 built-in data types in Python used to store collections of data, the other 3 are Tuple, Set, and Dictionary, all with different qualities and usage.`"
      ],
      "metadata": {
        "id": "9FJ386oTxqbF"
      }
    },
    {
      "cell_type": "code",
      "source": [
        "data=[75,'Nilai',80.6,50] #[] digunakan untuk tipe list dan bisa berisi beberapa tipe data\n",
        "print(data)\n",
        "print (type(data))\n",
        "print(data[0]) #membaca data pertama dari list yang ada(index 0)\n",
        "print(len(data)) #untuk menghitung jumlah value yang ada di list"
      ],
      "metadata": {
        "colab": {
          "base_uri": "https://localhost:8080/"
        },
        "id": "ywA_4MjMyCpX",
        "outputId": "9e2007f5-7dbd-4e35-b5df-90a603d153cb"
      },
      "execution_count": null,
      "outputs": [
        {
          "output_type": "stream",
          "name": "stdout",
          "text": [
            "[75, 'Nilai', 80.6, 50]\n",
            "<class 'list'>\n",
            "75\n",
            "4\n"
          ]
        }
      ]
    },
    {
      "cell_type": "markdown",
      "source": [
        "#####List item"
      ],
      "metadata": {
        "id": "1OXHpLIgy865"
      }
    },
    {
      "cell_type": "code",
      "source": [
        "nilai=[95,70,75,65,11]\n",
        "print(nilai[0]) #output berupa nilai pertama yang ada di list (index 0)\n",
        "print(nilai[0:2]) #output berupa nilai pertama dan kedua yang ada di list (index 0 dan 1)\n",
        "print(nilai[0:]) #output berupa nilai pertama sammpe nilai terakhir (index 0 sampai batas nilai terakhir)\n",
        "print(nilai[:2]) #output nilai pertama sampe batas nilai ke satu (index 0 sampe 2)\n",
        "print(nilai*3) #output nilai yang diulang 3x\n",
        "nilai[4]=120 #replace\n",
        "print(nilai)\n",
        "nilaibaru=nilai+[90,25,105] #menambahkan value dalam list lebih dari satu\n",
        "print(nilaibaru)\n",
        "nilai.append(900) #menambahkan sebuah value dalam list\n",
        "print(nilai)\n",
        "\n",
        "print('Nilai baru: ',nilaibaru)\n",
        "nilaibaru.sort() #mengurutkan nilai dalam list dari kecil ke besar(ascending)\n",
        "print('Nilai baru setelah di sort:',nilaibaru)\n",
        "nilaibaru.reverse() #mengurutkan nilai dalam list dari besar ke kecil (descending)\n",
        "print('Nilai baru besar ke kecil:',nilaibaru)"
      ],
      "metadata": {
        "colab": {
          "base_uri": "https://localhost:8080/"
        },
        "id": "_ihBelwqzESz",
        "outputId": "d948184e-4b78-40a1-8e3c-e42e10845ee9"
      },
      "execution_count": null,
      "outputs": [
        {
          "output_type": "stream",
          "name": "stdout",
          "text": [
            "95\n",
            "[95, 70]\n",
            "[95, 70, 75, 65, 11]\n",
            "[95, 70]\n",
            "[95, 70, 75, 65, 11, 95, 70, 75, 65, 11, 95, 70, 75, 65, 11]\n",
            "[95, 70, 75, 65, 120]\n",
            "[95, 70, 75, 65, 120, 90, 25, 105]\n",
            "[95, 70, 75, 65, 120, 900]\n",
            "Nilai baru:  [95, 70, 75, 65, 120, 90, 25, 105]\n",
            "Nilai baru setelah di sort: [25, 65, 70, 75, 90, 95, 105, 120]\n",
            "Nilai baru besar ke kecil: [120, 105, 95, 90, 75, 70, 65, 25]\n"
          ]
        }
      ]
    },
    {
      "cell_type": "code",
      "source": [
        "isi=['Sample','Training','Latihan']\n",
        "isi.sort() #mengurutkan sesuai abjad\n",
        "print(isi)\n",
        "nilai=[50,60,70]\n",
        "nilai.sort(reverse=True) #mengurutkan darri besar ke kecil\n",
        "print(nilai)"
      ],
      "metadata": {
        "colab": {
          "base_uri": "https://localhost:8080/"
        },
        "id": "xoj-k_Z5zIP9",
        "outputId": "1acbe1b2-e7a7-4c8b-cb76-6c9f083639ef"
      },
      "execution_count": null,
      "outputs": [
        {
          "output_type": "stream",
          "name": "stdout",
          "text": [
            "['Latihan', 'Sample', 'Training']\n",
            "[70, 60, 50]\n"
          ]
        }
      ]
    },
    {
      "cell_type": "code",
      "source": [
        "kata=['abc','ABD',\"aBe\",\"aBd\"]\n",
        "kata.sort()\n",
        "print(kata)\n",
        "kata.sort(key=str.lower)\n",
        "print(kata)"
      ],
      "metadata": {
        "colab": {
          "base_uri": "https://localhost:8080/"
        },
        "id": "zGSbuvu-4SU_",
        "outputId": "0f70ec3e-a3a1-48d2-9e87-45b1a7354a58"
      },
      "execution_count": null,
      "outputs": [
        {
          "output_type": "stream",
          "name": "stdout",
          "text": [
            "['ABD', 'aBd', 'aBe', 'abc']\n",
            "['abc', 'ABD', 'aBd', 'aBe']\n"
          ]
        }
      ]
    },
    {
      "cell_type": "code",
      "source": [
        "angka=[58,20,22,19,4,23]\n",
        "angka.append(78) #menambahkan sebuah angka di paling belakang\n",
        "print(angka)\n",
        "angka.insert(2,75) #menyisipkan angka sesuai yang diinginkan\n",
        "print(angka)\n",
        "angka[5]=20\n",
        "print(angka)\n",
        "print('Angka 20 ada sebanyak: ',angka.count(20))\n",
        "angka.remove(20)\n",
        "print(angka)\n",
        "angka.remove(20)\n",
        "print(angka)"
      ],
      "metadata": {
        "colab": {
          "base_uri": "https://localhost:8080/"
        },
        "id": "h23qLCDK50Ou",
        "outputId": "20225832-8acb-4503-a0c1-cba5eddb295c"
      },
      "execution_count": null,
      "outputs": [
        {
          "output_type": "stream",
          "name": "stdout",
          "text": [
            "[58, 20, 22, 19, 4, 23, 78]\n",
            "[58, 20, 75, 22, 19, 4, 23, 78]\n",
            "[58, 20, 75, 22, 19, 20, 23, 78]\n",
            "Angka 20 ada sebanyak:  2\n",
            "[58, 75, 22, 19, 20, 23, 78]\n",
            "[58, 75, 22, 19, 23, 78]\n"
          ]
        }
      ]
    },
    {
      "cell_type": "code",
      "source": [
        "data = [\"Sample\",[90,22,34,75],75.75]\n",
        "print(data[0])\n",
        "print(data[1])\n",
        "print(data[1][2]) #memnculkan data pada list dalam list (multi dimentional array)"
      ],
      "metadata": {
        "colab": {
          "base_uri": "https://localhost:8080/"
        },
        "id": "Vct5BzZW9bw6",
        "outputId": "b092bd87-9f37-46ad-f709-12fc6087bca4"
      },
      "execution_count": null,
      "outputs": [
        {
          "output_type": "stream",
          "name": "stdout",
          "text": [
            "Sample\n",
            "[90, 22, 34, 75]\n",
            "34\n"
          ]
        }
      ]
    },
    {
      "cell_type": "code",
      "source": [
        "judul = \"Latihan untuk Training Python\"\n",
        "print(judul.split(\" \")) #Melakukan split karakter terhadap variabel lalu membuat tipe data string menjadi bentuk list"
      ],
      "metadata": {
        "colab": {
          "base_uri": "https://localhost:8080/"
        },
        "id": "JmUO6PAz-QH8",
        "outputId": "9aea7a76-063b-42e6-f1c4-94c782b38917"
      },
      "execution_count": null,
      "outputs": [
        {
          "output_type": "stream",
          "name": "stdout",
          "text": [
            "['Latihan', 'untuk', 'Training', 'Python']\n"
          ]
        }
      ]
    },
    {
      "cell_type": "markdown",
      "source": [
        "#####List Method\n",
        "Method\tDescription\n",
        "    \n",
        "    - append()\tAdds an element at the end of the list\n",
        "    - clear()\tRemoves all the elements from the list\n",
        "    - copy()\tReturns a copy of the list\n",
        "    - count()\tReturns the number of elements with the specified value\n",
        "    - extend()\tAdd the elements of a list (or any iterable), to the end of the current list\n",
        "    - index()\tReturns the index of the first element with the specified value\n",
        "    - insert()\tAdds an element at the specified position\n",
        "    - pop()\tRemoves the element at the specified position\n",
        "    - remove()\tRemoves the item with the specified value\n",
        "    - reverse()\tReverses the order of the list\n",
        "    - sort()\tSorts the list"
      ],
      "metadata": {
        "id": "yf2RkYkU-jkj"
      }
    },
    {
      "cell_type": "markdown",
      "source": [
        "#Day 4"
      ],
      "metadata": {
        "id": "kt86abMVUV5J"
      }
    },
    {
      "cell_type": "markdown",
      "source": [
        "##Tuple"
      ],
      "metadata": {
        "id": "KdbpQFrMUZhn"
      }
    },
    {
      "cell_type": "markdown",
      "source": [
        "`Tuples are used to store multiple items in a single variable.`\n",
        "\n",
        "`Tuple is one of 4 built-in data types in Python used to store collections of data, the other 3 are Lit, Set, and Dictionary, all with different qualities and usage.`\n",
        "\n",
        "`A tuple is a collection which is orderes and unchangeable.`\n",
        "\n",
        "`Tuples are written with round brackets. \"( )\"`\n"
      ],
      "metadata": {
        "id": "66DGcWbUYmVX"
      }
    },
    {
      "cell_type": "code",
      "source": [
        "data=(4,60,25,39,18) #tuple menggunakan tanda kurung biasa\n",
        "print(data)\n",
        "print(len(data))\n",
        "print(type(data))"
      ],
      "metadata": {
        "colab": {
          "base_uri": "https://localhost:8080/"
        },
        "id": "WofXoAyVUPfR",
        "outputId": "f204fad8-4e8f-4d99-e457-4136d8eb3c1f"
      },
      "execution_count": null,
      "outputs": [
        {
          "output_type": "stream",
          "name": "stdout",
          "text": [
            "(4, 60, 25, 39, 18)\n",
            "5\n",
            "<class 'tuple'>\n"
          ]
        }
      ]
    },
    {
      "cell_type": "code",
      "source": [
        "#test tuple bisa dirubah atau tidak\n",
        "#print(data)\n",
        "#data[2]=20"
      ],
      "metadata": {
        "id": "45KHHgHJZt6W"
      },
      "execution_count": null,
      "outputs": []
    },
    {
      "cell_type": "code",
      "source": [
        "thistuple=(\"apple\") #ini bukan tuple\n",
        "print(type(thistuple))\n",
        "\n",
        "thistuple=(\"mango\",) #membuat tuple dengan 1 elemen di dalamnya\n",
        "print(type(thistuple))"
      ],
      "metadata": {
        "colab": {
          "base_uri": "https://localhost:8080/"
        },
        "id": "WmHRoeoUZz_-",
        "outputId": "647b724a-2565-4eb6-9ee5-b601e8f9082f"
      },
      "execution_count": null,
      "outputs": [
        {
          "output_type": "stream",
          "name": "stdout",
          "text": [
            "<class 'str'>\n",
            "<class 'tuple'>\n"
          ]
        }
      ]
    },
    {
      "cell_type": "code",
      "source": [
        "data=(1,2,3,4,5)\n",
        "print(data+(6,7,8)) #mebambahkan elemen dalam tuple\n",
        "\n",
        "month=(\"Jan\",\"Feb\",\"Mar\") #ini case yang string\n",
        "print(month+(\"Apr\",\"May\",\"Jun\"))"
      ],
      "metadata": {
        "colab": {
          "base_uri": "https://localhost:8080/"
        },
        "id": "poUY_tC-aQDB",
        "outputId": "914cc84b-ad4f-4c0d-e648-a2b184871d15"
      },
      "execution_count": null,
      "outputs": [
        {
          "output_type": "stream",
          "name": "stdout",
          "text": [
            "(1, 2, 3, 4, 5, 6, 7, 8)\n",
            "('Jan', 'Feb', 'Mar', 'Apr', 'May', 'Jun')\n"
          ]
        }
      ]
    },
    {
      "cell_type": "code",
      "source": [
        "isidata=(\"latihan\",\"python\",\"hari\",\"keempat\")\n",
        "print(type(isidata))\n",
        "separator=\"-\"\n",
        "hasil=separator.join(isidata) #menggabungkan elemen tuple sekaligus mengubah tipe datanya menjadi string\n",
        "print(hasil)\n",
        "print(type(hasil))"
      ],
      "metadata": {
        "colab": {
          "base_uri": "https://localhost:8080/"
        },
        "id": "VwxUMVg9bE5C",
        "outputId": "86fa00f5-6035-4147-c001-e41079d7c66e"
      },
      "execution_count": null,
      "outputs": [
        {
          "output_type": "stream",
          "name": "stdout",
          "text": [
            "<class 'tuple'>\n",
            "latihan-python-hari-keempat\n",
            "<class 'str'>\n"
          ]
        }
      ]
    },
    {
      "cell_type": "code",
      "source": [
        "data=(\"abc\", 30, True, 34.5, \"60\") #elemen tuple bisa berbagai macam tipe daya\n",
        "print(data)\n",
        "print(type(data))"
      ],
      "metadata": {
        "colab": {
          "base_uri": "https://localhost:8080/"
        },
        "id": "7QDlltP8cP_3",
        "outputId": "8d02633a-642b-4e12-fc99-e7da87f1892f"
      },
      "execution_count": null,
      "outputs": [
        {
          "output_type": "stream",
          "name": "stdout",
          "text": [
            "('abc', 30, True, 34.5, '60')\n",
            "<class 'tuple'>\n"
          ]
        }
      ]
    },
    {
      "cell_type": "code",
      "source": [
        "thistuple=tuple((\"Apple\", \"Mango\", \"Cherry\")) #mengubah tipe data variabel menjadi tuple\n",
        "print(thistuple)\n",
        "print(type(thistuple))"
      ],
      "metadata": {
        "colab": {
          "base_uri": "https://localhost:8080/"
        },
        "id": "pIJczvZaelKA",
        "outputId": "0b2a382d-b062-4361-c563-3f92c7b3cc6e"
      },
      "execution_count": null,
      "outputs": [
        {
          "output_type": "stream",
          "name": "stdout",
          "text": [
            "('Apple', 'Mango', 'Cherry')\n",
            "<class 'tuple'>\n"
          ]
        }
      ]
    },
    {
      "cell_type": "code",
      "source": [
        "thistuple=tuple((\"apple\"))\n",
        "print(thistuple)"
      ],
      "metadata": {
        "colab": {
          "base_uri": "https://localhost:8080/"
        },
        "id": "pvMQkzvse9CG",
        "outputId": "b0196548-d6b8-4b27-9c04-77c5fdc83be0"
      },
      "execution_count": null,
      "outputs": [
        {
          "output_type": "stream",
          "name": "stdout",
          "text": [
            "('a', 'p', 'p', 'l', 'e')\n"
          ]
        }
      ]
    },
    {
      "cell_type": "code",
      "source": [
        "thistuple=(\"apple\", \"banana\", \"cherry\", \"orange\", \"kiwi\", \"melon\", \"mango\")\n",
        "print(thistuple[-1])\n",
        "print(thistuple[2:5])"
      ],
      "metadata": {
        "colab": {
          "base_uri": "https://localhost:8080/"
        },
        "id": "zrjAArPhfIsi",
        "outputId": "764d5762-3e89-41b7-cdde-60cfa34e713d"
      },
      "execution_count": null,
      "outputs": [
        {
          "output_type": "stream",
          "name": "stdout",
          "text": [
            "mango\n",
            "('cherry', 'orange', 'kiwi')\n"
          ]
        }
      ]
    },
    {
      "cell_type": "code",
      "source": [
        "#update tuple\n",
        "x=(\"apple\", \"Banana\", \"Mango\")\n",
        "y=list(x) #convert tuple menjadi list\n",
        "\n",
        "y[1]=\"Kiwi\"\n",
        "x=tuple(y) #update data di list\n",
        "\n",
        "print(x)\n",
        "print(type(x)) #convert lagi menjadi tuple"
      ],
      "metadata": {
        "colab": {
          "base_uri": "https://localhost:8080/"
        },
        "id": "IsWYXGX2fd0F",
        "outputId": "506c8a1d-44be-48e7-ea5c-830c2e914e76"
      },
      "execution_count": null,
      "outputs": [
        {
          "output_type": "stream",
          "name": "stdout",
          "text": [
            "('apple', 'Kiwi', 'Mango')\n",
            "<class 'tuple'>\n"
          ]
        }
      ]
    },
    {
      "cell_type": "code",
      "source": [
        "x=(\"apple\",\"Banana\",\"Mango\")\n",
        "x.count('apple')"
      ],
      "metadata": {
        "colab": {
          "base_uri": "https://localhost:8080/"
        },
        "id": "8VyIfZ71f8iV",
        "outputId": "a711422d-52e6-40d5-e0b4-33f8c3827ded"
      },
      "execution_count": null,
      "outputs": [
        {
          "output_type": "execute_result",
          "data": {
            "text/plain": [
              "1"
            ]
          },
          "metadata": {},
          "execution_count": 13
        }
      ]
    },
    {
      "cell_type": "markdown",
      "source": [
        "###Set"
      ],
      "metadata": {
        "id": "_vnJJJ5lgL2T"
      }
    },
    {
      "cell_type": "markdown",
      "source": [
        "`Sets are used to store multiple items in a single variable.`\n",
        "\n",
        "`Set is one of 4 built-in data types in Python used to store collections of data, the other 3 are List, Tuple, and Dictionary, all with different qualities ad usage.`\n",
        "\n",
        "`A set is a collection which is unordered, unchangeable, and unindexed.`\n",
        "\n",
        "`Set are written with curly brackets. \"{}\"`\n",
        "\n",
        "*Note: set items are unchangeable, but you can remove items and add new items.*"
      ],
      "metadata": {
        "id": "epAjKcSgjqwv"
      }
    },
    {
      "cell_type": "code",
      "source": [
        "thisset={1,3,4} #tipe data set menggunakan tanda kurung kurawal{}\n",
        "print(thisset)\n",
        "print(type(thisset))"
      ],
      "metadata": {
        "colab": {
          "base_uri": "https://localhost:8080/"
        },
        "id": "wxswryE7kyrj",
        "outputId": "48b873a5-178d-4a8d-bf73-717941af32ba"
      },
      "execution_count": null,
      "outputs": [
        {
          "output_type": "stream",
          "name": "stdout",
          "text": [
            "{1, 3, 4}\n",
            "<class 'set'>\n"
          ]
        }
      ]
    },
    {
      "cell_type": "code",
      "source": [
        "thisset={1,1,2,2,3,4,5} #gabisa duplicate value\n",
        "print(thisset)\n",
        "print(len(thisset))"
      ],
      "metadata": {
        "colab": {
          "base_uri": "https://localhost:8080/"
        },
        "id": "hCZc_AEXENvc",
        "outputId": "f63fe4d0-a3cb-4135-ed51-1143298c61ae"
      },
      "execution_count": null,
      "outputs": [
        {
          "output_type": "stream",
          "name": "stdout",
          "text": [
            "{1, 2, 3, 4, 5}\n",
            "5\n"
          ]
        }
      ]
    },
    {
      "cell_type": "code",
      "source": [
        "set1={'abc',60,True,60.5,\"60\"} #set bisa terdiri atas berbagai macam tipe data\n",
        "print(type(set1))"
      ],
      "metadata": {
        "colab": {
          "base_uri": "https://localhost:8080/"
        },
        "id": "L5PFil2FEyb5",
        "outputId": "165b67d2-c605-4c07-921f-57274c5d5754"
      },
      "execution_count": null,
      "outputs": [
        {
          "output_type": "stream",
          "name": "stdout",
          "text": [
            "<class 'set'>\n"
          ]
        }
      ]
    },
    {
      "cell_type": "code",
      "source": [
        "data=set((\"Apple\",\"Banana\")) #mengubah tipe data tuple menjadi set\n",
        "print(data)\n",
        "print(type(data))"
      ],
      "metadata": {
        "colab": {
          "base_uri": "https://localhost:8080/"
        },
        "id": "G_CQ9JxtFCkc",
        "outputId": "5a6d9e2a-e697-4319-a32a-5635038b32de"
      },
      "execution_count": null,
      "outputs": [
        {
          "output_type": "stream",
          "name": "stdout",
          "text": [
            "{'Banana', 'Apple'}\n",
            "<class 'set'>\n"
          ]
        }
      ]
    },
    {
      "cell_type": "code",
      "source": [
        "#cek index di set\n",
        "data={'abc',60,True,60.5,\"60\"}\n",
        "print(data)\n",
        "#print(data[1]) gabisa"
      ],
      "metadata": {
        "colab": {
          "base_uri": "https://localhost:8080/"
        },
        "id": "i4n3bIWNFgO5",
        "outputId": "39e8afef-ceb7-4dcd-8280-91326af5693e"
      },
      "execution_count": null,
      "outputs": [
        {
          "output_type": "stream",
          "name": "stdout",
          "text": [
            "{True, 'abc', 60.5, 60, '60'}\n"
          ]
        }
      ]
    },
    {
      "cell_type": "markdown",
      "source": [
        "- You cannot access items in a set by referring to an index or key.\n",
        "- But you can loop through the set items using a for loop, or ask if a specified value is present in a set, by using the in keyword."
      ],
      "metadata": {
        "id": "xxr7HHCEF4j5"
      }
    },
    {
      "cell_type": "code",
      "source": [
        "thisset={\"apple\",\"Banana\",\"Mango\"}\n",
        "\n",
        "for x in thisset:\n",
        "  print(x)"
      ],
      "metadata": {
        "colab": {
          "base_uri": "https://localhost:8080/"
        },
        "id": "YQIbJnccGb3D",
        "outputId": "cf6bd13e-a3b1-4511-fd44-728c2b112cc5"
      },
      "execution_count": null,
      "outputs": [
        {
          "output_type": "stream",
          "name": "stdout",
          "text": [
            "Banana\n",
            "Mango\n",
            "apple\n"
          ]
        }
      ]
    },
    {
      "cell_type": "code",
      "source": [
        "this={\"apple\",\"Banana\",\"Mango\"}\n",
        "\n",
        "for x in this:\n",
        "  print(x,end=\" \")"
      ],
      "metadata": {
        "colab": {
          "base_uri": "https://localhost:8080/"
        },
        "id": "TcpuoMDZGqkS",
        "outputId": "e21391bd-b11f-4bab-88f7-25a83f111f4a"
      },
      "execution_count": null,
      "outputs": [
        {
          "output_type": "stream",
          "name": "stdout",
          "text": [
            "Banana Mango apple "
          ]
        }
      ]
    },
    {
      "cell_type": "code",
      "source": [
        "this={\"apple\",\"Banana\",\"Mango\"}\n",
        "print(\"Banana\" in this)"
      ],
      "metadata": {
        "colab": {
          "base_uri": "https://localhost:8080/"
        },
        "id": "7PScjn8bG2p2",
        "outputId": "06a1c17e-1a33-4331-fc05-3a8e36d700d5"
      },
      "execution_count": null,
      "outputs": [
        {
          "output_type": "stream",
          "name": "stdout",
          "text": [
            "True\n"
          ]
        }
      ]
    },
    {
      "cell_type": "code",
      "source": [
        "this={\"apple\",\"Banana\",\"Mango\"}\n",
        "this.add(\"Orange\") #menambahkan elemen di set\n",
        "print(this)"
      ],
      "metadata": {
        "colab": {
          "base_uri": "https://localhost:8080/"
        },
        "id": "M1Js_uoYHsn-",
        "outputId": "714d3052-f084-436f-8ce8-50dbea44f8f9"
      },
      "execution_count": null,
      "outputs": [
        {
          "output_type": "stream",
          "name": "stdout",
          "text": [
            "{'Banana', 'Mango', 'apple', 'Orange'}\n"
          ]
        }
      ]
    },
    {
      "cell_type": "code",
      "source": [
        "thisset={\"apple\",\"Banana\",\"Mango\"}\n",
        "buahlain={\"orange\",\"Avocado\"}\n",
        "lagi={\"pear\",\"melon\"}\n",
        "thisset.update(buahlain,lagi) #untuk gabungin 3 set\n",
        "print(thisset)"
      ],
      "metadata": {
        "colab": {
          "base_uri": "https://localhost:8080/"
        },
        "id": "a57wXA2wIFlL",
        "outputId": "ef583c86-819f-494f-ffdd-53130288536a"
      },
      "execution_count": null,
      "outputs": [
        {
          "output_type": "stream",
          "name": "stdout",
          "text": [
            "{'pear', 'orange', 'Banana', 'Avocado', 'melon', 'Mango', 'apple'}\n"
          ]
        }
      ]
    },
    {
      "cell_type": "code",
      "source": [
        "thisset={\"apple\",\"Banana\",\"Mango\"}\n",
        "buah_list={\"orange\",\"Avocado\"}\n",
        "lagi={\"pear\",\"melon\"}\n",
        "thisset.update(buah_list) #untuk gabungin 2 set\n",
        "print(thisset)"
      ],
      "metadata": {
        "colab": {
          "base_uri": "https://localhost:8080/"
        },
        "id": "MqyrL-cnIvxE",
        "outputId": "c1dae684-13ee-4b84-dbd3-f40808956e05"
      },
      "execution_count": null,
      "outputs": [
        {
          "output_type": "stream",
          "name": "stdout",
          "text": [
            "{'orange', 'Banana', 'Avocado', 'Mango', 'apple'}\n"
          ]
        }
      ]
    },
    {
      "cell_type": "code",
      "source": [
        "thisset={\"apple\",\"banana\",\"cherry\"}\n",
        "thisset.remove(\"banana\")\n",
        "print(thisset)"
      ],
      "metadata": {
        "colab": {
          "base_uri": "https://localhost:8080/"
        },
        "id": "WyvMdYQwI6_a",
        "outputId": "b33a481d-b893-4d60-f734-5dddddaa405f"
      },
      "execution_count": null,
      "outputs": [
        {
          "output_type": "stream",
          "name": "stdout",
          "text": [
            "{'cherry', 'apple'}\n"
          ]
        }
      ]
    },
    {
      "cell_type": "code",
      "source": [
        "thisset={\"apple\",\"banana\",\"cherry\"}\n",
        "thisset.discard(\"banana\") #kalo value gaada eror\n",
        "print(thisset)"
      ],
      "metadata": {
        "colab": {
          "base_uri": "https://localhost:8080/"
        },
        "id": "6yojqqQXJD6y",
        "outputId": "b405ef8c-8a3d-4f99-9136-623c4443b669"
      },
      "execution_count": null,
      "outputs": [
        {
          "output_type": "stream",
          "name": "stdout",
          "text": [
            "{'cherry', 'apple'}\n"
          ]
        }
      ]
    },
    {
      "cell_type": "code",
      "source": [
        "thisset={\"apple\",\"banana\",\"cherry\"}\n",
        "x=thisset.pop() #mendefinisikan ke variabel nilai yang di pop(yang terhapus)\n",
        "print(x) #menampilkan nilai yang terhapus\n",
        "print(type(x))\n",
        "print(thisset) #menampilkan set setelah ada nilai yang dihapus"
      ],
      "metadata": {
        "colab": {
          "base_uri": "https://localhost:8080/"
        },
        "id": "e_qscF9PJgzu",
        "outputId": "4cfb83ca-a0cd-46e2-cb67-c1b9851f62cf"
      },
      "execution_count": null,
      "outputs": [
        {
          "output_type": "stream",
          "name": "stdout",
          "text": [
            "cherry\n",
            "<class 'str'>\n",
            "{'banana', 'apple'}\n"
          ]
        }
      ]
    },
    {
      "cell_type": "code",
      "source": [
        "thisset={\"apple\",\"banana\",\"cherry\"}\n",
        "x=thisset.clear() #metode untuk menghapus semua item di set\n",
        "print(thisset)"
      ],
      "metadata": {
        "colab": {
          "base_uri": "https://localhost:8080/"
        },
        "id": "3eF9Lv8SKZtf",
        "outputId": "16638c46-7189-495c-d9b1-df62fc28dd90"
      },
      "execution_count": null,
      "outputs": [
        {
          "output_type": "stream",
          "name": "stdout",
          "text": [
            "set()\n"
          ]
        }
      ]
    },
    {
      "cell_type": "code",
      "source": [
        "thisset={\"apple\",\"banana\",\"cherry\"}\n",
        "del thisset #menghaous seluruh set, kalo di print ga keluar apa apa"
      ],
      "metadata": {
        "id": "y3F6wRQDKutr"
      },
      "execution_count": null,
      "outputs": []
    },
    {
      "cell_type": "markdown",
      "source": [
        "###Set Methods"
      ],
      "metadata": {
        "id": "9giQ0iLIgRTN"
      }
    },
    {
      "cell_type": "markdown",
      "source": [
        "Method\tDescription\n",
        "    \n",
        "    - add()\tAdds an element to the set\n",
        "    - clear() Removes all the elements from the set\n",
        "    - copy () Returns a copy of the set\n",
        "    - difference() Returns a set containing the difference between between two or more sets\n",
        "    - difference_update() Removes the items in this set that are also included in another, specified set\n",
        "    - discard() Remove the specified item\n",
        "    - intersection() Returns a set, that is the intersection of two othe sets\n",
        "    - intersection_update() Removes the items in this set that are ni present in other, specified set(s)\n",
        "    - isdisjoint() Returns whether two sets have a intersection or not\n",
        "    - issubset() Returns wheteher another set contains this set or not\n",
        "    - issuperset() Returns whether another set contains this set or not\n",
        "    - pop() Removes an element from the set\n",
        "    - remove() Removes the specified element"
      ],
      "metadata": {
        "id": "Y9w19tjYLHUl"
      }
    },
    {
      "cell_type": "markdown",
      "source": [
        "#Day 5"
      ],
      "metadata": {
        "id": "inLkbS1lgUMO"
      }
    },
    {
      "cell_type": "markdown",
      "source": [
        "##Let's Practice"
      ],
      "metadata": {
        "id": "RquZohMagXGc"
      }
    },
    {
      "cell_type": "markdown",
      "source": [
        "###Dictionary"
      ],
      "metadata": {
        "id": "eNfMHJs9gamF"
      }
    },
    {
      "cell_type": "markdown",
      "source": [
        "`Dictionaries are used to store data values in key:value pairs.`\n",
        "\n",
        "`A dictionary is a collection which is ordered*, changeable and do not allow duplicates.`"
      ],
      "metadata": {
        "id": "mnJRyWaDgo1I"
      }
    },
    {
      "cell_type": "code",
      "source": [
        "isi={'nilai':75, 'deskripsi':'Testing','hasil':50}\n",
        "print(isi)\n",
        "print(type(isi))\n",
        "print(isi.keys()) #untuk melihat key dalam dictionary\n",
        "print(isi.values()) #untuk melihat value dalam dictionary\n",
        "print(isi.items()) #untuk melihat elemen dalam dictionary berupa key, value\n",
        "print(len(isi))"
      ],
      "metadata": {
        "colab": {
          "base_uri": "https://localhost:8080/"
        },
        "id": "rr84-Vycgrs8",
        "outputId": "44affadd-f4d2-4f03-f371-897069cfcaf7"
      },
      "execution_count": null,
      "outputs": [
        {
          "output_type": "stream",
          "name": "stdout",
          "text": [
            "{'nilai': 75, 'deskripsi': 'Testing', 'hasil': 50}\n",
            "<class 'dict'>\n",
            "dict_keys(['nilai', 'deskripsi', 'hasil'])\n",
            "dict_values([75, 'Testing', 50])\n",
            "dict_items([('nilai', 75), ('deskripsi', 'Testing'), ('hasil', 50)])\n",
            "3\n"
          ]
        }
      ]
    },
    {
      "cell_type": "code",
      "source": [
        "#untuk melihat value berdasarkan key yang dipilih\n",
        "print(isi['deskripsi'])\n",
        "x=isi.get('deskripsi')\n",
        "print(x)"
      ],
      "metadata": {
        "colab": {
          "base_uri": "https://localhost:8080/"
        },
        "id": "hNJRn_xLiFHy",
        "outputId": "2e9ab13c-ffea-4243-8bee-fba0aaa7012a"
      },
      "execution_count": null,
      "outputs": [
        {
          "output_type": "stream",
          "name": "stdout",
          "text": [
            "Testing\n",
            "Testing\n"
          ]
        }
      ]
    },
    {
      "cell_type": "code",
      "source": [
        "isi={'nilai':75, 'deskripsi':'Testing', 'hasil':50, 'hasil':100} #dictionary tidak boleh memiliki key yang duplikat\n",
        "print(isi)\n",
        "print(type(isi))"
      ],
      "metadata": {
        "colab": {
          "base_uri": "https://localhost:8080/"
        },
        "id": "KNdyyuRPiiu9",
        "outputId": "dc0ea935-1bf9-4195-b5dc-872fdfffbb6d"
      },
      "execution_count": null,
      "outputs": [
        {
          "output_type": "stream",
          "name": "stdout",
          "text": [
            "{'nilai': 75, 'deskripsi': 'Testing', 'hasil': 100}\n",
            "<class 'dict'>\n"
          ]
        }
      ]
    },
    {
      "cell_type": "code",
      "source": [
        "isi[500]='sample' #menambahkan value baru dan memperhatikan bahwa key ga harus selalu string\n",
        "print(isi)"
      ],
      "metadata": {
        "colab": {
          "base_uri": "https://localhost:8080/"
        },
        "id": "tDkUvzJJjAnn",
        "outputId": "359f247b-f19e-4bd0-caaf-d961de4eaed7"
      },
      "execution_count": null,
      "outputs": [
        {
          "output_type": "stream",
          "name": "stdout",
          "text": [
            "{'nilai': 75, 'deskripsi': 'Testing', 'hasil': 100, 500: 'sample'}\n"
          ]
        }
      ]
    },
    {
      "cell_type": "code",
      "source": [
        "car={\n",
        "    'brand':'Ford',\n",
        "    'model':'Mustang',\n",
        "    'year':1964\n",
        "}\n",
        "\n",
        "x=car.keys()\n",
        "\n",
        "print(x) #sebelum ditambahkan value baru\n",
        "\n",
        "car['color']='white'\n",
        "\n",
        "print(x) #setelah ditambahkan value baru\n",
        "\n",
        "print(car)\n"
      ],
      "metadata": {
        "colab": {
          "base_uri": "https://localhost:8080/"
        },
        "id": "JhM8A1c0jdDU",
        "outputId": "3c0b5e81-3d83-4827-d848-495d09230ab6"
      },
      "execution_count": null,
      "outputs": [
        {
          "output_type": "stream",
          "name": "stdout",
          "text": [
            "dict_keys(['brand', 'model', 'year'])\n",
            "dict_keys(['brand', 'model', 'year', 'color'])\n",
            "{'brand': 'Ford', 'model': 'Mustang', 'year': 1964, 'color': 'white'}\n"
          ]
        }
      ]
    },
    {
      "cell_type": "code",
      "source": [
        "biodata={} #membuat dictionary dengan lebih dinamis menggunakan empty dictionary\n",
        "biodata['nama']='Rifa Nurussalaamah Komarudin'\n",
        "biodata['email']='rifaanrs@gmail.com'\n",
        "biodata['usia']=20\n",
        "print(biodata)\n",
        "\n",
        "biodata['usia']=21 #update value dari suatu key\n",
        "print(biodata)"
      ],
      "metadata": {
        "colab": {
          "base_uri": "https://localhost:8080/"
        },
        "id": "6FpWEvTNk6W8",
        "outputId": "792797c1-2eb3-4e92-ba40-cef65c685f45"
      },
      "execution_count": null,
      "outputs": [
        {
          "output_type": "stream",
          "name": "stdout",
          "text": [
            "{'nama': 'Rifa Nurussalaamah Komarudin', 'email': 'rifaanrs@gmail.com', 'usia': 20}\n",
            "{'nama': 'Rifa Nurussalaamah Komarudin', 'email': 'rifaanrs@gmail.com', 'usia': 21}\n"
          ]
        }
      ]
    },
    {
      "cell_type": "code",
      "source": [
        "x=set('tri')\n",
        "print(x)\n",
        "y=set([2,3,1,1])\n",
        "print(y)"
      ],
      "metadata": {
        "colab": {
          "base_uri": "https://localhost:8080/"
        },
        "id": "zJsl7lCNmziu",
        "outputId": "b714dd04-4734-498d-9249-2245c2aec71b"
      },
      "execution_count": null,
      "outputs": [
        {
          "output_type": "stream",
          "name": "stdout",
          "text": [
            "{'i', 'r', 't'}\n",
            "{1, 2, 3}\n"
          ]
        }
      ]
    },
    {
      "cell_type": "code",
      "source": [
        "z=dict(zip(x,y))\n",
        "print(z)\n",
        "print(type(z))"
      ],
      "metadata": {
        "id": "mJjqoXrJnL-S"
      },
      "execution_count": null,
      "outputs": []
    },
    {
      "cell_type": "code",
      "source": [
        "a=['a','b']\n",
        "b=[1,2]\n",
        "c=dict(zip(a,b))\n",
        "print(a);print(b);print(c)"
      ],
      "metadata": {
        "colab": {
          "base_uri": "https://localhost:8080/"
        },
        "id": "Vb3wa8AgoKdd",
        "outputId": "dd33c723-672f-4bd9-a980-05edff6fb1d7"
      },
      "execution_count": null,
      "outputs": [
        {
          "output_type": "stream",
          "name": "stdout",
          "text": [
            "['a', 'b']\n",
            "[1, 2]\n",
            "{'a': 1, 'b': 2}\n"
          ]
        }
      ]
    },
    {
      "cell_type": "markdown",
      "source": [
        "###Dictionary Method"
      ],
      "metadata": {
        "id": "aIjQKBJnn0gb"
      }
    },
    {
      "cell_type": "markdown",
      "source": [
        "Method\tDescription\n",
        "\n",
        "    - clear()\tRemoves all the elements from the dictionary\n",
        "    - copy()\tReturns a copy of the dictionary\n",
        "    - fromkeys()\tReturns a dictionary with the specified keys and value\n",
        "    - get()\tReturns the value of the specified key\n",
        "    - items()\tReturns a list containing a tuple for each key value pair\n",
        "    - keys()\tReturns a list containing the dictionary's keys\n",
        "    - pop()\tRemoves the element with the specified key\n",
        "    - popitem()\tRemoves the last inserted key-value pair\n",
        "    - setdefault()\tReturns the value of the specified key. If the key does not exist: insert the key, with the specified value\n",
        "    - update()\tUpdates the dictionary with the specified key-value pairs\n",
        "    - values()\tReturns a list of all the values in the dictionary"
      ],
      "metadata": {
        "id": "Fnq1Erkjocgc"
      }
    },
    {
      "cell_type": "markdown",
      "source": [
        "###Block Statement"
      ],
      "metadata": {
        "id": "548GZhPlp33c"
      }
    },
    {
      "cell_type": "markdown",
      "source": [
        "A block statement, or compound statement, lets you group any number of data definitions, declarations, and statements into one statement"
      ],
      "metadata": {
        "id": "SH9L4dg_p8B0"
      }
    },
    {
      "cell_type": "markdown",
      "source": [
        "####If Else Statement\n",
        "\n",
        "The if-else statement is used to execute both the true part and the false part of a given condition."
      ],
      "metadata": {
        "id": "roT_GhL0qE6S"
      }
    },
    {
      "cell_type": "code",
      "source": [
        "a=115\n",
        "\n",
        "if a>100:\n",
        "  print('a is big number') #output jika a memenuhi kondisi pertama\n",
        "else:\n",
        "  print('a is small number') #output jika a tidak memenuhi kondisi pertama"
      ],
      "metadata": {
        "colab": {
          "base_uri": "https://localhost:8080/"
        },
        "id": "erJdoGW_qPkG",
        "outputId": "1b05b050-2eae-4543-cf77-5d46ba8209b4"
      },
      "execution_count": null,
      "outputs": [
        {
          "output_type": "stream",
          "name": "stdout",
          "text": [
            "a is big number\n"
          ]
        }
      ]
    },
    {
      "cell_type": "code",
      "source": [
        "#if else untuk 2 kondisi\n",
        "\n",
        "m=100\n",
        "\n",
        "if m<100:\n",
        "  print('small number')\n",
        "elif m>100:\n",
        "  print('medium number')\n",
        "else:\n",
        "  print('big number')"
      ],
      "metadata": {
        "colab": {
          "base_uri": "https://localhost:8080/"
        },
        "id": "22cYXuh-ru4m",
        "outputId": "8b19ba37-c49d-4f49-fbc1-e6332a5a6a22"
      },
      "execution_count": null,
      "outputs": [
        {
          "output_type": "stream",
          "name": "stdout",
          "text": [
            "big number\n"
          ]
        }
      ]
    },
    {
      "cell_type": "code",
      "source": [
        "#if else dengan 2 kondisi, dan variabel yang didefinisikan memenuhi 2 kondisi tersebut\n",
        "\n",
        "n=50\n",
        "if n<100: #kondisi 1\n",
        "  print('small number')\n",
        "elif n<150: #kondisi 2\n",
        "  print('medium number')\n",
        "else: #kondisi 3\n",
        "  print('big number')"
      ],
      "metadata": {
        "colab": {
          "base_uri": "https://localhost:8080/"
        },
        "id": "Dkv3l22EsoW4",
        "outputId": "69092bc4-ea52-4c0a-c3e5-5cc7642fa9d4"
      },
      "execution_count": null,
      "outputs": [
        {
          "output_type": "stream",
          "name": "stdout",
          "text": [
            "small number\n"
          ]
        }
      ]
    },
    {
      "cell_type": "code",
      "source": [
        "#if else untuk string\n",
        "\n",
        "isi='mobil'\n",
        "\n",
        "if 'm' in isi:\n",
        "  print('terdapa huruf a')\n",
        "else:\n",
        "  print('tidak terdapat huruf a')"
      ],
      "metadata": {
        "colab": {
          "base_uri": "https://localhost:8080/"
        },
        "id": "XPk_2AkBuLXr",
        "outputId": "8e196dc6-3ce9-47cb-f45c-a35646ed0b5e"
      },
      "execution_count": null,
      "outputs": [
        {
          "output_type": "stream",
          "name": "stdout",
          "text": [
            "terdapa huruf a\n"
          ]
        }
      ]
    },
    {
      "cell_type": "code",
      "source": [
        "#if else membandingkan 2 variabel\n",
        "bilangan1= 35\n",
        "bilangan2= 20\n",
        "if bilangan1==bilangan2:\n",
        "  print('bilangan 1 sama dengan bilangan 2')\n",
        "else:\n",
        "  print('bilangan 1 tidak sama dengan bilangan 2')"
      ],
      "metadata": {
        "colab": {
          "base_uri": "https://localhost:8080/"
        },
        "id": "Y6Vk0fRNvSrX",
        "outputId": "066c449d-a46c-433a-920a-8fc66e9b2905"
      },
      "execution_count": null,
      "outputs": [
        {
          "output_type": "stream",
          "name": "stdout",
          "text": [
            "bilangan 1 tidak sama dengan bilangan 2\n"
          ]
        }
      ]
    },
    {
      "cell_type": "code",
      "source": [
        "x=0\n",
        "y=7\n",
        "\n",
        "if x<0 and y<0:\n",
        "  print('x dan y bilangan negatif')\n",
        "elif x<0 and y>0:\n",
        "  print('x bilangan negatif dan y bilangan positif')\n",
        "elif x>0 and y<0:\n",
        "  print('x bilangan positif dan y bilangan negarif')\n",
        "elif x>0 and y>0:\n",
        "  print('x dan y bilangan positif')\n",
        "elif x==0 and y==0:\n",
        "  print('keduanya 0')\n",
        "else:\n",
        "  print('salah satunya ada yang 0')"
      ],
      "metadata": {
        "colab": {
          "base_uri": "https://localhost:8080/"
        },
        "id": "WRQwsAMLwGJx",
        "outputId": "5c000482-f8d1-42b4-dcf4-0c0245b84143"
      },
      "execution_count": null,
      "outputs": [
        {
          "output_type": "stream",
          "name": "stdout",
          "text": [
            "salah satunya ada yang 0\n"
          ]
        }
      ]
    },
    {
      "cell_type": "markdown",
      "source": [
        "####For Statement"
      ],
      "metadata": {
        "id": "6KFbuq3RyyyR"
      }
    },
    {
      "cell_type": "markdown",
      "source": [
        "A control flow statement that is used to repeatedly execute a group of statements as long as the condition is satisfied"
      ],
      "metadata": {
        "id": "PJsXcWEpy4C9"
      }
    },
    {
      "cell_type": "code",
      "source": [
        "for x in range (1,6):\n",
        "  print(x)"
      ],
      "metadata": {
        "id": "hTvNYr4vzRwd"
      },
      "execution_count": null,
      "outputs": []
    },
    {
      "cell_type": "code",
      "source": [
        "for nilai in range (2,11,2): #kita tentukan batas awal dan akhir serta beda range yang digunakan\n",
        "  print(nilai)"
      ],
      "metadata": {
        "colab": {
          "base_uri": "https://localhost:8080/"
        },
        "id": "l6pge3Wezu5O",
        "outputId": "b6311fae-c42b-4082-adc5-29b9ea234268"
      },
      "execution_count": null,
      "outputs": [
        {
          "output_type": "stream",
          "name": "stdout",
          "text": [
            "2\n",
            "4\n",
            "6\n",
            "8\n",
            "10\n"
          ]
        }
      ]
    },
    {
      "cell_type": "code",
      "source": [
        "for nilai in range (10,1,-2): #kita tentukan batas awal dan akhir serta beda range yang digunakan\n",
        "  print(nilai)"
      ],
      "metadata": {
        "colab": {
          "base_uri": "https://localhost:8080/"
        },
        "id": "ccWX_l9H0IBS",
        "outputId": "5291959b-f247-4913-98a4-43bd41d170e4"
      },
      "execution_count": null,
      "outputs": [
        {
          "output_type": "stream",
          "name": "stdout",
          "text": [
            "10\n",
            "8\n",
            "6\n",
            "4\n",
            "2\n"
          ]
        }
      ]
    },
    {
      "cell_type": "code",
      "source": [
        "#for untuk string\n",
        "\n",
        "isi='training'\n",
        "for x in isi:\n",
        "  print(x)"
      ],
      "metadata": {
        "colab": {
          "base_uri": "https://localhost:8080/"
        },
        "id": "4NzMTgT114U8",
        "outputId": "176c75d8-e7ed-4f80-d8f3-94e0f599350a"
      },
      "execution_count": null,
      "outputs": [
        {
          "output_type": "stream",
          "name": "stdout",
          "text": [
            "t\n",
            "r\n",
            "a\n",
            "i\n",
            "n\n",
            "i\n",
            "n\n",
            "g\n"
          ]
        }
      ]
    },
    {
      "cell_type": "code",
      "source": [
        "#for untuk list\n",
        "data=['testing','sample','coba']\n",
        "\n",
        "for x in data:\n",
        "  print(x)\n",
        "#mencetak indeks dan nilai secara bersamaan\n",
        "for idx, x in enumerate(data):\n",
        "  print(idx,x)"
      ],
      "metadata": {
        "colab": {
          "base_uri": "https://localhost:8080/"
        },
        "id": "tLTNk6b52lzu",
        "outputId": "a12e8626-428f-46c1-ad0c-6f65c9c992d7"
      },
      "execution_count": null,
      "outputs": [
        {
          "output_type": "stream",
          "name": "stdout",
          "text": [
            "testing\n",
            "sample\n",
            "coba\n",
            "0 testing\n",
            "1 sample\n",
            "2 coba\n"
          ]
        }
      ]
    },
    {
      "cell_type": "code",
      "source": [
        "buah=['apple','banana','mango']\n",
        "warna=['red','yellow','green']\n",
        "\n",
        "for buah, warna in zip(buah, warna):\n",
        "  print(f\"the color of{buah} is {warna}\")"
      ],
      "metadata": {
        "colab": {
          "base_uri": "https://localhost:8080/"
        },
        "id": "_fXIZ3uZ3UHx",
        "outputId": "eef83627-0a73-491c-8e0a-befa4dc56db5"
      },
      "execution_count": null,
      "outputs": [
        {
          "output_type": "stream",
          "name": "stdout",
          "text": [
            "the color ofapple is red\n",
            "the color ofbanana is yellow\n",
            "the color ofmango is green\n"
          ]
        }
      ]
    },
    {
      "cell_type": "code",
      "source": [
        "#for pada dictionary, ngebaca key\n",
        "\n",
        "member = {\"nama\":\"someone\",\"nilai\":75,\"kredit\":15000} #untuk membaca key dict\n",
        "print(member)\n",
        "\n",
        "print(\" \") #bertindak sebagai enter\n",
        "\n",
        "for k in member:\n",
        "    print(k)\n",
        "\n",
        "print(\"\\n\")\n",
        "\n",
        "for k in member:\n",
        "    print(member[k])\n",
        "\n",
        "print(\" \")\n",
        "\n",
        "for k in member:\n",
        "  print(k, \"=\", member[k])"
      ],
      "metadata": {
        "colab": {
          "base_uri": "https://localhost:8080/"
        },
        "id": "QFmDZSbx4Ypw",
        "outputId": "ee94d7bc-3dc0-4c3d-e3ee-efb96ac76358"
      },
      "execution_count": null,
      "outputs": [
        {
          "output_type": "stream",
          "name": "stdout",
          "text": [
            "{'nama': 'someone', 'nilai': 75, 'kredit': 15000}\n",
            " \n",
            "nama\n",
            "nilai\n",
            "kredit\n",
            "\n",
            "\n",
            "someone\n",
            "75\n",
            "15000\n",
            " \n",
            "nama = someone\n",
            "nilai = 75\n",
            "kredit = 15000\n"
          ]
        }
      ]
    },
    {
      "cell_type": "code",
      "source": [
        "#for pada dictionary, ngebaca key dan value\n",
        "\n",
        "member = {\"nama\":\"someone\",\"nilai\":75,\"kredit\":15000} #untuk membaca anggota list\n",
        "print(member)\n",
        "print(member.items())\n",
        "\n",
        "print(\" \")\n",
        "\n",
        "for (k,v) in member.items(): #menggunakan hasil dari member.items\n",
        "    print(k,\"=\",v)"
      ],
      "metadata": {
        "colab": {
          "base_uri": "https://localhost:8080/"
        },
        "id": "58HkkJx36ODG",
        "outputId": "628510a0-8ca0-4816-c5c2-d94fbc01b211"
      },
      "execution_count": null,
      "outputs": [
        {
          "output_type": "stream",
          "name": "stdout",
          "text": [
            "{'nama': 'someone', 'nilai': 75, 'kredit': 15000}\n",
            "dict_items([('nama', 'someone'), ('nilai', 75), ('kredit', 15000)])\n",
            " \n",
            "nama = someone\n",
            "nilai = 75\n",
            "kredit = 15000\n"
          ]
        }
      ]
    },
    {
      "cell_type": "markdown",
      "source": [
        "#Day 6"
      ],
      "metadata": {
        "id": "X4-8LsVdoTX5"
      }
    },
    {
      "cell_type": "markdown",
      "source": [
        "##Let's Practice"
      ],
      "metadata": {
        "id": "wdhR67PjoVvx"
      }
    },
    {
      "cell_type": "markdown",
      "source": [
        "###Block Statement"
      ],
      "metadata": {
        "id": "9CsaaosaoZm5"
      }
    },
    {
      "cell_type": "code",
      "source": [
        "print('Membuat Barisan Bilangan Ganjil atau Genap')\n",
        "\n",
        "print('\\nMasikan Nilai Awal dan Nilai Akhir(nilai_awal < nilai_akhir)')\n",
        "nilai_awal=int(input('Nilai Awal: '))\n",
        "nilai_akhir=int(input('Nilai Akhir: '))\n",
        "\n",
        "print('''\\nMau Barisan Bilangan Apa?\n",
        "1. Ganjil\n",
        "2. Genap''')\n",
        "\n",
        "pilihan=int(input('1 atau 2?'))\n",
        "\n",
        "if pilihan not in [1,2]:\n",
        "  print('Pilihan Salah!')\n",
        "else:\n",
        "  for x in range(nilai_awal,nilai_akhir+1):\n",
        "    if pilihan==1 and x % 2==1:\n",
        "      print(x, end=' ')\n",
        "    elif pilihan==2 and x % 2==0:\n",
        "      print(x, end=' ')"
      ],
      "metadata": {
        "colab": {
          "base_uri": "https://localhost:8080/"
        },
        "id": "OvXxEnjloeGF",
        "outputId": "5e883729-2804-4c83-a807-1d4e74b263fa"
      },
      "execution_count": null,
      "outputs": [
        {
          "output_type": "stream",
          "name": "stdout",
          "text": [
            "Membuat Barisan Bilangan Ganjil atau Genap\n",
            "\n",
            "Masikan Nilai Awal dan Nilai Akhir(nilai_awal < nilai_akhir)\n",
            "Nilai Awal: 3\n",
            "Nilai Akhir: 10\n",
            "\n",
            "Mau Barisan Bilangan Apa?\n",
            "1. Ganjil\n",
            "2. Genap\n",
            "1 atau 2?1\n",
            "3 5 7 9 "
          ]
        }
      ]
    },
    {
      "cell_type": "markdown",
      "source": [
        "####While Statement"
      ],
      "metadata": {
        "id": "tPqsAyBxuWNQ"
      }
    },
    {
      "cell_type": "markdown",
      "source": [
        "A while statement in python sets aside a block of code that is to be executed repeatedly until a condition is falsified."
      ],
      "metadata": {
        "id": "qChev55GugPh"
      }
    },
    {
      "cell_type": "code",
      "source": [
        "# while True:\n",
        "#  print('Welcome to Celerates Training') #gaakan berhenti, harus di stop"
      ],
      "metadata": {
        "id": "8AcdFOOGupCS"
      },
      "execution_count": null,
      "outputs": []
    },
    {
      "cell_type": "code",
      "source": [
        "angka=1\n",
        "\n",
        "while angka < 5:\n",
        "  print('Welcome to Celerates Training')\n",
        "  angka+=1"
      ],
      "metadata": {
        "colab": {
          "base_uri": "https://localhost:8080/"
        },
        "id": "t7vV1guUvI_h",
        "outputId": "3449a54f-0a2c-4153-a310-e5f291f5e112"
      },
      "execution_count": null,
      "outputs": [
        {
          "output_type": "stream",
          "name": "stdout",
          "text": [
            "Welcome to Celerates Training\n",
            "Welcome to Celerates Training\n",
            "Welcome to Celerates Training\n",
            "Welcome to Celerates Training\n"
          ]
        }
      ]
    },
    {
      "cell_type": "code",
      "source": [
        "angka=1\n",
        "\n",
        "while angka < 10:\n",
        "  print('Bilangan ke: ', angka)\n",
        "  angka+=2 #syarat supaya bisa berhenti\n",
        "else: #while bisa ditambahin blok else\n",
        "  print('Loop diakhiri dengan bilangan: ', angka)"
      ],
      "metadata": {
        "colab": {
          "base_uri": "https://localhost:8080/"
        },
        "id": "trzP_OEpwN-Z",
        "outputId": "6afcc101-08af-435e-ca40-12c8f9377a9c"
      },
      "execution_count": null,
      "outputs": [
        {
          "output_type": "stream",
          "name": "stdout",
          "text": [
            "Bilangan ke:  1\n",
            "Bilangan ke:  3\n",
            "Bilangan ke:  5\n",
            "Bilangan ke:  7\n",
            "Bilangan ke:  9\n",
            "Loop diakhiri dengan bilangan:  11\n"
          ]
        }
      ]
    },
    {
      "cell_type": "code",
      "source": [
        "import random\n",
        "\n",
        "jawaban=random.randint(1,10)\n",
        "tebakan=int(input('Pilih bilangan antara 1 - 10: '))\n",
        "\n",
        "while tebakan !=jawaban:\n",
        "  tebakan=int(input('Salah! Coba pilih lagi 1-104: '))\n",
        "\n",
        "print('Selamat! Tebakan Anda Benar')"
      ],
      "metadata": {
        "colab": {
          "base_uri": "https://localhost:8080/"
        },
        "id": "akBPo_--xgbs",
        "outputId": "cf14b21b-ce6b-49a3-aad7-470c4a396828"
      },
      "execution_count": null,
      "outputs": [
        {
          "output_type": "stream",
          "name": "stdout",
          "text": [
            "Pilih bilangan antara 1 - 10: 1\n",
            "Salah! Coba pilih lagi 1-10: 2\n",
            "Salah! Coba pilih lagi 1-10: 3\n",
            "Selamat! Tebakan Anda Benar\n"
          ]
        }
      ]
    },
    {
      "cell_type": "code",
      "source": [
        "import random as rd\n",
        "answer = rd.randint(1, 100)\n",
        "print(\"Tebak angka antara 1-100\")\n",
        "while True:\n",
        "    guess = int(input(\"Tebakan: \"))\n",
        "    if guess == answer:\n",
        "        print(\"Tebakan benar\", guess)\n",
        "        break\n",
        "    elif guess < answer:\n",
        "        print(guess, \"Tebakan terlalu kecil\")\n",
        "    else:\n",
        "        print(guess, \"Tebakan terlalu besar\")"
      ],
      "metadata": {
        "colab": {
          "base_uri": "https://localhost:8080/"
        },
        "id": "1OuSIcGbzuO1",
        "outputId": "fb0f447c-c46b-435d-a3ce-9641a9d919c0"
      },
      "execution_count": null,
      "outputs": [
        {
          "output_type": "stream",
          "name": "stdout",
          "text": [
            "Tebak angka antara 1-100\n",
            "Tebakan: 23\n",
            "23 Tebakan terlalu kecil\n",
            "Tebakan: 56\n",
            "56 Tebakan terlalu besar\n",
            "Tebakan: 45\n",
            "45 Tebakan terlalu besar\n",
            "Tebakan: 41\n",
            "41 Tebakan terlalu besar\n",
            "Tebakan: 39\n",
            "Tebakan benar 39\n"
          ]
        }
      ]
    },
    {
      "cell_type": "markdown",
      "source": [
        "####Exception Statement"
      ],
      "metadata": {
        "id": "YB_FMl7J15Df"
      }
    },
    {
      "cell_type": "markdown",
      "source": [
        "An event, which occurs during the execution of a program that disrupts the normal flow of the program's instructions"
      ],
      "metadata": {
        "id": "9Xw41NhT2JN0"
      }
    },
    {
      "cell_type": "code",
      "source": [
        "a=4\n",
        "b='test'\n",
        "# c=a+b\n",
        "# print(c)\n",
        "try:\n",
        "  c=a+b\n",
        "  print(c)\n",
        "except TypeError as error:\n",
        "  print('Error: ', error)\n",
        "finally:\n",
        "  print('success!')"
      ],
      "metadata": {
        "colab": {
          "base_uri": "https://localhost:8080/"
        },
        "id": "pG9Jlu202lHR",
        "outputId": "961311ce-b221-435b-8bb1-dbc718e809dd"
      },
      "execution_count": null,
      "outputs": [
        {
          "output_type": "stream",
          "name": "stdout",
          "text": [
            "Error:  unsupported operand type(s) for +: 'int' and 'str'\n",
            "success!\n"
          ]
        }
      ]
    },
    {
      "cell_type": "code",
      "source": [
        "isi=[1,2,3,4,5]\n",
        "#print(isi[6])\n",
        "\n",
        "try:\n",
        "  print(isi[6])\n",
        "except IndexError as a:\n",
        "  print('Error: ',a)\n",
        "except Exception as e:\n",
        "  print('Error: ',e)\n",
        "finally:\n",
        "  print('Done!')"
      ],
      "metadata": {
        "colab": {
          "base_uri": "https://localhost:8080/"
        },
        "id": "K4fEouUt6iG-",
        "outputId": "f475361d-a948-45d9-eaae-0a3862590294"
      },
      "execution_count": null,
      "outputs": [
        {
          "output_type": "stream",
          "name": "stdout",
          "text": [
            "Error:  list index out of range\n",
            "Done!\n"
          ]
        }
      ]
    },
    {
      "cell_type": "code",
      "source": [
        "while True:\n",
        "  try:\n",
        "    x=float(input('Masukan bilangan pertama: '))\n",
        "    y=float(input('Masukan Bilangan kedua: '))\n",
        "    result=x/y\n",
        "    print('Hasil Pembagiannya adalah:', result)\n",
        "    break\n",
        "  except ValueError:\n",
        "    print('Anda harus masukan bilangan')\n",
        "  except ZeroDivisionError:\n",
        "    print('Bilangan kedua tidak boleh nol')\n",
        "  except Exception as a:\n",
        "    print('Error:', a)"
      ],
      "metadata": {
        "colab": {
          "base_uri": "https://localhost:8080/"
        },
        "id": "fVTFNaTg8-ij",
        "outputId": "fab1a713-8847-44df-dc66-4932a1337b00"
      },
      "execution_count": null,
      "outputs": [
        {
          "output_type": "stream",
          "name": "stdout",
          "text": [
            "Masukan bilangan pertama: 1\n",
            "Masukan Bilangan kedua: 2\n",
            "Hasil Pembagiannya adalah: 0.5\n"
          ]
        }
      ]
    },
    {
      "cell_type": "markdown",
      "source": [
        "###Function"
      ],
      "metadata": {
        "id": "y_4oDGKH_6d5"
      }
    },
    {
      "cell_type": "markdown",
      "source": [
        "A function is a block of code which only runs when it is called"
      ],
      "metadata": {
        "id": "KYSbpkRG_9JJ"
      }
    },
    {
      "cell_type": "code",
      "source": [
        "def pesan():\n",
        "print('Welcome')\n",
        "return"
      ],
      "metadata": {
        "colab": {
          "base_uri": "https://localhost:8080/",
          "height": 106
        },
        "id": "wWrfYmbmAIS2",
        "outputId": "c80cdfec-e65e-406a-cc5b-cb5f35a21e95"
      },
      "execution_count": null,
      "outputs": [
        {
          "output_type": "error",
          "ename": "IndentationError",
          "evalue": "expected an indented block after function definition on line 1 (<ipython-input-26-6f561f6bf2e4>, line 2)",
          "traceback": [
            "\u001b[0;36m  File \u001b[0;32m\"<ipython-input-26-6f561f6bf2e4>\"\u001b[0;36m, line \u001b[0;32m2\u001b[0m\n\u001b[0;31m    print('Welcome')\u001b[0m\n\u001b[0m    ^\u001b[0m\n\u001b[0;31mIndentationError\u001b[0m\u001b[0;31m:\u001b[0m expected an indented block after function definition on line 1\n"
          ]
        }
      ]
    },
    {
      "cell_type": "code",
      "source": [
        "pesan()"
      ],
      "metadata": {
        "colab": {
          "base_uri": "https://localhost:8080/",
          "height": 141
        },
        "id": "cVOyF2VPCKh5",
        "outputId": "4407be2c-dc6b-49cb-a0bb-c13679836a03"
      },
      "execution_count": null,
      "outputs": [
        {
          "output_type": "error",
          "ename": "NameError",
          "evalue": "name 'pesan' is not defined",
          "traceback": [
            "\u001b[0;31m---------------------------------------------------------------------------\u001b[0m",
            "\u001b[0;31mNameError\u001b[0m                                 Traceback (most recent call last)",
            "\u001b[0;32m<ipython-input-22-ee798522992e>\u001b[0m in \u001b[0;36m<cell line: 1>\u001b[0;34m()\u001b[0m\n\u001b[0;32m----> 1\u001b[0;31m \u001b[0mpesan\u001b[0m\u001b[0;34m(\u001b[0m\u001b[0;34m)\u001b[0m\u001b[0;34m\u001b[0m\u001b[0;34m\u001b[0m\u001b[0m\n\u001b[0m",
            "\u001b[0;31mNameError\u001b[0m: name 'pesan' is not defined"
          ]
        }
      ]
    },
    {
      "cell_type": "code",
      "source": [
        "def perkalian(x,y):\n",
        "  print(x*y)"
      ],
      "metadata": {
        "id": "l_CUbl0DCNsE"
      },
      "execution_count": null,
      "outputs": []
    },
    {
      "cell_type": "code",
      "source": [
        "perkalian(2,7)"
      ],
      "metadata": {
        "colab": {
          "base_uri": "https://localhost:8080/"
        },
        "id": "FmuC8Xo4CTAz",
        "outputId": "938e289c-53fa-47b4-9bc1-5930471d2a00"
      },
      "execution_count": null,
      "outputs": [
        {
          "output_type": "stream",
          "name": "stdout",
          "text": [
            "14\n"
          ]
        }
      ]
    },
    {
      "cell_type": "code",
      "source": [
        "def message(pesan):\n",
        "  print(pesan)"
      ],
      "metadata": {
        "id": "On2fpsIWCVtK"
      },
      "execution_count": null,
      "outputs": []
    },
    {
      "cell_type": "code",
      "source": [
        "message('Selamat Datang') #jenis1\n",
        "message(pesan='Selamat datang') #jenis2"
      ],
      "metadata": {
        "colab": {
          "base_uri": "https://localhost:8080/"
        },
        "id": "ukPcym5bCj0l",
        "outputId": "6823a139-0342-4e92-a3c4-1c9419afdf1f"
      },
      "execution_count": null,
      "outputs": [
        {
          "output_type": "stream",
          "name": "stdout",
          "text": [
            "Selamat Datang\n",
            "Selamat datang\n"
          ]
        }
      ]
    },
    {
      "cell_type": "markdown",
      "source": [
        "#Day7"
      ],
      "metadata": {
        "id": "4vRTjbE9O1wF"
      }
    },
    {
      "cell_type": "markdown",
      "source": [
        "##Let's Practice"
      ],
      "metadata": {
        "id": "tk4Sy7GQO1C_"
      }
    },
    {
      "cell_type": "markdown",
      "source": [
        "###Function (Lanjutan)"
      ],
      "metadata": {
        "id": "s2LKBhIGO_xb"
      }
    },
    {
      "cell_type": "code",
      "source": [
        "def pembagian(x=1,y=1): #membuat default\n",
        "  return x/y\n",
        "\n",
        "print('Pembagian 20 dengan 3 adalah', pembagian(20,3))\n",
        "pembagian()\n",
        "pembagian(25)"
      ],
      "metadata": {
        "colab": {
          "base_uri": "https://localhost:8080/"
        },
        "id": "lswfWjTNPU9u",
        "outputId": "5d02e3f8-a2d9-4bcd-dc40-f6a6a78b5404"
      },
      "execution_count": null,
      "outputs": [
        {
          "output_type": "stream",
          "name": "stdout",
          "text": [
            "Pembagian 20 dengan 3 adalah 6.666666666666667\n"
          ]
        },
        {
          "output_type": "execute_result",
          "data": {
            "text/plain": [
              "25.0"
            ]
          },
          "metadata": {},
          "execution_count": 3
        }
      ]
    },
    {
      "cell_type": "code",
      "source": [
        "def nilai(x,y,z):\n",
        "  return(x+y)/z\n",
        "\n",
        "print(nilai(2,3,5))"
      ],
      "metadata": {
        "colab": {
          "base_uri": "https://localhost:8080/"
        },
        "id": "gjPmCvvuQK7N",
        "outputId": "9ea30db5-4d3d-40c4-a1ba-1f56974bc720"
      },
      "execution_count": null,
      "outputs": [
        {
          "output_type": "stream",
          "name": "stdout",
          "text": [
            "1.0\n"
          ]
        }
      ]
    },
    {
      "cell_type": "code",
      "source": [
        "def jumlah(x,y,z):\n",
        "  return x+y+z\n",
        "\n",
        "print(jumlah('20','35','45')) #kalo string jadinya nyatuin"
      ],
      "metadata": {
        "colab": {
          "base_uri": "https://localhost:8080/"
        },
        "id": "FYxbFQ2oQalO",
        "outputId": "df6a7234-af7a-4d70-b08b-02b5fab82585"
      },
      "execution_count": null,
      "outputs": [
        {
          "output_type": "stream",
          "name": "stdout",
          "text": [
            "203545\n"
          ]
        }
      ]
    },
    {
      "cell_type": "code",
      "source": [
        "def add_number(x,y):\n",
        "  result=x+y\n",
        "  return result\n",
        "\n",
        "num1=float(input(\"masukan nilai x:\"))\n",
        "num2=float(input(\"masukan nilai y:\"))\n",
        "\n",
        "sum=add_number(num1,num2)\n",
        "print('Jumlah dari x dan y adalah:' , sum)"
      ],
      "metadata": {
        "colab": {
          "base_uri": "https://localhost:8080/"
        },
        "id": "sWb1Zr34Q-HS",
        "outputId": "6ee47983-7a29-42fe-9721-c0283da03f96"
      },
      "execution_count": null,
      "outputs": [
        {
          "output_type": "stream",
          "name": "stdout",
          "text": [
            "masukan nilai x:10\n",
            "masukan nilai y:10\n",
            "20.0\n"
          ]
        }
      ]
    },
    {
      "cell_type": "code",
      "source": [
        "import math\n",
        "\n",
        "def hitung_keliling(jari_jari):\n",
        "  keliling=2*math.pi*jari_jari\n",
        "  return keliling\n",
        "\n",
        "def hitung_luas(jari_jari):\n",
        "  luas=math.pi*jari_jari*jari_jari\n",
        "  return luas\n",
        "\n",
        "r=float(input('Masukan panjang jari-jari lingkaran:'))\n",
        "\n",
        "kll=hitung_keliling(r)\n",
        "L=hitung_luas(r)\n",
        "\n",
        "print('Kelliling lingkaran adalah:', kll)\n",
        "print('Luas lingkaran adalah: ', L)"
      ],
      "metadata": {
        "colab": {
          "base_uri": "https://localhost:8080/"
        },
        "id": "fZNPndhjSBVx",
        "outputId": "766e1dca-0204-44c4-d3d1-be14cfee5894"
      },
      "execution_count": null,
      "outputs": [
        {
          "output_type": "stream",
          "name": "stdout",
          "text": [
            "Masukan panjang jari-jari lingkaran:10\n",
            "Kelliling lingkaran adalah: 62.83185307179586\n",
            "Luas lingkaran adalah:  314.1592653589793\n"
          ]
        }
      ]
    },
    {
      "cell_type": "code",
      "source": [
        "def hitung_luas_permukaan_tabung(jari_jari, tinggi):\n",
        "    luas_permukaan = 2 * math.pi * jari_jari * (jari_jari + tinggi)\n",
        "    return luas_permukaan\n",
        "\n",
        "def hitung_volume_tabung(jari_jari, tinggi):\n",
        "    volume = math.pi * jari_jari * jari_jari * tinggi\n",
        "    return volume\n",
        "\n",
        "r = float(input('Masukkan jari-jari tabung: '))\n",
        "t = float(input('Masukkan tinggi tabung: '))\n",
        "\n",
        "luas_permukaan = hitung_luas_permukaan_tabung(r, t)\n",
        "volume = hitung_volume_tabung(r, t)\n",
        "\n",
        "print('Luas permukaan tabung adalah', luas_permukaan)\n",
        "print('Volume tabung adalah', volume)"
      ],
      "metadata": {
        "colab": {
          "base_uri": "https://localhost:8080/"
        },
        "id": "M-1fZ4zcTRgs",
        "outputId": "bbe70f84-44bc-46dd-fbb5-185ea0cfa66d"
      },
      "execution_count": null,
      "outputs": [
        {
          "output_type": "stream",
          "name": "stdout",
          "text": [
            "Masukkan jari-jari tabung: 30\n",
            "Masukkan tinggi tabung: 10\n",
            "Luas permukaan tabung adalah 7539.822368615503\n",
            "Volume tabung adalah 28274.333882308136\n"
          ]
        }
      ]
    },
    {
      "cell_type": "code",
      "source": [
        "def jumlah(x,y):\n",
        "  if x.isdigit() & y.isdigit():\n",
        "    return int(x)+int(y)\n",
        "  else:\n",
        "    return 'Sorry, number only'\n",
        "\n",
        "  print(jumlah(\"2\",\"3\"))"
      ],
      "metadata": {
        "id": "8NIpX_NLUnlb"
      },
      "execution_count": null,
      "outputs": []
    },
    {
      "cell_type": "code",
      "source": [
        "def jumlah(x,y):\n",
        "  if isinstance(x,int) & isinstance(y,int):\n",
        "    return x+y\n",
        "  elif isinstance(x,str) & isinstance(y,str):\n",
        "    if x.isdigit() & y.isdigit():\n",
        "      return int(x)+int(y)\n",
        "    else:\n",
        "      return 'Sorry, number only'\n",
        "  elif isinstance(x,int) & isinstance(y,str):\n",
        "    if x.isdigit() & y.isdigit():\n",
        "      return int(x)+int(y)\n",
        "    else:\n",
        "      return 'Sorry, number only'\n",
        "  elif isinstance(x,str) & isinstance(y,int):\n",
        "    if x.isdigit() & y.isdigit():\n",
        "      return int(x)+int(y)\n",
        "    else:\n",
        "      return 'Sorry, number only'\n",
        "\n",
        "print(jumlah(3,4))\n",
        "print(jumlah('3','4'))\n",
        "print(jumlah('3a','4'))\n",
        "print(jumlah('3','4a'))\n",
        "print(jumlah('3a','4'))"
      ],
      "metadata": {
        "colab": {
          "base_uri": "https://localhost:8080/"
        },
        "id": "Hxq__GmOVx0y",
        "outputId": "3cc43eb3-0413-4a86-b985-7c221236e727"
      },
      "execution_count": null,
      "outputs": [
        {
          "output_type": "stream",
          "name": "stdout",
          "text": [
            "7\n",
            "7\n",
            "Sorry, number only\n",
            "Sorry, number only\n",
            "Sorry, number only\n"
          ]
        }
      ]
    },
    {
      "cell_type": "code",
      "source": [
        "#membuat function untuk tipe data yang memiliki banyak nilai\n",
        "def totaldata(nilai):\n",
        "  total=0\n",
        "  if isinstance(nilai, list)| isinstance(nilai,tuple):\n",
        "    for value in nilai:\n",
        "      total += value\n",
        "  return total\n",
        "\n",
        "  print(totaldata([1,2,3,4,5,6,7,8,9,10]))\n",
        "  print(totaldata(1,2,3,4,5))"
      ],
      "metadata": {
        "id": "M5Bgh-u4ZfKD"
      },
      "execution_count": null,
      "outputs": []
    },
    {
      "cell_type": "markdown",
      "source": [
        "###Lambda"
      ],
      "metadata": {
        "id": "eQPF5PG4beKz"
      }
    },
    {
      "cell_type": "markdown",
      "source": [
        "Lambda is a keyword in Python fot defining the anonymous function"
      ],
      "metadata": {
        "id": "K8fPDg2cbrma"
      }
    },
    {
      "cell_type": "code",
      "source": [
        "perkalian=lambda x,y: x*y;\n",
        "\n",
        "print(perkalian(5,4))\n",
        "print(perkalian(5,'a'))"
      ],
      "metadata": {
        "colab": {
          "base_uri": "https://localhost:8080/"
        },
        "id": "y7FgVVcrb6GV",
        "outputId": "90a37ed1-b298-4f03-8633-dd935ad50eba"
      },
      "execution_count": null,
      "outputs": [
        {
          "output_type": "stream",
          "name": "stdout",
          "text": [
            "20\n",
            "aaaaa\n"
          ]
        }
      ]
    },
    {
      "cell_type": "markdown",
      "source": [
        "###Class\n",
        "\n",
        "A class is a code template for creating objects. Objects have member variables and have behaviour associated with them. In python a class is created by the keyword class"
      ],
      "metadata": {
        "id": "RHQKwHBkc9Ch"
      }
    },
    {
      "cell_type": "code",
      "source": [
        "class biodata:\n",
        "  basicsalary=5000000\n",
        "\n",
        "  def isidata(self,nama,telp):\n",
        "    self.fullname=nama\n",
        "    self.phone=telp\n",
        "\n",
        "  def cetakdata(self):\n",
        "    print('Full Name:', self.fullname)\n",
        "    print('Phone Number:', self.phone)"
      ],
      "metadata": {
        "id": "WYMbukpudS5L"
      },
      "execution_count": null,
      "outputs": []
    },
    {
      "cell_type": "code",
      "source": [
        "data=biodata()\n",
        "\n",
        "data.isidata(\"Rifa\",\"12345678\")\n",
        "data.cetakdata()"
      ],
      "metadata": {
        "colab": {
          "base_uri": "https://localhost:8080/"
        },
        "id": "X_3x_KxHeEQO",
        "outputId": "f7f69de6-86c8-4c72-c981-8fd0a0921074"
      },
      "execution_count": null,
      "outputs": [
        {
          "output_type": "stream",
          "name": "stdout",
          "text": [
            "Full Name: Rifa\n",
            "Phone Number: 12345678\n"
          ]
        }
      ]
    },
    {
      "cell_type": "code",
      "source": [
        "data.email='rifaanurs@gmail.com' #untuk menambahkan properti\n",
        "hasattr(data,'Gender') #untuk cek properti gender ada/tidak\n",
        "hasattr(data,'Email')  #untuk cek properti email ada/tidak\n",
        "setattr(data,'Gender','Female') #untuk menambahkan properti gender dan objeknya nya"
      ],
      "metadata": {
        "id": "FGVH2nwjf4TN"
      },
      "execution_count": null,
      "outputs": []
    },
    {
      "cell_type": "code",
      "source": [
        "hasattr(data,'Gender')"
      ],
      "metadata": {
        "colab": {
          "base_uri": "https://localhost:8080/"
        },
        "id": "rsIIoACbgYLW",
        "outputId": "02486f85-22d6-455e-e7a2-53e8eb7ff5a6"
      },
      "execution_count": null,
      "outputs": [
        {
          "output_type": "execute_result",
          "data": {
            "text/plain": [
              "True"
            ]
          },
          "metadata": {},
          "execution_count": 39
        }
      ]
    },
    {
      "cell_type": "code",
      "source": [
        "hasattr(data,'email')"
      ],
      "metadata": {
        "colab": {
          "base_uri": "https://localhost:8080/"
        },
        "id": "KlWp7RM7gbZ5",
        "outputId": "40d4b9d2-594d-417d-e3ec-d2a5da881f39"
      },
      "execution_count": null,
      "outputs": [
        {
          "output_type": "execute_result",
          "data": {
            "text/plain": [
              "True"
            ]
          },
          "metadata": {},
          "execution_count": 41
        }
      ]
    },
    {
      "cell_type": "code",
      "source": [
        "#memanggil semua atribut yang ada di biodata\n",
        "print('Nama:', data.fullname)\n",
        "print('Gender:', data.Gender)\n",
        "print('No_telp:', data.phone)\n",
        "print('Gaji:',data.basicsalary)\n",
        "print('Email:', data.email)"
      ],
      "metadata": {
        "colab": {
          "base_uri": "https://localhost:8080/"
        },
        "id": "yQ0GpsJMg6oO",
        "outputId": "49e81644-5c1a-440e-aad4-3388b95dc6d2"
      },
      "execution_count": null,
      "outputs": [
        {
          "output_type": "stream",
          "name": "stdout",
          "text": [
            "Nama: Rifa\n",
            "Gender: Female\n",
            "No_telp: 12345678\n",
            "Gaji: 5000000\n",
            "Email: rifaanurs@gmail.com\n"
          ]
        }
      ]
    },
    {
      "cell_type": "code",
      "source": [
        "class person:\n",
        "  def info(self,nama):\n",
        "    self.fullname=nama\n",
        "    if hasattr(self,'title'): #untuk melihat punya atribut/tidak\n",
        "      title=getattr(self,'title') #untuk membaca isi titlenya\n",
        "      self.pesan='Welcome,'+title+' '+nama\n",
        "    else:\n",
        "      self.pesan='Welcome, '+nama"
      ],
      "metadata": {
        "id": "4-ImwzDCiX5t"
      },
      "execution_count": null,
      "outputs": []
    },
    {
      "cell_type": "code",
      "source": [
        "#membuat objek dengan title menggunakan kelas person\n",
        "p=person()\n",
        "p.title='Mrs.'\n",
        "p.info('Rifa')\n",
        "p.pesan"
      ],
      "metadata": {
        "colab": {
          "base_uri": "https://localhost:8080/",
          "height": 35
        },
        "id": "5YTAChZdjMHZ",
        "outputId": "5b55e5b2-7ebe-4440-c280-66cfca779f16"
      },
      "execution_count": null,
      "outputs": [
        {
          "output_type": "execute_result",
          "data": {
            "text/plain": [
              "'Welcome,Mrs. Rifa'"
            ],
            "application/vnd.google.colaboratory.intrinsic+json": {
              "type": "string"
            }
          },
          "metadata": {},
          "execution_count": 50
        }
      ]
    },
    {
      "cell_type": "code",
      "source": [
        "#membuat objek tanpa title\n",
        "q=person()\n",
        "q.info('Rifa')\n",
        "q.pesan"
      ],
      "metadata": {
        "colab": {
          "base_uri": "https://localhost:8080/",
          "height": 35
        },
        "id": "RX7zOoxmkBZX",
        "outputId": "814559ba-955c-48f3-8e13-a10afc0d81c4"
      },
      "execution_count": null,
      "outputs": [
        {
          "output_type": "execute_result",
          "data": {
            "text/plain": [
              "'Welcome, Rifa'"
            ],
            "application/vnd.google.colaboratory.intrinsic+json": {
              "type": "string"
            }
          },
          "metadata": {},
          "execution_count": 56
        }
      ]
    },
    {
      "cell_type": "markdown",
      "source": [
        "#Day 8"
      ],
      "metadata": {
        "id": "k-7mSVEAiDA1"
      }
    },
    {
      "cell_type": "markdown",
      "source": [
        "##Let's Practice"
      ],
      "metadata": {
        "id": "zgdtd-z2iFJT"
      }
    },
    {
      "cell_type": "markdown",
      "source": [
        "###Numpy"
      ],
      "metadata": {
        "id": "aui05b6BiH5Q"
      }
    },
    {
      "cell_type": "markdown",
      "source": [
        "NumPy is the fundamental package for scientific computing in Python. It is a Python library that provides a multidimensional array object, various derived objects (such as masked arrays and matrices), and an assortment of routines for fast operations on arrays, including mathematical, logical, shape manipulation, sorting, selecting, I/O, discrete Fourier transforms, basic linear algebra, basic statistical operations, random simulation and much more.\n",
        "\n",
        "(Check Numpy Documentation for more: https://numpy.org/doc/stable/user/)"
      ],
      "metadata": {
        "id": "RsZXw_cWiNLw"
      }
    },
    {
      "cell_type": "code",
      "source": [
        "import numpy as np"
      ],
      "metadata": {
        "id": "Qhy8o6BpixSE"
      },
      "execution_count": null,
      "outputs": []
    },
    {
      "cell_type": "code",
      "source": [
        "a_list=[1.0,2.0,3.0,4.0,5.0]\n",
        "print(a_list)\n",
        "a_list.append(6)\n",
        "print(a_list)\n",
        "a_list.remove(6)\n",
        "print(a_list)\n",
        "a_list[1]=7.0\n",
        "print(a_list)\n",
        "print(type(a_list))"
      ],
      "metadata": {
        "colab": {
          "base_uri": "https://localhost:8080/"
        },
        "id": "lsHLb50vi7nw",
        "outputId": "fe1e935b-e1d6-447d-9a13-5430cbc9f8fc"
      },
      "execution_count": null,
      "outputs": [
        {
          "output_type": "stream",
          "name": "stdout",
          "text": [
            "[1.0, 2.0, 3.0, 4.0, 5.0]\n",
            "[1.0, 2.0, 3.0, 4.0, 5.0, 6]\n",
            "[1.0, 2.0, 3.0, 4.0, 5.0]\n",
            "[1.0, 7.0, 3.0, 4.0, 5.0]\n",
            "<class 'list'>\n"
          ]
        }
      ]
    },
    {
      "cell_type": "markdown",
      "source": [
        "####vs Numpy"
      ],
      "metadata": {
        "id": "F5gair30j8xp"
      }
    },
    {
      "cell_type": "markdown",
      "source": [
        "Numpy mirip seperti list, tapi numpy immutable (append, remove, insert)"
      ],
      "metadata": {
        "id": "9Z3ozGMIkF5Y"
      }
    },
    {
      "cell_type": "markdown",
      "source": [
        "####1DArray"
      ],
      "metadata": {
        "id": "sui0cMTauRd5"
      }
    },
    {
      "cell_type": "code",
      "source": [
        "#!DArray\n",
        "\n",
        "a_numpy=np.array(a_list)\n",
        "print(a_numpy)\n",
        "#a_numpy.append(5)\n",
        "#a_numpy.remove(4.0)\n",
        "a_numpy[1]=2.0\n",
        "print(a_numpy)"
      ],
      "metadata": {
        "colab": {
          "base_uri": "https://localhost:8080/"
        },
        "id": "1WcKbYWykdtE",
        "outputId": "7d87cff7-d450-47af-93c3-32588804c639"
      },
      "execution_count": null,
      "outputs": [
        {
          "output_type": "stream",
          "name": "stdout",
          "text": [
            "[1. 7. 3. 4. 5.]\n",
            "[1. 2. 3. 4. 5.]\n"
          ]
        }
      ]
    },
    {
      "cell_type": "code",
      "source": [
        "#cek nilai di suatu index\n",
        "a_numpy[2]"
      ],
      "metadata": {
        "colab": {
          "base_uri": "https://localhost:8080/"
        },
        "id": "7nmESFgCmByi",
        "outputId": "78213276-414a-4b71-dc45-088febb60509"
      },
      "execution_count": null,
      "outputs": [
        {
          "output_type": "execute_result",
          "data": {
            "text/plain": [
              "3.0"
            ]
          },
          "metadata": {},
          "execution_count": 10
        }
      ]
    },
    {
      "cell_type": "code",
      "source": [
        "#cek dimensi\n",
        "a_numpy.shape #hasilnya kaya gitu karena satu dimensi, dan menyebutkan length nya"
      ],
      "metadata": {
        "colab": {
          "base_uri": "https://localhost:8080/"
        },
        "id": "CPLieXahmI99",
        "outputId": "211cc8b4-5e01-4d3c-ec9e-c49262307a16"
      },
      "execution_count": null,
      "outputs": [
        {
          "output_type": "execute_result",
          "data": {
            "text/plain": [
              "(5,)"
            ]
          },
          "metadata": {},
          "execution_count": 11
        }
      ]
    },
    {
      "cell_type": "markdown",
      "source": [
        "####Multidimensi Array (Matriks 2D)"
      ],
      "metadata": {
        "id": "pSpKxMb4m1K-"
      }
    },
    {
      "cell_type": "markdown",
      "source": [
        "- struktur data disebut sebagai ndarray (number of dimension dr array-nya)\n",
        "- array bisa dibentuk menjadi dimensi yang lebih dari 2 tergantung pendefinisiannya\n",
        "- sebuah array yang memiliki dimensi 2 disebut sbg matriks"
      ],
      "metadata": {
        "id": "dYFWJyL4m9nO"
      }
    },
    {
      "cell_type": "code",
      "source": [
        "b_list=[1,2,3,4,5]\n",
        "print(b_list)\n",
        "print(len(b_list))\n",
        "\n",
        "c_list=[[1,2,3,4,5]]\n",
        "print(c_list)\n",
        "print(len(c_list))"
      ],
      "metadata": {
        "colab": {
          "base_uri": "https://localhost:8080/"
        },
        "id": "qpiMbvndm8OF",
        "outputId": "0e8e7e2a-f3ca-4463-b5fe-06b2ce388bd5"
      },
      "execution_count": null,
      "outputs": [
        {
          "output_type": "stream",
          "name": "stdout",
          "text": [
            "[1, 2, 3, 4, 5]\n",
            "5\n",
            "[[1, 2, 3, 4, 5]]\n",
            "1\n"
          ]
        }
      ]
    },
    {
      "cell_type": "code",
      "source": [
        "c_numpy=np.array(c_list)\n",
        "print(c_numpy)\n",
        "print(type(c_numpy))\n",
        "print(c_numpy.shape) #1 baris, 5 kolom"
      ],
      "metadata": {
        "colab": {
          "base_uri": "https://localhost:8080/"
        },
        "id": "V_vSPvaknxOM",
        "outputId": "20fe7902-4569-4571-d8a8-8fb0f2f1e1fb"
      },
      "execution_count": null,
      "outputs": [
        {
          "output_type": "stream",
          "name": "stdout",
          "text": [
            "[[1 2 3 4 5]]\n",
            "<class 'numpy.ndarray'>\n",
            "(1, 5)\n"
          ]
        }
      ]
    },
    {
      "cell_type": "code",
      "source": [
        "a=[[1,2,3],[4,5,6],[7,8,9],[10,11,12]]\n",
        "print(a)\n",
        "print(a[1][1])\n",
        "print(type(a))"
      ],
      "metadata": {
        "colab": {
          "base_uri": "https://localhost:8080/"
        },
        "id": "LUkYbWEEoZNa",
        "outputId": "f81cbac2-01c6-4b7e-9125-0f9d2ba66558"
      },
      "execution_count": null,
      "outputs": [
        {
          "output_type": "stream",
          "name": "stdout",
          "text": [
            "[[1, 2, 3], [4, 5, 6], [7, 8, 9], [10, 11, 12]]\n",
            "5\n",
            "<class 'list'>\n"
          ]
        }
      ]
    },
    {
      "cell_type": "code",
      "source": [
        "matriks_a=np.array(a)\n",
        "print(matriks_a)\n",
        "print('ambil 1 array: ', matriks_a[2]) #mengambil 1 baris berdasarkan index\n",
        "print('ambil suatu nilai di sebuah array: ',matriks_a[1,1]) #mengambil spesifik nilai dari matriks\n",
        "print('ambil suatu nilai di sebuah array: ',matriks_a[2,1]) #mengambil spesifik nilai dari matriks\n",
        "print(type(matriks_a))\n",
        "print(matriks_a.shape)"
      ],
      "metadata": {
        "colab": {
          "base_uri": "https://localhost:8080/"
        },
        "id": "Y_j6hTbco61i",
        "outputId": "0b812199-2683-4a8a-aff0-5e74d3b002bc"
      },
      "execution_count": null,
      "outputs": [
        {
          "output_type": "stream",
          "name": "stdout",
          "text": [
            "[[ 1  2  3]\n",
            " [ 4  5  6]\n",
            " [ 7  8  9]\n",
            " [10 11 12]]\n",
            "ambil 1 array:  [7 8 9]\n",
            "ambil suatu nilai di sebuah array:  5\n",
            "ambil suatu nilai di sebuah array:  8\n",
            "<class 'numpy.ndarray'>\n",
            "(4, 3)\n"
          ]
        }
      ]
    },
    {
      "cell_type": "code",
      "source": [
        "print('dimensi: ', matriks_a.ndim) #cek dimensi\n",
        "print('ordo: ', matriks_a.shape) #cek ukuran\n",
        "print('item: ',matriks_a.size) #cek total element"
      ],
      "metadata": {
        "colab": {
          "base_uri": "https://localhost:8080/"
        },
        "id": "gUSxUXUZrCXT",
        "outputId": "8202f1f8-79e9-452e-d21b-f9b6ece86fb1"
      },
      "execution_count": null,
      "outputs": [
        {
          "output_type": "stream",
          "name": "stdout",
          "text": [
            "dimensi:  2\n",
            "ordo:  (4, 3)\n",
            "item:  12\n"
          ]
        }
      ]
    },
    {
      "cell_type": "code",
      "source": [
        "#membuat matriks 0\n",
        "\n",
        "matriks_nol=np.zeros((4,2))\n",
        "print(matriks_nol)\n",
        "\n",
        "#membuat matriks 1\n",
        "matriks_satu=np.ones((4,4))\n",
        "print(matriks_satu)\n",
        "\n",
        "#matriks identitas\n",
        "matriks_identitas=np.eye(5)\n",
        "print(matriks_identitas)"
      ],
      "metadata": {
        "colab": {
          "base_uri": "https://localhost:8080/"
        },
        "id": "ehG4quMBsxeF",
        "outputId": "5c5b7abc-341c-4005-ebeb-de3f4b909d7f"
      },
      "execution_count": null,
      "outputs": [
        {
          "output_type": "stream",
          "name": "stdout",
          "text": [
            "[[0. 0.]\n",
            " [0. 0.]\n",
            " [0. 0.]\n",
            " [0. 0.]]\n",
            "[[1. 1. 1. 1.]\n",
            " [1. 1. 1. 1.]\n",
            " [1. 1. 1. 1.]\n",
            " [1. 1. 1. 1.]]\n",
            "[[1. 0. 0. 0. 0.]\n",
            " [0. 1. 0. 0. 0.]\n",
            " [0. 0. 1. 0. 0.]\n",
            " [0. 0. 0. 1. 0.]\n",
            " [0. 0. 0. 0. 1.]]\n"
          ]
        }
      ]
    },
    {
      "cell_type": "markdown",
      "source": [
        "####Indexing Numpy"
      ],
      "metadata": {
        "id": "48k-FcJJuI8M"
      }
    },
    {
      "cell_type": "code",
      "source": [
        "x=np.array([[1,2,3,4],[5,6,7,8],[9,10,11,12]])\n",
        "print(x)\n",
        "print('\\n')\n",
        "\n",
        "#indexing 1 element\n",
        "print(x[0,1])\n",
        "#indexing 1 baris\n",
        "print(x[1])\n",
        "#indexing range\n",
        "print(x[1:3])\n",
        "#indexing matriks\n",
        "print(x[1:3,0:3])"
      ],
      "metadata": {
        "colab": {
          "base_uri": "https://localhost:8080/"
        },
        "id": "5HRwQl3-uWEt",
        "outputId": "4a8f0526-6b2e-4249-8fee-899012ebd773"
      },
      "execution_count": null,
      "outputs": [
        {
          "output_type": "stream",
          "name": "stdout",
          "text": [
            "[[ 1  2  3  4]\n",
            " [ 5  6  7  8]\n",
            " [ 9 10 11 12]]\n",
            "\n",
            "\n",
            "2\n",
            "[5 6 7 8]\n",
            "[[ 5  6  7  8]\n",
            " [ 9 10 11 12]]\n",
            "[[ 5  6  7]\n",
            " [ 9 10 11]]\n"
          ]
        }
      ]
    },
    {
      "cell_type": "code",
      "source": [
        "#output dijadikan matriks\n",
        "\n",
        "y=np.array(x[1:3,0:3])\n",
        "print(y)\n",
        "print(type(y))"
      ],
      "metadata": {
        "colab": {
          "base_uri": "https://localhost:8080/"
        },
        "id": "y9Wz7cI7w8M9",
        "outputId": "33a91a80-cd39-449b-bc19-59f673863afa"
      },
      "execution_count": null,
      "outputs": [
        {
          "output_type": "stream",
          "name": "stdout",
          "text": [
            "[[ 5  6  7]\n",
            " [ 9 10 11]]\n",
            "<class 'numpy.ndarray'>\n"
          ]
        }
      ]
    },
    {
      "cell_type": "code",
      "source": [
        "print(x[1,0],y[0,0])"
      ],
      "metadata": {
        "colab": {
          "base_uri": "https://localhost:8080/"
        },
        "id": "ghh-KQNzxPuR",
        "outputId": "53a67f43-7075-497a-de81-03cf7bc2560e"
      },
      "execution_count": null,
      "outputs": [
        {
          "output_type": "stream",
          "name": "stdout",
          "text": [
            "5 5\n"
          ]
        }
      ]
    },
    {
      "cell_type": "code",
      "source": [
        "y[0,0]=55 #replace element di matriks\n",
        "print(x)\n",
        "print(y)\n",
        "print(type(y))"
      ],
      "metadata": {
        "colab": {
          "base_uri": "https://localhost:8080/"
        },
        "id": "PwogakGpx9WH",
        "outputId": "6c938617-01eb-4daa-bd44-b2788d5991b6"
      },
      "execution_count": null,
      "outputs": [
        {
          "output_type": "stream",
          "name": "stdout",
          "text": [
            "[[ 1  2  3  4]\n",
            " [ 5  6  7  8]\n",
            " [ 9 10 11 12]]\n",
            "[[55  6  7]\n",
            " [ 9 10 11]]\n",
            "<class 'numpy.ndarray'>\n"
          ]
        }
      ]
    },
    {
      "cell_type": "code",
      "source": [
        "row_1=x[1,:] #titik dua merepresentasikan ambil seluruh nilai di baris\n",
        "print(row_1)\n",
        "print(row_1.ndim)\n",
        "print(row_1.shape) #4 kolom, karena 1 dimensi"
      ],
      "metadata": {
        "colab": {
          "base_uri": "https://localhost:8080/"
        },
        "id": "sH3kB2s9zJsi",
        "outputId": "e2520fa6-a5c2-4cd9-c059-2365ea1a149f"
      },
      "execution_count": null,
      "outputs": [
        {
          "output_type": "stream",
          "name": "stdout",
          "text": [
            "[5 6 7 8]\n",
            "1\n",
            "(4,)\n"
          ]
        }
      ]
    },
    {
      "cell_type": "code",
      "source": [
        "row_2=x[1:2, :]\n",
        "\n",
        "print(row_2)\n",
        "print(row_2.ndim)\n",
        "print(row_2.shape)"
      ],
      "metadata": {
        "colab": {
          "base_uri": "https://localhost:8080/"
        },
        "id": "0EEDq65vzmI1",
        "outputId": "5099af8b-93a5-44a6-dcbc-173dee55d5f1"
      },
      "execution_count": null,
      "outputs": [
        {
          "output_type": "stream",
          "name": "stdout",
          "text": [
            "[[5 6 7 8]]\n",
            "2\n",
            "(1, 4)\n"
          ]
        }
      ]
    },
    {
      "cell_type": "code",
      "source": [
        "h=np.array([[1,2],[3,4],[5,6]])\n",
        "print(h)\n"
      ],
      "metadata": {
        "colab": {
          "base_uri": "https://localhost:8080/"
        },
        "id": "wFnI0_hC0Imw",
        "outputId": "762c9d5c-5b16-4306-c223-4a0ab590c12d"
      },
      "execution_count": null,
      "outputs": [
        {
          "output_type": "stream",
          "name": "stdout",
          "text": [
            "[[1 2]\n",
            " [3 4]\n",
            " [5 6]]\n"
          ]
        }
      ]
    },
    {
      "cell_type": "code",
      "source": [
        "print(h[0,0]); print(h[1,1]); print(h[2,0])\n",
        "\n",
        "print(np.array([h[0,0],h[1,1],h[2,0]]))\n",
        "\n",
        "print(h[[0,1,2], [0,1,0]])"
      ],
      "metadata": {
        "colab": {
          "base_uri": "https://localhost:8080/"
        },
        "id": "-Dx_c2ta0i5A",
        "outputId": "6700e55b-cd88-451d-bfce-9cf33b6123fb"
      },
      "execution_count": null,
      "outputs": [
        {
          "output_type": "stream",
          "name": "stdout",
          "text": [
            "1\n",
            "4\n",
            "5\n",
            "[1 4 5]\n",
            "[1 4 5]\n"
          ]
        }
      ]
    },
    {
      "cell_type": "markdown",
      "source": [
        "####Indexing Boolean"
      ],
      "metadata": {
        "id": "lHhnGcen2JNj"
      }
    },
    {
      "cell_type": "code",
      "source": [
        "boolean_idx=(h>2)\n",
        "print(boolean_idx)"
      ],
      "metadata": {
        "colab": {
          "base_uri": "https://localhost:8080/"
        },
        "id": "mfw7xqav2N8T",
        "outputId": "ec8f8bbf-a268-44d5-8029-f104f9b61550"
      },
      "execution_count": null,
      "outputs": [
        {
          "output_type": "stream",
          "name": "stdout",
          "text": [
            "[[False False]\n",
            " [ True  True]\n",
            " [ True  True]]\n"
          ]
        }
      ]
    },
    {
      "cell_type": "code",
      "source": [
        "m=h[h>2]\n",
        "print(m)\n",
        "print(m.ndim)\n",
        "print(type(m))"
      ],
      "metadata": {
        "colab": {
          "base_uri": "https://localhost:8080/"
        },
        "id": "TvoxiElc2TCX",
        "outputId": "16545242-1afb-4daf-8396-dc4a5cc16bed"
      },
      "execution_count": null,
      "outputs": [
        {
          "output_type": "stream",
          "name": "stdout",
          "text": [
            "[3 4 5 6]\n",
            "1\n",
            "<class 'numpy.ndarray'>\n"
          ]
        }
      ]
    },
    {
      "cell_type": "markdown",
      "source": [
        "####Numpy Math"
      ],
      "metadata": {
        "id": "s8dzGfJm3HdK"
      }
    },
    {
      "cell_type": "code",
      "source": [
        "s=np.array([1,2])\n",
        "print(s)\n",
        "print(type(s)) #cek tipe data dari variabel s\n",
        "print(s.dtype) #cek tipe dari elemen elemen yang ada di variabel"
      ],
      "metadata": {
        "colab": {
          "base_uri": "https://localhost:8080/"
        },
        "id": "TncEEwke3Faq",
        "outputId": "a449dca0-e1d7-4a4b-e75e-ff2b9b20a7d6"
      },
      "execution_count": null,
      "outputs": [
        {
          "output_type": "stream",
          "name": "stdout",
          "text": [
            "[1 2]\n",
            "<class 'numpy.ndarray'>\n",
            "int64\n"
          ]
        }
      ]
    },
    {
      "cell_type": "code",
      "source": [
        "t=np.array([1.0,2])\n",
        "print(t)\n",
        "print(type(t)) #cek tipe data dari variabel t\n",
        "print(t.dtype) #cek tipe dari elemen elemen yang ada di variabel"
      ],
      "metadata": {
        "colab": {
          "base_uri": "https://localhost:8080/"
        },
        "id": "xvVcUdU734oR",
        "outputId": "e0804313-ab2e-4a59-9535-c0c2f1424314"
      },
      "execution_count": null,
      "outputs": [
        {
          "output_type": "stream",
          "name": "stdout",
          "text": [
            "[1. 2.]\n",
            "<class 'numpy.ndarray'>\n",
            "float64\n"
          ]
        }
      ]
    },
    {
      "cell_type": "code",
      "source": [
        "u=np.array([1.0,2,3.6],dtype=np.int64)\n",
        "print(u)\n",
        "print(type(u)) #cek tipe data dari variabel u\n",
        "print(u.dtype) #cek tipe dari elemen elemen yang ada di variabel"
      ],
      "metadata": {
        "colab": {
          "base_uri": "https://localhost:8080/"
        },
        "id": "7AAaTF7f4VPD",
        "outputId": "96ecae8f-fde9-47bd-c4e0-0570836ee2fc"
      },
      "execution_count": null,
      "outputs": [
        {
          "output_type": "stream",
          "name": "stdout",
          "text": [
            "[1 2 3]\n",
            "<class 'numpy.ndarray'>\n",
            "int64\n"
          ]
        }
      ]
    },
    {
      "cell_type": "code",
      "source": [
        "x1=np.array([[1,2],[3,4]], dtype=np.float64)\n",
        "y1=np.array([[5,5],[7,6]], dtype=np.float64)\n",
        "print(x1)\n",
        "print(y1)"
      ],
      "metadata": {
        "colab": {
          "base_uri": "https://localhost:8080/"
        },
        "id": "mJn6JG4_4tFO",
        "outputId": "b5ee6e71-97ce-4cf6-d007-0415d2daf96a"
      },
      "execution_count": null,
      "outputs": [
        {
          "output_type": "stream",
          "name": "stdout",
          "text": [
            "[[1. 2.]\n",
            " [3. 4.]]\n",
            "[[5. 5.]\n",
            " [7. 6.]]\n"
          ]
        }
      ]
    },
    {
      "cell_type": "code",
      "source": [
        "#penjumlahan\n",
        "print(x1+y1)\n",
        "print(np.add(x1,y1))"
      ],
      "metadata": {
        "colab": {
          "base_uri": "https://localhost:8080/"
        },
        "id": "OHiGvJu05HUV",
        "outputId": "a61d9044-f6d2-4543-80ab-3d568c7532a4"
      },
      "execution_count": null,
      "outputs": [
        {
          "output_type": "stream",
          "name": "stdout",
          "text": [
            "[[ 6.  7.]\n",
            " [10. 10.]]\n",
            "[[ 6.  7.]\n",
            " [10. 10.]]\n"
          ]
        }
      ]
    },
    {
      "cell_type": "code",
      "source": [
        "#pengurangan\n",
        "print(x1-y1)\n",
        "print(np.subtract(x1,y1))"
      ],
      "metadata": {
        "colab": {
          "base_uri": "https://localhost:8080/"
        },
        "id": "p18IkV705jMl",
        "outputId": "ae674982-0184-4a00-f54e-a32818a69842"
      },
      "execution_count": null,
      "outputs": [
        {
          "output_type": "stream",
          "name": "stdout",
          "text": [
            "[[-4. -3.]\n",
            " [-4. -2.]]\n",
            "[[-4. -3.]\n",
            " [-4. -2.]]\n"
          ]
        }
      ]
    },
    {
      "cell_type": "code",
      "source": [
        "#perkalian #perkalian yg bersesuaian, bukan perkalian matriks\n",
        "print(x1)\n",
        "print(y1)\n",
        "print(x1*y1)"
      ],
      "metadata": {
        "colab": {
          "base_uri": "https://localhost:8080/"
        },
        "id": "y3s3dlHj5y61",
        "outputId": "2beb8b70-19be-4faa-c796-389c76fdebd5"
      },
      "execution_count": null,
      "outputs": [
        {
          "output_type": "stream",
          "name": "stdout",
          "text": [
            "[[1. 2.]\n",
            " [3. 4.]]\n",
            "[[5. 5.]\n",
            " [7. 6.]]\n",
            "[[ 5. 10.]\n",
            " [21. 24.]]\n"
          ]
        }
      ]
    },
    {
      "cell_type": "code",
      "source": [
        "#perkalian matriks\n",
        "print(np.dot(x1,y1))\n"
      ],
      "metadata": {
        "colab": {
          "base_uri": "https://localhost:8080/"
        },
        "id": "yf_dMaCe6FSt",
        "outputId": "53ba3720-1503-4e91-c603-ca91d075de50"
      },
      "execution_count": null,
      "outputs": [
        {
          "output_type": "stream",
          "name": "stdout",
          "text": [
            "[[19. 17.]\n",
            " [43. 39.]]\n"
          ]
        }
      ]
    },
    {
      "cell_type": "code",
      "source": [
        "#akar\n",
        "print(np.sqrt(x1))"
      ],
      "metadata": {
        "colab": {
          "base_uri": "https://localhost:8080/"
        },
        "id": "hqv1W9HJ6mlj",
        "outputId": "960a5943-7514-4aa9-9d5b-ca4dbe4acfe9"
      },
      "execution_count": null,
      "outputs": [
        {
          "output_type": "stream",
          "name": "stdout",
          "text": [
            "[[1.         1.41421356]\n",
            " [1.73205081 2.        ]]\n"
          ]
        }
      ]
    },
    {
      "cell_type": "code",
      "source": [
        "#kuadrat #kuadrat angka masing2\n",
        "print(np.array(x1**2))"
      ],
      "metadata": {
        "colab": {
          "base_uri": "https://localhost:8080/"
        },
        "id": "Vt2JfsqU6qq6",
        "outputId": "c9148fd1-ed4c-4d76-850d-012e82815560"
      },
      "execution_count": null,
      "outputs": [
        {
          "output_type": "stream",
          "name": "stdout",
          "text": [
            "[[ 1.  4.]\n",
            " [ 9. 16.]]\n"
          ]
        }
      ]
    },
    {
      "cell_type": "code",
      "source": [
        "#kuadrat (jadi 2 matriks dikaliin)\n",
        "print(np.dot(x1,x1))"
      ],
      "metadata": {
        "colab": {
          "base_uri": "https://localhost:8080/"
        },
        "id": "kes8Uxnb68dM",
        "outputId": "1d18eab8-b6b2-4de8-8554-ab7027830522"
      },
      "execution_count": null,
      "outputs": [
        {
          "output_type": "stream",
          "name": "stdout",
          "text": [
            "[[ 7. 10.]\n",
            " [15. 22.]]\n"
          ]
        }
      ]
    },
    {
      "cell_type": "markdown",
      "source": [
        "#Day 9"
      ],
      "metadata": {
        "id": "6QeCV1gV7u9P"
      }
    },
    {
      "cell_type": "markdown",
      "source": [
        "##Let's Practice"
      ],
      "metadata": {
        "id": "ajLGhHWf7wkY"
      }
    },
    {
      "cell_type": "markdown",
      "source": [
        "###Pandas"
      ],
      "metadata": {
        "id": "_FEAKiZS7y-6"
      }
    },
    {
      "cell_type": "markdown",
      "source": [
        "**Create Data** - We begin by creating our own data set for analysis. This prevents the end user reading this tutorial from having to download any files to replicate the results below. We will export this data set to a text file so that you can get some experience pulling data from a text file.\n",
        "**Get Data** - We will learn how to read in the text file. The data consist of baby names and the number of baby names born in the year 1880.  \n",
        "**Prepare Data** - Here we will simply take a look at the data and make sure it is clean. By clean I mean we will take a look inside the contents of the text file and look for any anomalities. These can include missing data, inconsistencies in the data, or any other data that seems out of place. If any are found we will then have to make decisions on what to do with these records.\n",
        "**Analyze Data** - We will simply find the most popular name in a specific year.  \n",
        "**Present Data** - Through tabular data and a graph, clearly show the end user what is the most popular name in a specific year."
      ],
      "metadata": {
        "id": "hY_BdP4c8CE4"
      }
    },
    {
      "cell_type": "markdown",
      "source": [
        "####Create Data"
      ],
      "metadata": {
        "id": "0f-YjNzVuID8"
      }
    },
    {
      "cell_type": "code",
      "source": [
        "import pandas as pd"
      ],
      "metadata": {
        "id": "dGUC58l_sRXT"
      },
      "execution_count": null,
      "outputs": []
    },
    {
      "cell_type": "code",
      "source": [
        "#membuat data berupa banyaknya penggguna sebuah nama di indonesia\n",
        "nama=['Happy','Birthday','Azfa','ke','duasatu','tahun']\n",
        "jumlah_nama=[998,756,531,870,349,211]"
      ],
      "metadata": {
        "id": "4PiLmznrsmxx"
      },
      "execution_count": null,
      "outputs": []
    },
    {
      "cell_type": "code",
      "source": [
        "dataset=list(zip(nama,jumlah_nama)) #memasangkan 2 variabel list\n",
        "print(dataset)"
      ],
      "metadata": {
        "colab": {
          "base_uri": "https://localhost:8080/"
        },
        "id": "Rf3anfpctGH-",
        "outputId": "647f61ca-c37c-4e85-c5a2-869560ee5e7a"
      },
      "execution_count": null,
      "outputs": [
        {
          "output_type": "stream",
          "name": "stdout",
          "text": [
            "[('Happy', 998), ('Birthday', 756), ('Azfa', 531), ('ke', 870), ('duasatu', 349), ('tahun', 211)]\n"
          ]
        }
      ]
    },
    {
      "cell_type": "code",
      "source": [
        "data=pd.DataFrame(data=dataset,columns=['nama','jumlah_nama'])\n",
        "data"
      ],
      "metadata": {
        "colab": {
          "base_uri": "https://localhost:8080/",
          "height": 238
        },
        "id": "EiSWIv1rtdYI",
        "outputId": "a0f2fe05-1877-4f35-82e1-681ed688aa5f"
      },
      "execution_count": null,
      "outputs": [
        {
          "output_type": "execute_result",
          "data": {
            "text/plain": [
              "       nama  jumlah_nama\n",
              "0     Happy          998\n",
              "1  Birthday          756\n",
              "2      Azfa          531\n",
              "3        ke          870\n",
              "4   duasatu          349\n",
              "5     tahun          211"
            ],
            "text/html": [
              "\n",
              "  <div id=\"df-2118e0e4-22e5-4d70-997a-3d453c14e176\" class=\"colab-df-container\">\n",
              "    <div>\n",
              "<style scoped>\n",
              "    .dataframe tbody tr th:only-of-type {\n",
              "        vertical-align: middle;\n",
              "    }\n",
              "\n",
              "    .dataframe tbody tr th {\n",
              "        vertical-align: top;\n",
              "    }\n",
              "\n",
              "    .dataframe thead th {\n",
              "        text-align: right;\n",
              "    }\n",
              "</style>\n",
              "<table border=\"1\" class=\"dataframe\">\n",
              "  <thead>\n",
              "    <tr style=\"text-align: right;\">\n",
              "      <th></th>\n",
              "      <th>nama</th>\n",
              "      <th>jumlah_nama</th>\n",
              "    </tr>\n",
              "  </thead>\n",
              "  <tbody>\n",
              "    <tr>\n",
              "      <th>0</th>\n",
              "      <td>Happy</td>\n",
              "      <td>998</td>\n",
              "    </tr>\n",
              "    <tr>\n",
              "      <th>1</th>\n",
              "      <td>Birthday</td>\n",
              "      <td>756</td>\n",
              "    </tr>\n",
              "    <tr>\n",
              "      <th>2</th>\n",
              "      <td>Azfa</td>\n",
              "      <td>531</td>\n",
              "    </tr>\n",
              "    <tr>\n",
              "      <th>3</th>\n",
              "      <td>ke</td>\n",
              "      <td>870</td>\n",
              "    </tr>\n",
              "    <tr>\n",
              "      <th>4</th>\n",
              "      <td>duasatu</td>\n",
              "      <td>349</td>\n",
              "    </tr>\n",
              "    <tr>\n",
              "      <th>5</th>\n",
              "      <td>tahun</td>\n",
              "      <td>211</td>\n",
              "    </tr>\n",
              "  </tbody>\n",
              "</table>\n",
              "</div>\n",
              "    <div class=\"colab-df-buttons\">\n",
              "\n",
              "  <div class=\"colab-df-container\">\n",
              "    <button class=\"colab-df-convert\" onclick=\"convertToInteractive('df-2118e0e4-22e5-4d70-997a-3d453c14e176')\"\n",
              "            title=\"Convert this dataframe to an interactive table.\"\n",
              "            style=\"display:none;\">\n",
              "\n",
              "  <svg xmlns=\"http://www.w3.org/2000/svg\" height=\"24px\" viewBox=\"0 -960 960 960\">\n",
              "    <path d=\"M120-120v-720h720v720H120Zm60-500h600v-160H180v160Zm220 220h160v-160H400v160Zm0 220h160v-160H400v160ZM180-400h160v-160H180v160Zm440 0h160v-160H620v160ZM180-180h160v-160H180v160Zm440 0h160v-160H620v160Z\"/>\n",
              "  </svg>\n",
              "    </button>\n",
              "\n",
              "  <style>\n",
              "    .colab-df-container {\n",
              "      display:flex;\n",
              "      gap: 12px;\n",
              "    }\n",
              "\n",
              "    .colab-df-convert {\n",
              "      background-color: #E8F0FE;\n",
              "      border: none;\n",
              "      border-radius: 50%;\n",
              "      cursor: pointer;\n",
              "      display: none;\n",
              "      fill: #1967D2;\n",
              "      height: 32px;\n",
              "      padding: 0 0 0 0;\n",
              "      width: 32px;\n",
              "    }\n",
              "\n",
              "    .colab-df-convert:hover {\n",
              "      background-color: #E2EBFA;\n",
              "      box-shadow: 0px 1px 2px rgba(60, 64, 67, 0.3), 0px 1px 3px 1px rgba(60, 64, 67, 0.15);\n",
              "      fill: #174EA6;\n",
              "    }\n",
              "\n",
              "    .colab-df-buttons div {\n",
              "      margin-bottom: 4px;\n",
              "    }\n",
              "\n",
              "    [theme=dark] .colab-df-convert {\n",
              "      background-color: #3B4455;\n",
              "      fill: #D2E3FC;\n",
              "    }\n",
              "\n",
              "    [theme=dark] .colab-df-convert:hover {\n",
              "      background-color: #434B5C;\n",
              "      box-shadow: 0px 1px 3px 1px rgba(0, 0, 0, 0.15);\n",
              "      filter: drop-shadow(0px 1px 2px rgba(0, 0, 0, 0.3));\n",
              "      fill: #FFFFFF;\n",
              "    }\n",
              "  </style>\n",
              "\n",
              "    <script>\n",
              "      const buttonEl =\n",
              "        document.querySelector('#df-2118e0e4-22e5-4d70-997a-3d453c14e176 button.colab-df-convert');\n",
              "      buttonEl.style.display =\n",
              "        google.colab.kernel.accessAllowed ? 'block' : 'none';\n",
              "\n",
              "      async function convertToInteractive(key) {\n",
              "        const element = document.querySelector('#df-2118e0e4-22e5-4d70-997a-3d453c14e176');\n",
              "        const dataTable =\n",
              "          await google.colab.kernel.invokeFunction('convertToInteractive',\n",
              "                                                    [key], {});\n",
              "        if (!dataTable) return;\n",
              "\n",
              "        const docLinkHtml = 'Like what you see? Visit the ' +\n",
              "          '<a target=\"_blank\" href=https://colab.research.google.com/notebooks/data_table.ipynb>data table notebook</a>'\n",
              "          + ' to learn more about interactive tables.';\n",
              "        element.innerHTML = '';\n",
              "        dataTable['output_type'] = 'display_data';\n",
              "        await google.colab.output.renderOutput(dataTable, element);\n",
              "        const docLink = document.createElement('div');\n",
              "        docLink.innerHTML = docLinkHtml;\n",
              "        element.appendChild(docLink);\n",
              "      }\n",
              "    </script>\n",
              "  </div>\n",
              "\n",
              "\n",
              "<div id=\"df-bae27bd3-62fd-4065-8705-274c2688d33b\">\n",
              "  <button class=\"colab-df-quickchart\" onclick=\"quickchart('df-bae27bd3-62fd-4065-8705-274c2688d33b')\"\n",
              "            title=\"Suggest charts\"\n",
              "            style=\"display:none;\">\n",
              "\n",
              "<svg xmlns=\"http://www.w3.org/2000/svg\" height=\"24px\"viewBox=\"0 0 24 24\"\n",
              "     width=\"24px\">\n",
              "    <g>\n",
              "        <path d=\"M19 3H5c-1.1 0-2 .9-2 2v14c0 1.1.9 2 2 2h14c1.1 0 2-.9 2-2V5c0-1.1-.9-2-2-2zM9 17H7v-7h2v7zm4 0h-2V7h2v10zm4 0h-2v-4h2v4z\"/>\n",
              "    </g>\n",
              "</svg>\n",
              "  </button>\n",
              "\n",
              "<style>\n",
              "  .colab-df-quickchart {\n",
              "      --bg-color: #E8F0FE;\n",
              "      --fill-color: #1967D2;\n",
              "      --hover-bg-color: #E2EBFA;\n",
              "      --hover-fill-color: #174EA6;\n",
              "      --disabled-fill-color: #AAA;\n",
              "      --disabled-bg-color: #DDD;\n",
              "  }\n",
              "\n",
              "  [theme=dark] .colab-df-quickchart {\n",
              "      --bg-color: #3B4455;\n",
              "      --fill-color: #D2E3FC;\n",
              "      --hover-bg-color: #434B5C;\n",
              "      --hover-fill-color: #FFFFFF;\n",
              "      --disabled-bg-color: #3B4455;\n",
              "      --disabled-fill-color: #666;\n",
              "  }\n",
              "\n",
              "  .colab-df-quickchart {\n",
              "    background-color: var(--bg-color);\n",
              "    border: none;\n",
              "    border-radius: 50%;\n",
              "    cursor: pointer;\n",
              "    display: none;\n",
              "    fill: var(--fill-color);\n",
              "    height: 32px;\n",
              "    padding: 0;\n",
              "    width: 32px;\n",
              "  }\n",
              "\n",
              "  .colab-df-quickchart:hover {\n",
              "    background-color: var(--hover-bg-color);\n",
              "    box-shadow: 0 1px 2px rgba(60, 64, 67, 0.3), 0 1px 3px 1px rgba(60, 64, 67, 0.15);\n",
              "    fill: var(--button-hover-fill-color);\n",
              "  }\n",
              "\n",
              "  .colab-df-quickchart-complete:disabled,\n",
              "  .colab-df-quickchart-complete:disabled:hover {\n",
              "    background-color: var(--disabled-bg-color);\n",
              "    fill: var(--disabled-fill-color);\n",
              "    box-shadow: none;\n",
              "  }\n",
              "\n",
              "  .colab-df-spinner {\n",
              "    border: 2px solid var(--fill-color);\n",
              "    border-color: transparent;\n",
              "    border-bottom-color: var(--fill-color);\n",
              "    animation:\n",
              "      spin 1s steps(1) infinite;\n",
              "  }\n",
              "\n",
              "  @keyframes spin {\n",
              "    0% {\n",
              "      border-color: transparent;\n",
              "      border-bottom-color: var(--fill-color);\n",
              "      border-left-color: var(--fill-color);\n",
              "    }\n",
              "    20% {\n",
              "      border-color: transparent;\n",
              "      border-left-color: var(--fill-color);\n",
              "      border-top-color: var(--fill-color);\n",
              "    }\n",
              "    30% {\n",
              "      border-color: transparent;\n",
              "      border-left-color: var(--fill-color);\n",
              "      border-top-color: var(--fill-color);\n",
              "      border-right-color: var(--fill-color);\n",
              "    }\n",
              "    40% {\n",
              "      border-color: transparent;\n",
              "      border-right-color: var(--fill-color);\n",
              "      border-top-color: var(--fill-color);\n",
              "    }\n",
              "    60% {\n",
              "      border-color: transparent;\n",
              "      border-right-color: var(--fill-color);\n",
              "    }\n",
              "    80% {\n",
              "      border-color: transparent;\n",
              "      border-right-color: var(--fill-color);\n",
              "      border-bottom-color: var(--fill-color);\n",
              "    }\n",
              "    90% {\n",
              "      border-color: transparent;\n",
              "      border-bottom-color: var(--fill-color);\n",
              "    }\n",
              "  }\n",
              "</style>\n",
              "\n",
              "  <script>\n",
              "    async function quickchart(key) {\n",
              "      const quickchartButtonEl =\n",
              "        document.querySelector('#' + key + ' button');\n",
              "      quickchartButtonEl.disabled = true;  // To prevent multiple clicks.\n",
              "      quickchartButtonEl.classList.add('colab-df-spinner');\n",
              "      try {\n",
              "        const charts = await google.colab.kernel.invokeFunction(\n",
              "            'suggestCharts', [key], {});\n",
              "      } catch (error) {\n",
              "        console.error('Error during call to suggestCharts:', error);\n",
              "      }\n",
              "      quickchartButtonEl.classList.remove('colab-df-spinner');\n",
              "      quickchartButtonEl.classList.add('colab-df-quickchart-complete');\n",
              "    }\n",
              "    (() => {\n",
              "      let quickchartButtonEl =\n",
              "        document.querySelector('#df-bae27bd3-62fd-4065-8705-274c2688d33b button');\n",
              "      quickchartButtonEl.style.display =\n",
              "        google.colab.kernel.accessAllowed ? 'block' : 'none';\n",
              "    })();\n",
              "  </script>\n",
              "</div>\n",
              "    </div>\n",
              "  </div>\n"
            ],
            "application/vnd.google.colaboratory.intrinsic+json": {
              "type": "dataframe",
              "variable_name": "data",
              "summary": "{\n  \"name\": \"data\",\n  \"rows\": 6,\n  \"fields\": [\n    {\n      \"column\": \"nama\",\n      \"properties\": {\n        \"dtype\": \"string\",\n        \"num_unique_values\": 6,\n        \"samples\": [\n          \"Happy\",\n          \"Birthday\",\n          \"tahun\"\n        ],\n        \"semantic_type\": \"\",\n        \"description\": \"\"\n      }\n    },\n    {\n      \"column\": \"jumlah_nama\",\n      \"properties\": {\n        \"dtype\": \"number\",\n        \"std\": 307,\n        \"min\": 211,\n        \"max\": 998,\n        \"num_unique_values\": 6,\n        \"samples\": [\n          998,\n          756,\n          211\n        ],\n        \"semantic_type\": \"\",\n        \"description\": \"\"\n      }\n    }\n  ]\n}"
            }
          },
          "metadata": {},
          "execution_count": 4
        }
      ]
    },
    {
      "cell_type": "code",
      "source": [
        "data.to_csv('sample_data.csv',index=False,header=False)"
      ],
      "metadata": {
        "id": "W1IEK_7Fu0It"
      },
      "execution_count": null,
      "outputs": []
    },
    {
      "cell_type": "code",
      "source": [
        "from google.colab import files\n",
        "files.download('sample_data.csv')"
      ],
      "metadata": {
        "colab": {
          "base_uri": "https://localhost:8080/",
          "height": 17
        },
        "id": "b92MVLSvvARp",
        "outputId": "55598879-14d5-4896-ec1c-09fb6b987cd9"
      },
      "execution_count": null,
      "outputs": [
        {
          "output_type": "display_data",
          "data": {
            "text/plain": [
              "<IPython.core.display.Javascript object>"
            ],
            "application/javascript": [
              "\n",
              "    async function download(id, filename, size) {\n",
              "      if (!google.colab.kernel.accessAllowed) {\n",
              "        return;\n",
              "      }\n",
              "      const div = document.createElement('div');\n",
              "      const label = document.createElement('label');\n",
              "      label.textContent = `Downloading \"${filename}\": `;\n",
              "      div.appendChild(label);\n",
              "      const progress = document.createElement('progress');\n",
              "      progress.max = size;\n",
              "      div.appendChild(progress);\n",
              "      document.body.appendChild(div);\n",
              "\n",
              "      const buffers = [];\n",
              "      let downloaded = 0;\n",
              "\n",
              "      const channel = await google.colab.kernel.comms.open(id);\n",
              "      // Send a message to notify the kernel that we're ready.\n",
              "      channel.send({})\n",
              "\n",
              "      for await (const message of channel.messages) {\n",
              "        // Send a message to notify the kernel that we're ready.\n",
              "        channel.send({})\n",
              "        if (message.buffers) {\n",
              "          for (const buffer of message.buffers) {\n",
              "            buffers.push(buffer);\n",
              "            downloaded += buffer.byteLength;\n",
              "            progress.value = downloaded;\n",
              "          }\n",
              "        }\n",
              "      }\n",
              "      const blob = new Blob(buffers, {type: 'application/binary'});\n",
              "      const a = document.createElement('a');\n",
              "      a.href = window.URL.createObjectURL(blob);\n",
              "      a.download = filename;\n",
              "      div.appendChild(a);\n",
              "      a.click();\n",
              "      div.remove();\n",
              "    }\n",
              "  "
            ]
          },
          "metadata": {}
        },
        {
          "output_type": "display_data",
          "data": {
            "text/plain": [
              "<IPython.core.display.Javascript object>"
            ],
            "application/javascript": [
              "download(\"download_941cffcd-d579-48cf-93a4-4224a75c1635\", \"sample_data.csv\", 61)"
            ]
          },
          "metadata": {}
        }
      ]
    },
    {
      "cell_type": "markdown",
      "source": [
        "####Get Data"
      ],
      "metadata": {
        "id": "hDCZZkHO9E-J"
      }
    },
    {
      "cell_type": "markdown",
      "source": [
        "Link if you want to read more about getting data in google colaboratory: https://towardsdatascience.com/3-ways-to-load-csv-files-into-colab-7c14fcbdcb92"
      ],
      "metadata": {
        "id": "I8uYEKYS9G7l"
      }
    },
    {
      "cell_type": "code",
      "source": [
        "from google.colab import drive\n",
        "drive.mount('/content/drive')"
      ],
      "metadata": {
        "colab": {
          "base_uri": "https://localhost:8080/"
        },
        "id": "mzRPs-r3xeT2",
        "outputId": "ab2c9e2b-7176-41dd-8274-a6aa9dd28d69"
      },
      "execution_count": null,
      "outputs": [
        {
          "output_type": "stream",
          "name": "stdout",
          "text": [
            "Drive already mounted at /content/drive; to attempt to forcibly remount, call drive.mount(\"/content/drive\", force_remount=True).\n"
          ]
        }
      ]
    },
    {
      "cell_type": "code",
      "source": [],
      "metadata": {
        "id": "l48sc9MtzIyA"
      },
      "execution_count": null,
      "outputs": []
    },
    {
      "cell_type": "code",
      "source": [
        "#mengubah directory\n",
        "%cd /content/drive/MyDrive"
      ],
      "metadata": {
        "colab": {
          "base_uri": "https://localhost:8080/"
        },
        "id": "QGNQx7RcxdbY",
        "outputId": "8936bb52-fd42-4cc9-e292-53d8683c96c9"
      },
      "execution_count": null,
      "outputs": [
        {
          "output_type": "stream",
          "name": "stdout",
          "text": [
            "/content/drive/MyDrive\n"
          ]
        }
      ]
    },
    {
      "cell_type": "code",
      "source": [
        "count_nama=pd.read_csv(r'sample_data.csv')"
      ],
      "metadata": {
        "id": "huwYSF1Gz0sV"
      },
      "execution_count": null,
      "outputs": []
    },
    {
      "cell_type": "code",
      "source": [
        "count_nama"
      ],
      "metadata": {
        "colab": {
          "base_uri": "https://localhost:8080/",
          "height": 206
        },
        "id": "xyoqQiFJ0B-3",
        "outputId": "64054702-e2bc-4843-9dd9-e981e74ec649"
      },
      "execution_count": null,
      "outputs": [
        {
          "output_type": "execute_result",
          "data": {
            "text/plain": [
              "      Happy  998\n",
              "0  Birthday  756\n",
              "1      Azfa  531\n",
              "2        ke  870\n",
              "3   duasatu  349\n",
              "4     tahun  211"
            ],
            "text/html": [
              "\n",
              "  <div id=\"df-ca0451f8-16e6-4bad-ba7f-6ad96a43ae42\" class=\"colab-df-container\">\n",
              "    <div>\n",
              "<style scoped>\n",
              "    .dataframe tbody tr th:only-of-type {\n",
              "        vertical-align: middle;\n",
              "    }\n",
              "\n",
              "    .dataframe tbody tr th {\n",
              "        vertical-align: top;\n",
              "    }\n",
              "\n",
              "    .dataframe thead th {\n",
              "        text-align: right;\n",
              "    }\n",
              "</style>\n",
              "<table border=\"1\" class=\"dataframe\">\n",
              "  <thead>\n",
              "    <tr style=\"text-align: right;\">\n",
              "      <th></th>\n",
              "      <th>Happy</th>\n",
              "      <th>998</th>\n",
              "    </tr>\n",
              "  </thead>\n",
              "  <tbody>\n",
              "    <tr>\n",
              "      <th>0</th>\n",
              "      <td>Birthday</td>\n",
              "      <td>756</td>\n",
              "    </tr>\n",
              "    <tr>\n",
              "      <th>1</th>\n",
              "      <td>Azfa</td>\n",
              "      <td>531</td>\n",
              "    </tr>\n",
              "    <tr>\n",
              "      <th>2</th>\n",
              "      <td>ke</td>\n",
              "      <td>870</td>\n",
              "    </tr>\n",
              "    <tr>\n",
              "      <th>3</th>\n",
              "      <td>duasatu</td>\n",
              "      <td>349</td>\n",
              "    </tr>\n",
              "    <tr>\n",
              "      <th>4</th>\n",
              "      <td>tahun</td>\n",
              "      <td>211</td>\n",
              "    </tr>\n",
              "  </tbody>\n",
              "</table>\n",
              "</div>\n",
              "    <div class=\"colab-df-buttons\">\n",
              "\n",
              "  <div class=\"colab-df-container\">\n",
              "    <button class=\"colab-df-convert\" onclick=\"convertToInteractive('df-ca0451f8-16e6-4bad-ba7f-6ad96a43ae42')\"\n",
              "            title=\"Convert this dataframe to an interactive table.\"\n",
              "            style=\"display:none;\">\n",
              "\n",
              "  <svg xmlns=\"http://www.w3.org/2000/svg\" height=\"24px\" viewBox=\"0 -960 960 960\">\n",
              "    <path d=\"M120-120v-720h720v720H120Zm60-500h600v-160H180v160Zm220 220h160v-160H400v160Zm0 220h160v-160H400v160ZM180-400h160v-160H180v160Zm440 0h160v-160H620v160ZM180-180h160v-160H180v160Zm440 0h160v-160H620v160Z\"/>\n",
              "  </svg>\n",
              "    </button>\n",
              "\n",
              "  <style>\n",
              "    .colab-df-container {\n",
              "      display:flex;\n",
              "      gap: 12px;\n",
              "    }\n",
              "\n",
              "    .colab-df-convert {\n",
              "      background-color: #E8F0FE;\n",
              "      border: none;\n",
              "      border-radius: 50%;\n",
              "      cursor: pointer;\n",
              "      display: none;\n",
              "      fill: #1967D2;\n",
              "      height: 32px;\n",
              "      padding: 0 0 0 0;\n",
              "      width: 32px;\n",
              "    }\n",
              "\n",
              "    .colab-df-convert:hover {\n",
              "      background-color: #E2EBFA;\n",
              "      box-shadow: 0px 1px 2px rgba(60, 64, 67, 0.3), 0px 1px 3px 1px rgba(60, 64, 67, 0.15);\n",
              "      fill: #174EA6;\n",
              "    }\n",
              "\n",
              "    .colab-df-buttons div {\n",
              "      margin-bottom: 4px;\n",
              "    }\n",
              "\n",
              "    [theme=dark] .colab-df-convert {\n",
              "      background-color: #3B4455;\n",
              "      fill: #D2E3FC;\n",
              "    }\n",
              "\n",
              "    [theme=dark] .colab-df-convert:hover {\n",
              "      background-color: #434B5C;\n",
              "      box-shadow: 0px 1px 3px 1px rgba(0, 0, 0, 0.15);\n",
              "      filter: drop-shadow(0px 1px 2px rgba(0, 0, 0, 0.3));\n",
              "      fill: #FFFFFF;\n",
              "    }\n",
              "  </style>\n",
              "\n",
              "    <script>\n",
              "      const buttonEl =\n",
              "        document.querySelector('#df-ca0451f8-16e6-4bad-ba7f-6ad96a43ae42 button.colab-df-convert');\n",
              "      buttonEl.style.display =\n",
              "        google.colab.kernel.accessAllowed ? 'block' : 'none';\n",
              "\n",
              "      async function convertToInteractive(key) {\n",
              "        const element = document.querySelector('#df-ca0451f8-16e6-4bad-ba7f-6ad96a43ae42');\n",
              "        const dataTable =\n",
              "          await google.colab.kernel.invokeFunction('convertToInteractive',\n",
              "                                                    [key], {});\n",
              "        if (!dataTable) return;\n",
              "\n",
              "        const docLinkHtml = 'Like what you see? Visit the ' +\n",
              "          '<a target=\"_blank\" href=https://colab.research.google.com/notebooks/data_table.ipynb>data table notebook</a>'\n",
              "          + ' to learn more about interactive tables.';\n",
              "        element.innerHTML = '';\n",
              "        dataTable['output_type'] = 'display_data';\n",
              "        await google.colab.output.renderOutput(dataTable, element);\n",
              "        const docLink = document.createElement('div');\n",
              "        docLink.innerHTML = docLinkHtml;\n",
              "        element.appendChild(docLink);\n",
              "      }\n",
              "    </script>\n",
              "  </div>\n",
              "\n",
              "\n",
              "<div id=\"df-34b14d4c-04dd-4718-9f4d-87e447313f17\">\n",
              "  <button class=\"colab-df-quickchart\" onclick=\"quickchart('df-34b14d4c-04dd-4718-9f4d-87e447313f17')\"\n",
              "            title=\"Suggest charts\"\n",
              "            style=\"display:none;\">\n",
              "\n",
              "<svg xmlns=\"http://www.w3.org/2000/svg\" height=\"24px\"viewBox=\"0 0 24 24\"\n",
              "     width=\"24px\">\n",
              "    <g>\n",
              "        <path d=\"M19 3H5c-1.1 0-2 .9-2 2v14c0 1.1.9 2 2 2h14c1.1 0 2-.9 2-2V5c0-1.1-.9-2-2-2zM9 17H7v-7h2v7zm4 0h-2V7h2v10zm4 0h-2v-4h2v4z\"/>\n",
              "    </g>\n",
              "</svg>\n",
              "  </button>\n",
              "\n",
              "<style>\n",
              "  .colab-df-quickchart {\n",
              "      --bg-color: #E8F0FE;\n",
              "      --fill-color: #1967D2;\n",
              "      --hover-bg-color: #E2EBFA;\n",
              "      --hover-fill-color: #174EA6;\n",
              "      --disabled-fill-color: #AAA;\n",
              "      --disabled-bg-color: #DDD;\n",
              "  }\n",
              "\n",
              "  [theme=dark] .colab-df-quickchart {\n",
              "      --bg-color: #3B4455;\n",
              "      --fill-color: #D2E3FC;\n",
              "      --hover-bg-color: #434B5C;\n",
              "      --hover-fill-color: #FFFFFF;\n",
              "      --disabled-bg-color: #3B4455;\n",
              "      --disabled-fill-color: #666;\n",
              "  }\n",
              "\n",
              "  .colab-df-quickchart {\n",
              "    background-color: var(--bg-color);\n",
              "    border: none;\n",
              "    border-radius: 50%;\n",
              "    cursor: pointer;\n",
              "    display: none;\n",
              "    fill: var(--fill-color);\n",
              "    height: 32px;\n",
              "    padding: 0;\n",
              "    width: 32px;\n",
              "  }\n",
              "\n",
              "  .colab-df-quickchart:hover {\n",
              "    background-color: var(--hover-bg-color);\n",
              "    box-shadow: 0 1px 2px rgba(60, 64, 67, 0.3), 0 1px 3px 1px rgba(60, 64, 67, 0.15);\n",
              "    fill: var(--button-hover-fill-color);\n",
              "  }\n",
              "\n",
              "  .colab-df-quickchart-complete:disabled,\n",
              "  .colab-df-quickchart-complete:disabled:hover {\n",
              "    background-color: var(--disabled-bg-color);\n",
              "    fill: var(--disabled-fill-color);\n",
              "    box-shadow: none;\n",
              "  }\n",
              "\n",
              "  .colab-df-spinner {\n",
              "    border: 2px solid var(--fill-color);\n",
              "    border-color: transparent;\n",
              "    border-bottom-color: var(--fill-color);\n",
              "    animation:\n",
              "      spin 1s steps(1) infinite;\n",
              "  }\n",
              "\n",
              "  @keyframes spin {\n",
              "    0% {\n",
              "      border-color: transparent;\n",
              "      border-bottom-color: var(--fill-color);\n",
              "      border-left-color: var(--fill-color);\n",
              "    }\n",
              "    20% {\n",
              "      border-color: transparent;\n",
              "      border-left-color: var(--fill-color);\n",
              "      border-top-color: var(--fill-color);\n",
              "    }\n",
              "    30% {\n",
              "      border-color: transparent;\n",
              "      border-left-color: var(--fill-color);\n",
              "      border-top-color: var(--fill-color);\n",
              "      border-right-color: var(--fill-color);\n",
              "    }\n",
              "    40% {\n",
              "      border-color: transparent;\n",
              "      border-right-color: var(--fill-color);\n",
              "      border-top-color: var(--fill-color);\n",
              "    }\n",
              "    60% {\n",
              "      border-color: transparent;\n",
              "      border-right-color: var(--fill-color);\n",
              "    }\n",
              "    80% {\n",
              "      border-color: transparent;\n",
              "      border-right-color: var(--fill-color);\n",
              "      border-bottom-color: var(--fill-color);\n",
              "    }\n",
              "    90% {\n",
              "      border-color: transparent;\n",
              "      border-bottom-color: var(--fill-color);\n",
              "    }\n",
              "  }\n",
              "</style>\n",
              "\n",
              "  <script>\n",
              "    async function quickchart(key) {\n",
              "      const quickchartButtonEl =\n",
              "        document.querySelector('#' + key + ' button');\n",
              "      quickchartButtonEl.disabled = true;  // To prevent multiple clicks.\n",
              "      quickchartButtonEl.classList.add('colab-df-spinner');\n",
              "      try {\n",
              "        const charts = await google.colab.kernel.invokeFunction(\n",
              "            'suggestCharts', [key], {});\n",
              "      } catch (error) {\n",
              "        console.error('Error during call to suggestCharts:', error);\n",
              "      }\n",
              "      quickchartButtonEl.classList.remove('colab-df-spinner');\n",
              "      quickchartButtonEl.classList.add('colab-df-quickchart-complete');\n",
              "    }\n",
              "    (() => {\n",
              "      let quickchartButtonEl =\n",
              "        document.querySelector('#df-34b14d4c-04dd-4718-9f4d-87e447313f17 button');\n",
              "      quickchartButtonEl.style.display =\n",
              "        google.colab.kernel.accessAllowed ? 'block' : 'none';\n",
              "    })();\n",
              "  </script>\n",
              "</div>\n",
              "    </div>\n",
              "  </div>\n"
            ],
            "application/vnd.google.colaboratory.intrinsic+json": {
              "type": "dataframe",
              "variable_name": "count_nama",
              "summary": "{\n  \"name\": \"count_nama\",\n  \"rows\": 5,\n  \"fields\": [\n    {\n      \"column\": \"Happy\",\n      \"properties\": {\n        \"dtype\": \"string\",\n        \"num_unique_values\": 5,\n        \"samples\": [\n          \"Azfa\",\n          \"tahun\",\n          \"ke\"\n        ],\n        \"semantic_type\": \"\",\n        \"description\": \"\"\n      }\n    },\n    {\n      \"column\": \"998\",\n      \"properties\": {\n        \"dtype\": \"number\",\n        \"std\": 273,\n        \"min\": 211,\n        \"max\": 870,\n        \"num_unique_values\": 5,\n        \"samples\": [\n          531,\n          211,\n          870\n        ],\n        \"semantic_type\": \"\",\n        \"description\": \"\"\n      }\n    }\n  ]\n}"
            }
          },
          "metadata": {},
          "execution_count": 11
        }
      ]
    },
    {
      "cell_type": "code",
      "source": [
        "count_nama=pd.read_csv(r'sample_data.csv', header=None)\n",
        "count_nama\n",
        "\n"
      ],
      "metadata": {
        "colab": {
          "base_uri": "https://localhost:8080/",
          "height": 238
        },
        "id": "fk1NEaBh5AZ1",
        "outputId": "93361baf-2a57-4dc4-8bed-9a7de28b3a4c"
      },
      "execution_count": null,
      "outputs": [
        {
          "output_type": "execute_result",
          "data": {
            "text/plain": [
              "          0    1\n",
              "0     Happy  998\n",
              "1  Birthday  756\n",
              "2      Azfa  531\n",
              "3        ke  870\n",
              "4   duasatu  349\n",
              "5     tahun  211"
            ],
            "text/html": [
              "\n",
              "  <div id=\"df-a45f4e83-d08a-421b-8039-74740c0235bf\" class=\"colab-df-container\">\n",
              "    <div>\n",
              "<style scoped>\n",
              "    .dataframe tbody tr th:only-of-type {\n",
              "        vertical-align: middle;\n",
              "    }\n",
              "\n",
              "    .dataframe tbody tr th {\n",
              "        vertical-align: top;\n",
              "    }\n",
              "\n",
              "    .dataframe thead th {\n",
              "        text-align: right;\n",
              "    }\n",
              "</style>\n",
              "<table border=\"1\" class=\"dataframe\">\n",
              "  <thead>\n",
              "    <tr style=\"text-align: right;\">\n",
              "      <th></th>\n",
              "      <th>0</th>\n",
              "      <th>1</th>\n",
              "    </tr>\n",
              "  </thead>\n",
              "  <tbody>\n",
              "    <tr>\n",
              "      <th>0</th>\n",
              "      <td>Happy</td>\n",
              "      <td>998</td>\n",
              "    </tr>\n",
              "    <tr>\n",
              "      <th>1</th>\n",
              "      <td>Birthday</td>\n",
              "      <td>756</td>\n",
              "    </tr>\n",
              "    <tr>\n",
              "      <th>2</th>\n",
              "      <td>Azfa</td>\n",
              "      <td>531</td>\n",
              "    </tr>\n",
              "    <tr>\n",
              "      <th>3</th>\n",
              "      <td>ke</td>\n",
              "      <td>870</td>\n",
              "    </tr>\n",
              "    <tr>\n",
              "      <th>4</th>\n",
              "      <td>duasatu</td>\n",
              "      <td>349</td>\n",
              "    </tr>\n",
              "    <tr>\n",
              "      <th>5</th>\n",
              "      <td>tahun</td>\n",
              "      <td>211</td>\n",
              "    </tr>\n",
              "  </tbody>\n",
              "</table>\n",
              "</div>\n",
              "    <div class=\"colab-df-buttons\">\n",
              "\n",
              "  <div class=\"colab-df-container\">\n",
              "    <button class=\"colab-df-convert\" onclick=\"convertToInteractive('df-a45f4e83-d08a-421b-8039-74740c0235bf')\"\n",
              "            title=\"Convert this dataframe to an interactive table.\"\n",
              "            style=\"display:none;\">\n",
              "\n",
              "  <svg xmlns=\"http://www.w3.org/2000/svg\" height=\"24px\" viewBox=\"0 -960 960 960\">\n",
              "    <path d=\"M120-120v-720h720v720H120Zm60-500h600v-160H180v160Zm220 220h160v-160H400v160Zm0 220h160v-160H400v160ZM180-400h160v-160H180v160Zm440 0h160v-160H620v160ZM180-180h160v-160H180v160Zm440 0h160v-160H620v160Z\"/>\n",
              "  </svg>\n",
              "    </button>\n",
              "\n",
              "  <style>\n",
              "    .colab-df-container {\n",
              "      display:flex;\n",
              "      gap: 12px;\n",
              "    }\n",
              "\n",
              "    .colab-df-convert {\n",
              "      background-color: #E8F0FE;\n",
              "      border: none;\n",
              "      border-radius: 50%;\n",
              "      cursor: pointer;\n",
              "      display: none;\n",
              "      fill: #1967D2;\n",
              "      height: 32px;\n",
              "      padding: 0 0 0 0;\n",
              "      width: 32px;\n",
              "    }\n",
              "\n",
              "    .colab-df-convert:hover {\n",
              "      background-color: #E2EBFA;\n",
              "      box-shadow: 0px 1px 2px rgba(60, 64, 67, 0.3), 0px 1px 3px 1px rgba(60, 64, 67, 0.15);\n",
              "      fill: #174EA6;\n",
              "    }\n",
              "\n",
              "    .colab-df-buttons div {\n",
              "      margin-bottom: 4px;\n",
              "    }\n",
              "\n",
              "    [theme=dark] .colab-df-convert {\n",
              "      background-color: #3B4455;\n",
              "      fill: #D2E3FC;\n",
              "    }\n",
              "\n",
              "    [theme=dark] .colab-df-convert:hover {\n",
              "      background-color: #434B5C;\n",
              "      box-shadow: 0px 1px 3px 1px rgba(0, 0, 0, 0.15);\n",
              "      filter: drop-shadow(0px 1px 2px rgba(0, 0, 0, 0.3));\n",
              "      fill: #FFFFFF;\n",
              "    }\n",
              "  </style>\n",
              "\n",
              "    <script>\n",
              "      const buttonEl =\n",
              "        document.querySelector('#df-a45f4e83-d08a-421b-8039-74740c0235bf button.colab-df-convert');\n",
              "      buttonEl.style.display =\n",
              "        google.colab.kernel.accessAllowed ? 'block' : 'none';\n",
              "\n",
              "      async function convertToInteractive(key) {\n",
              "        const element = document.querySelector('#df-a45f4e83-d08a-421b-8039-74740c0235bf');\n",
              "        const dataTable =\n",
              "          await google.colab.kernel.invokeFunction('convertToInteractive',\n",
              "                                                    [key], {});\n",
              "        if (!dataTable) return;\n",
              "\n",
              "        const docLinkHtml = 'Like what you see? Visit the ' +\n",
              "          '<a target=\"_blank\" href=https://colab.research.google.com/notebooks/data_table.ipynb>data table notebook</a>'\n",
              "          + ' to learn more about interactive tables.';\n",
              "        element.innerHTML = '';\n",
              "        dataTable['output_type'] = 'display_data';\n",
              "        await google.colab.output.renderOutput(dataTable, element);\n",
              "        const docLink = document.createElement('div');\n",
              "        docLink.innerHTML = docLinkHtml;\n",
              "        element.appendChild(docLink);\n",
              "      }\n",
              "    </script>\n",
              "  </div>\n",
              "\n",
              "\n",
              "<div id=\"df-12221d08-6afa-4a07-9cdd-c098dc47315a\">\n",
              "  <button class=\"colab-df-quickchart\" onclick=\"quickchart('df-12221d08-6afa-4a07-9cdd-c098dc47315a')\"\n",
              "            title=\"Suggest charts\"\n",
              "            style=\"display:none;\">\n",
              "\n",
              "<svg xmlns=\"http://www.w3.org/2000/svg\" height=\"24px\"viewBox=\"0 0 24 24\"\n",
              "     width=\"24px\">\n",
              "    <g>\n",
              "        <path d=\"M19 3H5c-1.1 0-2 .9-2 2v14c0 1.1.9 2 2 2h14c1.1 0 2-.9 2-2V5c0-1.1-.9-2-2-2zM9 17H7v-7h2v7zm4 0h-2V7h2v10zm4 0h-2v-4h2v4z\"/>\n",
              "    </g>\n",
              "</svg>\n",
              "  </button>\n",
              "\n",
              "<style>\n",
              "  .colab-df-quickchart {\n",
              "      --bg-color: #E8F0FE;\n",
              "      --fill-color: #1967D2;\n",
              "      --hover-bg-color: #E2EBFA;\n",
              "      --hover-fill-color: #174EA6;\n",
              "      --disabled-fill-color: #AAA;\n",
              "      --disabled-bg-color: #DDD;\n",
              "  }\n",
              "\n",
              "  [theme=dark] .colab-df-quickchart {\n",
              "      --bg-color: #3B4455;\n",
              "      --fill-color: #D2E3FC;\n",
              "      --hover-bg-color: #434B5C;\n",
              "      --hover-fill-color: #FFFFFF;\n",
              "      --disabled-bg-color: #3B4455;\n",
              "      --disabled-fill-color: #666;\n",
              "  }\n",
              "\n",
              "  .colab-df-quickchart {\n",
              "    background-color: var(--bg-color);\n",
              "    border: none;\n",
              "    border-radius: 50%;\n",
              "    cursor: pointer;\n",
              "    display: none;\n",
              "    fill: var(--fill-color);\n",
              "    height: 32px;\n",
              "    padding: 0;\n",
              "    width: 32px;\n",
              "  }\n",
              "\n",
              "  .colab-df-quickchart:hover {\n",
              "    background-color: var(--hover-bg-color);\n",
              "    box-shadow: 0 1px 2px rgba(60, 64, 67, 0.3), 0 1px 3px 1px rgba(60, 64, 67, 0.15);\n",
              "    fill: var(--button-hover-fill-color);\n",
              "  }\n",
              "\n",
              "  .colab-df-quickchart-complete:disabled,\n",
              "  .colab-df-quickchart-complete:disabled:hover {\n",
              "    background-color: var(--disabled-bg-color);\n",
              "    fill: var(--disabled-fill-color);\n",
              "    box-shadow: none;\n",
              "  }\n",
              "\n",
              "  .colab-df-spinner {\n",
              "    border: 2px solid var(--fill-color);\n",
              "    border-color: transparent;\n",
              "    border-bottom-color: var(--fill-color);\n",
              "    animation:\n",
              "      spin 1s steps(1) infinite;\n",
              "  }\n",
              "\n",
              "  @keyframes spin {\n",
              "    0% {\n",
              "      border-color: transparent;\n",
              "      border-bottom-color: var(--fill-color);\n",
              "      border-left-color: var(--fill-color);\n",
              "    }\n",
              "    20% {\n",
              "      border-color: transparent;\n",
              "      border-left-color: var(--fill-color);\n",
              "      border-top-color: var(--fill-color);\n",
              "    }\n",
              "    30% {\n",
              "      border-color: transparent;\n",
              "      border-left-color: var(--fill-color);\n",
              "      border-top-color: var(--fill-color);\n",
              "      border-right-color: var(--fill-color);\n",
              "    }\n",
              "    40% {\n",
              "      border-color: transparent;\n",
              "      border-right-color: var(--fill-color);\n",
              "      border-top-color: var(--fill-color);\n",
              "    }\n",
              "    60% {\n",
              "      border-color: transparent;\n",
              "      border-right-color: var(--fill-color);\n",
              "    }\n",
              "    80% {\n",
              "      border-color: transparent;\n",
              "      border-right-color: var(--fill-color);\n",
              "      border-bottom-color: var(--fill-color);\n",
              "    }\n",
              "    90% {\n",
              "      border-color: transparent;\n",
              "      border-bottom-color: var(--fill-color);\n",
              "    }\n",
              "  }\n",
              "</style>\n",
              "\n",
              "  <script>\n",
              "    async function quickchart(key) {\n",
              "      const quickchartButtonEl =\n",
              "        document.querySelector('#' + key + ' button');\n",
              "      quickchartButtonEl.disabled = true;  // To prevent multiple clicks.\n",
              "      quickchartButtonEl.classList.add('colab-df-spinner');\n",
              "      try {\n",
              "        const charts = await google.colab.kernel.invokeFunction(\n",
              "            'suggestCharts', [key], {});\n",
              "      } catch (error) {\n",
              "        console.error('Error during call to suggestCharts:', error);\n",
              "      }\n",
              "      quickchartButtonEl.classList.remove('colab-df-spinner');\n",
              "      quickchartButtonEl.classList.add('colab-df-quickchart-complete');\n",
              "    }\n",
              "    (() => {\n",
              "      let quickchartButtonEl =\n",
              "        document.querySelector('#df-12221d08-6afa-4a07-9cdd-c098dc47315a button');\n",
              "      quickchartButtonEl.style.display =\n",
              "        google.colab.kernel.accessAllowed ? 'block' : 'none';\n",
              "    })();\n",
              "  </script>\n",
              "</div>\n",
              "    </div>\n",
              "  </div>\n"
            ],
            "application/vnd.google.colaboratory.intrinsic+json": {
              "type": "dataframe",
              "variable_name": "count_nama",
              "summary": "{\n  \"name\": \"count_nama\",\n  \"rows\": 6,\n  \"fields\": [\n    {\n      \"column\": 0,\n      \"properties\": {\n        \"dtype\": \"string\",\n        \"num_unique_values\": 6,\n        \"samples\": [\n          \"Happy\",\n          \"Birthday\",\n          \"tahun\"\n        ],\n        \"semantic_type\": \"\",\n        \"description\": \"\"\n      }\n    },\n    {\n      \"column\": 1,\n      \"properties\": {\n        \"dtype\": \"number\",\n        \"std\": 307,\n        \"min\": 211,\n        \"max\": 998,\n        \"num_unique_values\": 6,\n        \"samples\": [\n          998,\n          756,\n          211\n        ],\n        \"semantic_type\": \"\",\n        \"description\": \"\"\n      }\n    }\n  ]\n}"
            }
          },
          "metadata": {},
          "execution_count": 12
        }
      ]
    },
    {
      "cell_type": "code",
      "source": [
        "count_nama=pd.read_csv(r'sample_data.csv', header=None, names=['nama','jumlah_nama'])\n",
        "count_nama"
      ],
      "metadata": {
        "colab": {
          "base_uri": "https://localhost:8080/",
          "height": 238
        },
        "id": "NlkeZ3QJ5X6X",
        "outputId": "0a33640a-78d3-4cb6-c37a-df0333e65ad2"
      },
      "execution_count": null,
      "outputs": [
        {
          "output_type": "execute_result",
          "data": {
            "text/plain": [
              "       nama  jumlah_nama\n",
              "0     Happy          998\n",
              "1  Birthday          756\n",
              "2      Azfa          531\n",
              "3        ke          870\n",
              "4   duasatu          349\n",
              "5     tahun          211"
            ],
            "text/html": [
              "\n",
              "  <div id=\"df-e6df5c03-e6cc-4d1e-b038-d582f7890adf\" class=\"colab-df-container\">\n",
              "    <div>\n",
              "<style scoped>\n",
              "    .dataframe tbody tr th:only-of-type {\n",
              "        vertical-align: middle;\n",
              "    }\n",
              "\n",
              "    .dataframe tbody tr th {\n",
              "        vertical-align: top;\n",
              "    }\n",
              "\n",
              "    .dataframe thead th {\n",
              "        text-align: right;\n",
              "    }\n",
              "</style>\n",
              "<table border=\"1\" class=\"dataframe\">\n",
              "  <thead>\n",
              "    <tr style=\"text-align: right;\">\n",
              "      <th></th>\n",
              "      <th>nama</th>\n",
              "      <th>jumlah_nama</th>\n",
              "    </tr>\n",
              "  </thead>\n",
              "  <tbody>\n",
              "    <tr>\n",
              "      <th>0</th>\n",
              "      <td>Happy</td>\n",
              "      <td>998</td>\n",
              "    </tr>\n",
              "    <tr>\n",
              "      <th>1</th>\n",
              "      <td>Birthday</td>\n",
              "      <td>756</td>\n",
              "    </tr>\n",
              "    <tr>\n",
              "      <th>2</th>\n",
              "      <td>Azfa</td>\n",
              "      <td>531</td>\n",
              "    </tr>\n",
              "    <tr>\n",
              "      <th>3</th>\n",
              "      <td>ke</td>\n",
              "      <td>870</td>\n",
              "    </tr>\n",
              "    <tr>\n",
              "      <th>4</th>\n",
              "      <td>duasatu</td>\n",
              "      <td>349</td>\n",
              "    </tr>\n",
              "    <tr>\n",
              "      <th>5</th>\n",
              "      <td>tahun</td>\n",
              "      <td>211</td>\n",
              "    </tr>\n",
              "  </tbody>\n",
              "</table>\n",
              "</div>\n",
              "    <div class=\"colab-df-buttons\">\n",
              "\n",
              "  <div class=\"colab-df-container\">\n",
              "    <button class=\"colab-df-convert\" onclick=\"convertToInteractive('df-e6df5c03-e6cc-4d1e-b038-d582f7890adf')\"\n",
              "            title=\"Convert this dataframe to an interactive table.\"\n",
              "            style=\"display:none;\">\n",
              "\n",
              "  <svg xmlns=\"http://www.w3.org/2000/svg\" height=\"24px\" viewBox=\"0 -960 960 960\">\n",
              "    <path d=\"M120-120v-720h720v720H120Zm60-500h600v-160H180v160Zm220 220h160v-160H400v160Zm0 220h160v-160H400v160ZM180-400h160v-160H180v160Zm440 0h160v-160H620v160ZM180-180h160v-160H180v160Zm440 0h160v-160H620v160Z\"/>\n",
              "  </svg>\n",
              "    </button>\n",
              "\n",
              "  <style>\n",
              "    .colab-df-container {\n",
              "      display:flex;\n",
              "      gap: 12px;\n",
              "    }\n",
              "\n",
              "    .colab-df-convert {\n",
              "      background-color: #E8F0FE;\n",
              "      border: none;\n",
              "      border-radius: 50%;\n",
              "      cursor: pointer;\n",
              "      display: none;\n",
              "      fill: #1967D2;\n",
              "      height: 32px;\n",
              "      padding: 0 0 0 0;\n",
              "      width: 32px;\n",
              "    }\n",
              "\n",
              "    .colab-df-convert:hover {\n",
              "      background-color: #E2EBFA;\n",
              "      box-shadow: 0px 1px 2px rgba(60, 64, 67, 0.3), 0px 1px 3px 1px rgba(60, 64, 67, 0.15);\n",
              "      fill: #174EA6;\n",
              "    }\n",
              "\n",
              "    .colab-df-buttons div {\n",
              "      margin-bottom: 4px;\n",
              "    }\n",
              "\n",
              "    [theme=dark] .colab-df-convert {\n",
              "      background-color: #3B4455;\n",
              "      fill: #D2E3FC;\n",
              "    }\n",
              "\n",
              "    [theme=dark] .colab-df-convert:hover {\n",
              "      background-color: #434B5C;\n",
              "      box-shadow: 0px 1px 3px 1px rgba(0, 0, 0, 0.15);\n",
              "      filter: drop-shadow(0px 1px 2px rgba(0, 0, 0, 0.3));\n",
              "      fill: #FFFFFF;\n",
              "    }\n",
              "  </style>\n",
              "\n",
              "    <script>\n",
              "      const buttonEl =\n",
              "        document.querySelector('#df-e6df5c03-e6cc-4d1e-b038-d582f7890adf button.colab-df-convert');\n",
              "      buttonEl.style.display =\n",
              "        google.colab.kernel.accessAllowed ? 'block' : 'none';\n",
              "\n",
              "      async function convertToInteractive(key) {\n",
              "        const element = document.querySelector('#df-e6df5c03-e6cc-4d1e-b038-d582f7890adf');\n",
              "        const dataTable =\n",
              "          await google.colab.kernel.invokeFunction('convertToInteractive',\n",
              "                                                    [key], {});\n",
              "        if (!dataTable) return;\n",
              "\n",
              "        const docLinkHtml = 'Like what you see? Visit the ' +\n",
              "          '<a target=\"_blank\" href=https://colab.research.google.com/notebooks/data_table.ipynb>data table notebook</a>'\n",
              "          + ' to learn more about interactive tables.';\n",
              "        element.innerHTML = '';\n",
              "        dataTable['output_type'] = 'display_data';\n",
              "        await google.colab.output.renderOutput(dataTable, element);\n",
              "        const docLink = document.createElement('div');\n",
              "        docLink.innerHTML = docLinkHtml;\n",
              "        element.appendChild(docLink);\n",
              "      }\n",
              "    </script>\n",
              "  </div>\n",
              "\n",
              "\n",
              "<div id=\"df-b00245b8-bcce-4585-9772-e72739f12b3d\">\n",
              "  <button class=\"colab-df-quickchart\" onclick=\"quickchart('df-b00245b8-bcce-4585-9772-e72739f12b3d')\"\n",
              "            title=\"Suggest charts\"\n",
              "            style=\"display:none;\">\n",
              "\n",
              "<svg xmlns=\"http://www.w3.org/2000/svg\" height=\"24px\"viewBox=\"0 0 24 24\"\n",
              "     width=\"24px\">\n",
              "    <g>\n",
              "        <path d=\"M19 3H5c-1.1 0-2 .9-2 2v14c0 1.1.9 2 2 2h14c1.1 0 2-.9 2-2V5c0-1.1-.9-2-2-2zM9 17H7v-7h2v7zm4 0h-2V7h2v10zm4 0h-2v-4h2v4z\"/>\n",
              "    </g>\n",
              "</svg>\n",
              "  </button>\n",
              "\n",
              "<style>\n",
              "  .colab-df-quickchart {\n",
              "      --bg-color: #E8F0FE;\n",
              "      --fill-color: #1967D2;\n",
              "      --hover-bg-color: #E2EBFA;\n",
              "      --hover-fill-color: #174EA6;\n",
              "      --disabled-fill-color: #AAA;\n",
              "      --disabled-bg-color: #DDD;\n",
              "  }\n",
              "\n",
              "  [theme=dark] .colab-df-quickchart {\n",
              "      --bg-color: #3B4455;\n",
              "      --fill-color: #D2E3FC;\n",
              "      --hover-bg-color: #434B5C;\n",
              "      --hover-fill-color: #FFFFFF;\n",
              "      --disabled-bg-color: #3B4455;\n",
              "      --disabled-fill-color: #666;\n",
              "  }\n",
              "\n",
              "  .colab-df-quickchart {\n",
              "    background-color: var(--bg-color);\n",
              "    border: none;\n",
              "    border-radius: 50%;\n",
              "    cursor: pointer;\n",
              "    display: none;\n",
              "    fill: var(--fill-color);\n",
              "    height: 32px;\n",
              "    padding: 0;\n",
              "    width: 32px;\n",
              "  }\n",
              "\n",
              "  .colab-df-quickchart:hover {\n",
              "    background-color: var(--hover-bg-color);\n",
              "    box-shadow: 0 1px 2px rgba(60, 64, 67, 0.3), 0 1px 3px 1px rgba(60, 64, 67, 0.15);\n",
              "    fill: var(--button-hover-fill-color);\n",
              "  }\n",
              "\n",
              "  .colab-df-quickchart-complete:disabled,\n",
              "  .colab-df-quickchart-complete:disabled:hover {\n",
              "    background-color: var(--disabled-bg-color);\n",
              "    fill: var(--disabled-fill-color);\n",
              "    box-shadow: none;\n",
              "  }\n",
              "\n",
              "  .colab-df-spinner {\n",
              "    border: 2px solid var(--fill-color);\n",
              "    border-color: transparent;\n",
              "    border-bottom-color: var(--fill-color);\n",
              "    animation:\n",
              "      spin 1s steps(1) infinite;\n",
              "  }\n",
              "\n",
              "  @keyframes spin {\n",
              "    0% {\n",
              "      border-color: transparent;\n",
              "      border-bottom-color: var(--fill-color);\n",
              "      border-left-color: var(--fill-color);\n",
              "    }\n",
              "    20% {\n",
              "      border-color: transparent;\n",
              "      border-left-color: var(--fill-color);\n",
              "      border-top-color: var(--fill-color);\n",
              "    }\n",
              "    30% {\n",
              "      border-color: transparent;\n",
              "      border-left-color: var(--fill-color);\n",
              "      border-top-color: var(--fill-color);\n",
              "      border-right-color: var(--fill-color);\n",
              "    }\n",
              "    40% {\n",
              "      border-color: transparent;\n",
              "      border-right-color: var(--fill-color);\n",
              "      border-top-color: var(--fill-color);\n",
              "    }\n",
              "    60% {\n",
              "      border-color: transparent;\n",
              "      border-right-color: var(--fill-color);\n",
              "    }\n",
              "    80% {\n",
              "      border-color: transparent;\n",
              "      border-right-color: var(--fill-color);\n",
              "      border-bottom-color: var(--fill-color);\n",
              "    }\n",
              "    90% {\n",
              "      border-color: transparent;\n",
              "      border-bottom-color: var(--fill-color);\n",
              "    }\n",
              "  }\n",
              "</style>\n",
              "\n",
              "  <script>\n",
              "    async function quickchart(key) {\n",
              "      const quickchartButtonEl =\n",
              "        document.querySelector('#' + key + ' button');\n",
              "      quickchartButtonEl.disabled = true;  // To prevent multiple clicks.\n",
              "      quickchartButtonEl.classList.add('colab-df-spinner');\n",
              "      try {\n",
              "        const charts = await google.colab.kernel.invokeFunction(\n",
              "            'suggestCharts', [key], {});\n",
              "      } catch (error) {\n",
              "        console.error('Error during call to suggestCharts:', error);\n",
              "      }\n",
              "      quickchartButtonEl.classList.remove('colab-df-spinner');\n",
              "      quickchartButtonEl.classList.add('colab-df-quickchart-complete');\n",
              "    }\n",
              "    (() => {\n",
              "      let quickchartButtonEl =\n",
              "        document.querySelector('#df-b00245b8-bcce-4585-9772-e72739f12b3d button');\n",
              "      quickchartButtonEl.style.display =\n",
              "        google.colab.kernel.accessAllowed ? 'block' : 'none';\n",
              "    })();\n",
              "  </script>\n",
              "</div>\n",
              "    </div>\n",
              "  </div>\n"
            ],
            "application/vnd.google.colaboratory.intrinsic+json": {
              "type": "dataframe",
              "variable_name": "count_nama",
              "summary": "{\n  \"name\": \"count_nama\",\n  \"rows\": 6,\n  \"fields\": [\n    {\n      \"column\": \"nama\",\n      \"properties\": {\n        \"dtype\": \"string\",\n        \"num_unique_values\": 6,\n        \"samples\": [\n          \"Happy\",\n          \"Birthday\",\n          \"tahun\"\n        ],\n        \"semantic_type\": \"\",\n        \"description\": \"\"\n      }\n    },\n    {\n      \"column\": \"jumlah_nama\",\n      \"properties\": {\n        \"dtype\": \"number\",\n        \"std\": 307,\n        \"min\": 211,\n        \"max\": 998,\n        \"num_unique_values\": 6,\n        \"samples\": [\n          998,\n          756,\n          211\n        ],\n        \"semantic_type\": \"\",\n        \"description\": \"\"\n      }\n    }\n  ]\n}"
            }
          },
          "metadata": {},
          "execution_count": 13
        }
      ]
    },
    {
      "cell_type": "markdown",
      "source": [
        "####Prepare Data"
      ],
      "metadata": {
        "id": "oFOnAiTe8JhV"
      }
    },
    {
      "cell_type": "code",
      "source": [
        "#cek summary\n",
        "count_nama.info()"
      ],
      "metadata": {
        "colab": {
          "base_uri": "https://localhost:8080/"
        },
        "id": "EZJH-OHN8L8t",
        "outputId": "2adf2950-d1ab-4de7-cdcf-5ddaaa1caa40"
      },
      "execution_count": null,
      "outputs": [
        {
          "output_type": "stream",
          "name": "stdout",
          "text": [
            "<class 'pandas.core.frame.DataFrame'>\n",
            "RangeIndex: 6 entries, 0 to 5\n",
            "Data columns (total 2 columns):\n",
            " #   Column       Non-Null Count  Dtype \n",
            "---  ------       --------------  ----- \n",
            " 0   nama         6 non-null      object\n",
            " 1   jumlah_nama  6 non-null      int64 \n",
            "dtypes: int64(1), object(1)\n",
            "memory usage: 224.0+ bytes\n"
          ]
        }
      ]
    },
    {
      "cell_type": "code",
      "source": [
        "#cek tipe data untuk setiap kolom\n",
        "count_nama.dtypes"
      ],
      "metadata": {
        "colab": {
          "base_uri": "https://localhost:8080/"
        },
        "id": "YLGYyJEy8oM1",
        "outputId": "e7abdaaf-87bf-44ce-8637-e6378de8e4dc"
      },
      "execution_count": null,
      "outputs": [
        {
          "output_type": "execute_result",
          "data": {
            "text/plain": [
              "nama           object\n",
              "jumlah_nama     int64\n",
              "dtype: object"
            ]
          },
          "metadata": {},
          "execution_count": 22
        }
      ]
    },
    {
      "cell_type": "code",
      "source": [
        "#cek tipe data untuk spesifik kolom\n",
        "count_nama.jumlah_nama.dtypes"
      ],
      "metadata": {
        "colab": {
          "base_uri": "https://localhost:8080/"
        },
        "id": "-_Sn8aGo9-K7",
        "outputId": "853f8d8e-3ec9-4991-bac3-452f625f3f10"
      },
      "execution_count": null,
      "outputs": [
        {
          "output_type": "execute_result",
          "data": {
            "text/plain": [
              "dtype('int64')"
            ]
          },
          "metadata": {},
          "execution_count": 24
        }
      ]
    },
    {
      "cell_type": "code",
      "source": [
        "#cek ordo\n",
        "count_nama.shape"
      ],
      "metadata": {
        "colab": {
          "base_uri": "https://localhost:8080/"
        },
        "id": "4BZBJY3M_Ita",
        "outputId": "430c5400-a8d9-4f6d-b8c2-bd0c3eae0bf4"
      },
      "execution_count": null,
      "outputs": [
        {
          "output_type": "execute_result",
          "data": {
            "text/plain": [
              "(6, 2)"
            ]
          },
          "metadata": {},
          "execution_count": 25
        }
      ]
    },
    {
      "cell_type": "code",
      "source": [
        "#cek statistik summary untuk kolom bertipe numerik\n",
        "count_nama.describe()"
      ],
      "metadata": {
        "colab": {
          "base_uri": "https://localhost:8080/",
          "height": 301
        },
        "id": "R3DR0YXj_M-k",
        "outputId": "7bb1f399-5092-4563-b516-7f61904bb593"
      },
      "execution_count": null,
      "outputs": [
        {
          "output_type": "execute_result",
          "data": {
            "text/plain": [
              "       jumlah_nama\n",
              "count     6.000000\n",
              "mean    619.166667\n",
              "std     307.414649\n",
              "min     211.000000\n",
              "25%     394.500000\n",
              "50%     643.500000\n",
              "75%     841.500000\n",
              "max     998.000000"
            ],
            "text/html": [
              "\n",
              "  <div id=\"df-23454c0d-cd67-486b-8e23-a01dd7f1d1cd\" class=\"colab-df-container\">\n",
              "    <div>\n",
              "<style scoped>\n",
              "    .dataframe tbody tr th:only-of-type {\n",
              "        vertical-align: middle;\n",
              "    }\n",
              "\n",
              "    .dataframe tbody tr th {\n",
              "        vertical-align: top;\n",
              "    }\n",
              "\n",
              "    .dataframe thead th {\n",
              "        text-align: right;\n",
              "    }\n",
              "</style>\n",
              "<table border=\"1\" class=\"dataframe\">\n",
              "  <thead>\n",
              "    <tr style=\"text-align: right;\">\n",
              "      <th></th>\n",
              "      <th>jumlah_nama</th>\n",
              "    </tr>\n",
              "  </thead>\n",
              "  <tbody>\n",
              "    <tr>\n",
              "      <th>count</th>\n",
              "      <td>6.000000</td>\n",
              "    </tr>\n",
              "    <tr>\n",
              "      <th>mean</th>\n",
              "      <td>619.166667</td>\n",
              "    </tr>\n",
              "    <tr>\n",
              "      <th>std</th>\n",
              "      <td>307.414649</td>\n",
              "    </tr>\n",
              "    <tr>\n",
              "      <th>min</th>\n",
              "      <td>211.000000</td>\n",
              "    </tr>\n",
              "    <tr>\n",
              "      <th>25%</th>\n",
              "      <td>394.500000</td>\n",
              "    </tr>\n",
              "    <tr>\n",
              "      <th>50%</th>\n",
              "      <td>643.500000</td>\n",
              "    </tr>\n",
              "    <tr>\n",
              "      <th>75%</th>\n",
              "      <td>841.500000</td>\n",
              "    </tr>\n",
              "    <tr>\n",
              "      <th>max</th>\n",
              "      <td>998.000000</td>\n",
              "    </tr>\n",
              "  </tbody>\n",
              "</table>\n",
              "</div>\n",
              "    <div class=\"colab-df-buttons\">\n",
              "\n",
              "  <div class=\"colab-df-container\">\n",
              "    <button class=\"colab-df-convert\" onclick=\"convertToInteractive('df-23454c0d-cd67-486b-8e23-a01dd7f1d1cd')\"\n",
              "            title=\"Convert this dataframe to an interactive table.\"\n",
              "            style=\"display:none;\">\n",
              "\n",
              "  <svg xmlns=\"http://www.w3.org/2000/svg\" height=\"24px\" viewBox=\"0 -960 960 960\">\n",
              "    <path d=\"M120-120v-720h720v720H120Zm60-500h600v-160H180v160Zm220 220h160v-160H400v160Zm0 220h160v-160H400v160ZM180-400h160v-160H180v160Zm440 0h160v-160H620v160ZM180-180h160v-160H180v160Zm440 0h160v-160H620v160Z\"/>\n",
              "  </svg>\n",
              "    </button>\n",
              "\n",
              "  <style>\n",
              "    .colab-df-container {\n",
              "      display:flex;\n",
              "      gap: 12px;\n",
              "    }\n",
              "\n",
              "    .colab-df-convert {\n",
              "      background-color: #E8F0FE;\n",
              "      border: none;\n",
              "      border-radius: 50%;\n",
              "      cursor: pointer;\n",
              "      display: none;\n",
              "      fill: #1967D2;\n",
              "      height: 32px;\n",
              "      padding: 0 0 0 0;\n",
              "      width: 32px;\n",
              "    }\n",
              "\n",
              "    .colab-df-convert:hover {\n",
              "      background-color: #E2EBFA;\n",
              "      box-shadow: 0px 1px 2px rgba(60, 64, 67, 0.3), 0px 1px 3px 1px rgba(60, 64, 67, 0.15);\n",
              "      fill: #174EA6;\n",
              "    }\n",
              "\n",
              "    .colab-df-buttons div {\n",
              "      margin-bottom: 4px;\n",
              "    }\n",
              "\n",
              "    [theme=dark] .colab-df-convert {\n",
              "      background-color: #3B4455;\n",
              "      fill: #D2E3FC;\n",
              "    }\n",
              "\n",
              "    [theme=dark] .colab-df-convert:hover {\n",
              "      background-color: #434B5C;\n",
              "      box-shadow: 0px 1px 3px 1px rgba(0, 0, 0, 0.15);\n",
              "      filter: drop-shadow(0px 1px 2px rgba(0, 0, 0, 0.3));\n",
              "      fill: #FFFFFF;\n",
              "    }\n",
              "  </style>\n",
              "\n",
              "    <script>\n",
              "      const buttonEl =\n",
              "        document.querySelector('#df-23454c0d-cd67-486b-8e23-a01dd7f1d1cd button.colab-df-convert');\n",
              "      buttonEl.style.display =\n",
              "        google.colab.kernel.accessAllowed ? 'block' : 'none';\n",
              "\n",
              "      async function convertToInteractive(key) {\n",
              "        const element = document.querySelector('#df-23454c0d-cd67-486b-8e23-a01dd7f1d1cd');\n",
              "        const dataTable =\n",
              "          await google.colab.kernel.invokeFunction('convertToInteractive',\n",
              "                                                    [key], {});\n",
              "        if (!dataTable) return;\n",
              "\n",
              "        const docLinkHtml = 'Like what you see? Visit the ' +\n",
              "          '<a target=\"_blank\" href=https://colab.research.google.com/notebooks/data_table.ipynb>data table notebook</a>'\n",
              "          + ' to learn more about interactive tables.';\n",
              "        element.innerHTML = '';\n",
              "        dataTable['output_type'] = 'display_data';\n",
              "        await google.colab.output.renderOutput(dataTable, element);\n",
              "        const docLink = document.createElement('div');\n",
              "        docLink.innerHTML = docLinkHtml;\n",
              "        element.appendChild(docLink);\n",
              "      }\n",
              "    </script>\n",
              "  </div>\n",
              "\n",
              "\n",
              "<div id=\"df-51e8eec8-335a-408a-a5aa-99bb845a1b4e\">\n",
              "  <button class=\"colab-df-quickchart\" onclick=\"quickchart('df-51e8eec8-335a-408a-a5aa-99bb845a1b4e')\"\n",
              "            title=\"Suggest charts\"\n",
              "            style=\"display:none;\">\n",
              "\n",
              "<svg xmlns=\"http://www.w3.org/2000/svg\" height=\"24px\"viewBox=\"0 0 24 24\"\n",
              "     width=\"24px\">\n",
              "    <g>\n",
              "        <path d=\"M19 3H5c-1.1 0-2 .9-2 2v14c0 1.1.9 2 2 2h14c1.1 0 2-.9 2-2V5c0-1.1-.9-2-2-2zM9 17H7v-7h2v7zm4 0h-2V7h2v10zm4 0h-2v-4h2v4z\"/>\n",
              "    </g>\n",
              "</svg>\n",
              "  </button>\n",
              "\n",
              "<style>\n",
              "  .colab-df-quickchart {\n",
              "      --bg-color: #E8F0FE;\n",
              "      --fill-color: #1967D2;\n",
              "      --hover-bg-color: #E2EBFA;\n",
              "      --hover-fill-color: #174EA6;\n",
              "      --disabled-fill-color: #AAA;\n",
              "      --disabled-bg-color: #DDD;\n",
              "  }\n",
              "\n",
              "  [theme=dark] .colab-df-quickchart {\n",
              "      --bg-color: #3B4455;\n",
              "      --fill-color: #D2E3FC;\n",
              "      --hover-bg-color: #434B5C;\n",
              "      --hover-fill-color: #FFFFFF;\n",
              "      --disabled-bg-color: #3B4455;\n",
              "      --disabled-fill-color: #666;\n",
              "  }\n",
              "\n",
              "  .colab-df-quickchart {\n",
              "    background-color: var(--bg-color);\n",
              "    border: none;\n",
              "    border-radius: 50%;\n",
              "    cursor: pointer;\n",
              "    display: none;\n",
              "    fill: var(--fill-color);\n",
              "    height: 32px;\n",
              "    padding: 0;\n",
              "    width: 32px;\n",
              "  }\n",
              "\n",
              "  .colab-df-quickchart:hover {\n",
              "    background-color: var(--hover-bg-color);\n",
              "    box-shadow: 0 1px 2px rgba(60, 64, 67, 0.3), 0 1px 3px 1px rgba(60, 64, 67, 0.15);\n",
              "    fill: var(--button-hover-fill-color);\n",
              "  }\n",
              "\n",
              "  .colab-df-quickchart-complete:disabled,\n",
              "  .colab-df-quickchart-complete:disabled:hover {\n",
              "    background-color: var(--disabled-bg-color);\n",
              "    fill: var(--disabled-fill-color);\n",
              "    box-shadow: none;\n",
              "  }\n",
              "\n",
              "  .colab-df-spinner {\n",
              "    border: 2px solid var(--fill-color);\n",
              "    border-color: transparent;\n",
              "    border-bottom-color: var(--fill-color);\n",
              "    animation:\n",
              "      spin 1s steps(1) infinite;\n",
              "  }\n",
              "\n",
              "  @keyframes spin {\n",
              "    0% {\n",
              "      border-color: transparent;\n",
              "      border-bottom-color: var(--fill-color);\n",
              "      border-left-color: var(--fill-color);\n",
              "    }\n",
              "    20% {\n",
              "      border-color: transparent;\n",
              "      border-left-color: var(--fill-color);\n",
              "      border-top-color: var(--fill-color);\n",
              "    }\n",
              "    30% {\n",
              "      border-color: transparent;\n",
              "      border-left-color: var(--fill-color);\n",
              "      border-top-color: var(--fill-color);\n",
              "      border-right-color: var(--fill-color);\n",
              "    }\n",
              "    40% {\n",
              "      border-color: transparent;\n",
              "      border-right-color: var(--fill-color);\n",
              "      border-top-color: var(--fill-color);\n",
              "    }\n",
              "    60% {\n",
              "      border-color: transparent;\n",
              "      border-right-color: var(--fill-color);\n",
              "    }\n",
              "    80% {\n",
              "      border-color: transparent;\n",
              "      border-right-color: var(--fill-color);\n",
              "      border-bottom-color: var(--fill-color);\n",
              "    }\n",
              "    90% {\n",
              "      border-color: transparent;\n",
              "      border-bottom-color: var(--fill-color);\n",
              "    }\n",
              "  }\n",
              "</style>\n",
              "\n",
              "  <script>\n",
              "    async function quickchart(key) {\n",
              "      const quickchartButtonEl =\n",
              "        document.querySelector('#' + key + ' button');\n",
              "      quickchartButtonEl.disabled = true;  // To prevent multiple clicks.\n",
              "      quickchartButtonEl.classList.add('colab-df-spinner');\n",
              "      try {\n",
              "        const charts = await google.colab.kernel.invokeFunction(\n",
              "            'suggestCharts', [key], {});\n",
              "      } catch (error) {\n",
              "        console.error('Error during call to suggestCharts:', error);\n",
              "      }\n",
              "      quickchartButtonEl.classList.remove('colab-df-spinner');\n",
              "      quickchartButtonEl.classList.add('colab-df-quickchart-complete');\n",
              "    }\n",
              "    (() => {\n",
              "      let quickchartButtonEl =\n",
              "        document.querySelector('#df-51e8eec8-335a-408a-a5aa-99bb845a1b4e button');\n",
              "      quickchartButtonEl.style.display =\n",
              "        google.colab.kernel.accessAllowed ? 'block' : 'none';\n",
              "    })();\n",
              "  </script>\n",
              "</div>\n",
              "    </div>\n",
              "  </div>\n"
            ],
            "application/vnd.google.colaboratory.intrinsic+json": {
              "type": "dataframe",
              "summary": "{\n  \"name\": \"count_nama\",\n  \"rows\": 8,\n  \"fields\": [\n    {\n      \"column\": \"jumlah_nama\",\n      \"properties\": {\n        \"dtype\": \"number\",\n        \"std\": 332.7676171087573,\n        \"min\": 6.0,\n        \"max\": 998.0,\n        \"num_unique_values\": 8,\n        \"samples\": [\n          619.1666666666666,\n          643.5,\n          6.0\n        ],\n        \"semantic_type\": \"\",\n        \"description\": \"\"\n      }\n    }\n  ]\n}"
            }
          },
          "metadata": {},
          "execution_count": 26
        }
      ]
    },
    {
      "cell_type": "markdown",
      "source": [
        "####Analyze Data"
      ],
      "metadata": {
        "id": "l2VYmF7NAFhi"
      }
    },
    {
      "cell_type": "code",
      "source": [
        "#melihat 3 name dengan jumlah terbanyak\n",
        "\n",
        "urutan=count_nama.sort_values(['jumlah_nama'], ascending=False)\n",
        "urutan.head(3)"
      ],
      "metadata": {
        "colab": {
          "base_uri": "https://localhost:8080/",
          "height": 144
        },
        "id": "ugGI8NsZAJN8",
        "outputId": "cb1ee848-4965-49e4-95e3-bb35ceb2456d"
      },
      "execution_count": null,
      "outputs": [
        {
          "output_type": "execute_result",
          "data": {
            "text/plain": [
              "       nama  jumlah_nama\n",
              "0     Happy          998\n",
              "3        ke          870\n",
              "1  Birthday          756"
            ],
            "text/html": [
              "\n",
              "  <div id=\"df-c8b110f1-2ada-4d4f-8cbf-fe920415e556\" class=\"colab-df-container\">\n",
              "    <div>\n",
              "<style scoped>\n",
              "    .dataframe tbody tr th:only-of-type {\n",
              "        vertical-align: middle;\n",
              "    }\n",
              "\n",
              "    .dataframe tbody tr th {\n",
              "        vertical-align: top;\n",
              "    }\n",
              "\n",
              "    .dataframe thead th {\n",
              "        text-align: right;\n",
              "    }\n",
              "</style>\n",
              "<table border=\"1\" class=\"dataframe\">\n",
              "  <thead>\n",
              "    <tr style=\"text-align: right;\">\n",
              "      <th></th>\n",
              "      <th>nama</th>\n",
              "      <th>jumlah_nama</th>\n",
              "    </tr>\n",
              "  </thead>\n",
              "  <tbody>\n",
              "    <tr>\n",
              "      <th>0</th>\n",
              "      <td>Happy</td>\n",
              "      <td>998</td>\n",
              "    </tr>\n",
              "    <tr>\n",
              "      <th>3</th>\n",
              "      <td>ke</td>\n",
              "      <td>870</td>\n",
              "    </tr>\n",
              "    <tr>\n",
              "      <th>1</th>\n",
              "      <td>Birthday</td>\n",
              "      <td>756</td>\n",
              "    </tr>\n",
              "  </tbody>\n",
              "</table>\n",
              "</div>\n",
              "    <div class=\"colab-df-buttons\">\n",
              "\n",
              "  <div class=\"colab-df-container\">\n",
              "    <button class=\"colab-df-convert\" onclick=\"convertToInteractive('df-c8b110f1-2ada-4d4f-8cbf-fe920415e556')\"\n",
              "            title=\"Convert this dataframe to an interactive table.\"\n",
              "            style=\"display:none;\">\n",
              "\n",
              "  <svg xmlns=\"http://www.w3.org/2000/svg\" height=\"24px\" viewBox=\"0 -960 960 960\">\n",
              "    <path d=\"M120-120v-720h720v720H120Zm60-500h600v-160H180v160Zm220 220h160v-160H400v160Zm0 220h160v-160H400v160ZM180-400h160v-160H180v160Zm440 0h160v-160H620v160ZM180-180h160v-160H180v160Zm440 0h160v-160H620v160Z\"/>\n",
              "  </svg>\n",
              "    </button>\n",
              "\n",
              "  <style>\n",
              "    .colab-df-container {\n",
              "      display:flex;\n",
              "      gap: 12px;\n",
              "    }\n",
              "\n",
              "    .colab-df-convert {\n",
              "      background-color: #E8F0FE;\n",
              "      border: none;\n",
              "      border-radius: 50%;\n",
              "      cursor: pointer;\n",
              "      display: none;\n",
              "      fill: #1967D2;\n",
              "      height: 32px;\n",
              "      padding: 0 0 0 0;\n",
              "      width: 32px;\n",
              "    }\n",
              "\n",
              "    .colab-df-convert:hover {\n",
              "      background-color: #E2EBFA;\n",
              "      box-shadow: 0px 1px 2px rgba(60, 64, 67, 0.3), 0px 1px 3px 1px rgba(60, 64, 67, 0.15);\n",
              "      fill: #174EA6;\n",
              "    }\n",
              "\n",
              "    .colab-df-buttons div {\n",
              "      margin-bottom: 4px;\n",
              "    }\n",
              "\n",
              "    [theme=dark] .colab-df-convert {\n",
              "      background-color: #3B4455;\n",
              "      fill: #D2E3FC;\n",
              "    }\n",
              "\n",
              "    [theme=dark] .colab-df-convert:hover {\n",
              "      background-color: #434B5C;\n",
              "      box-shadow: 0px 1px 3px 1px rgba(0, 0, 0, 0.15);\n",
              "      filter: drop-shadow(0px 1px 2px rgba(0, 0, 0, 0.3));\n",
              "      fill: #FFFFFF;\n",
              "    }\n",
              "  </style>\n",
              "\n",
              "    <script>\n",
              "      const buttonEl =\n",
              "        document.querySelector('#df-c8b110f1-2ada-4d4f-8cbf-fe920415e556 button.colab-df-convert');\n",
              "      buttonEl.style.display =\n",
              "        google.colab.kernel.accessAllowed ? 'block' : 'none';\n",
              "\n",
              "      async function convertToInteractive(key) {\n",
              "        const element = document.querySelector('#df-c8b110f1-2ada-4d4f-8cbf-fe920415e556');\n",
              "        const dataTable =\n",
              "          await google.colab.kernel.invokeFunction('convertToInteractive',\n",
              "                                                    [key], {});\n",
              "        if (!dataTable) return;\n",
              "\n",
              "        const docLinkHtml = 'Like what you see? Visit the ' +\n",
              "          '<a target=\"_blank\" href=https://colab.research.google.com/notebooks/data_table.ipynb>data table notebook</a>'\n",
              "          + ' to learn more about interactive tables.';\n",
              "        element.innerHTML = '';\n",
              "        dataTable['output_type'] = 'display_data';\n",
              "        await google.colab.output.renderOutput(dataTable, element);\n",
              "        const docLink = document.createElement('div');\n",
              "        docLink.innerHTML = docLinkHtml;\n",
              "        element.appendChild(docLink);\n",
              "      }\n",
              "    </script>\n",
              "  </div>\n",
              "\n",
              "\n",
              "<div id=\"df-d50655ba-fa6d-4f5a-9797-79fa3cd5cf8f\">\n",
              "  <button class=\"colab-df-quickchart\" onclick=\"quickchart('df-d50655ba-fa6d-4f5a-9797-79fa3cd5cf8f')\"\n",
              "            title=\"Suggest charts\"\n",
              "            style=\"display:none;\">\n",
              "\n",
              "<svg xmlns=\"http://www.w3.org/2000/svg\" height=\"24px\"viewBox=\"0 0 24 24\"\n",
              "     width=\"24px\">\n",
              "    <g>\n",
              "        <path d=\"M19 3H5c-1.1 0-2 .9-2 2v14c0 1.1.9 2 2 2h14c1.1 0 2-.9 2-2V5c0-1.1-.9-2-2-2zM9 17H7v-7h2v7zm4 0h-2V7h2v10zm4 0h-2v-4h2v4z\"/>\n",
              "    </g>\n",
              "</svg>\n",
              "  </button>\n",
              "\n",
              "<style>\n",
              "  .colab-df-quickchart {\n",
              "      --bg-color: #E8F0FE;\n",
              "      --fill-color: #1967D2;\n",
              "      --hover-bg-color: #E2EBFA;\n",
              "      --hover-fill-color: #174EA6;\n",
              "      --disabled-fill-color: #AAA;\n",
              "      --disabled-bg-color: #DDD;\n",
              "  }\n",
              "\n",
              "  [theme=dark] .colab-df-quickchart {\n",
              "      --bg-color: #3B4455;\n",
              "      --fill-color: #D2E3FC;\n",
              "      --hover-bg-color: #434B5C;\n",
              "      --hover-fill-color: #FFFFFF;\n",
              "      --disabled-bg-color: #3B4455;\n",
              "      --disabled-fill-color: #666;\n",
              "  }\n",
              "\n",
              "  .colab-df-quickchart {\n",
              "    background-color: var(--bg-color);\n",
              "    border: none;\n",
              "    border-radius: 50%;\n",
              "    cursor: pointer;\n",
              "    display: none;\n",
              "    fill: var(--fill-color);\n",
              "    height: 32px;\n",
              "    padding: 0;\n",
              "    width: 32px;\n",
              "  }\n",
              "\n",
              "  .colab-df-quickchart:hover {\n",
              "    background-color: var(--hover-bg-color);\n",
              "    box-shadow: 0 1px 2px rgba(60, 64, 67, 0.3), 0 1px 3px 1px rgba(60, 64, 67, 0.15);\n",
              "    fill: var(--button-hover-fill-color);\n",
              "  }\n",
              "\n",
              "  .colab-df-quickchart-complete:disabled,\n",
              "  .colab-df-quickchart-complete:disabled:hover {\n",
              "    background-color: var(--disabled-bg-color);\n",
              "    fill: var(--disabled-fill-color);\n",
              "    box-shadow: none;\n",
              "  }\n",
              "\n",
              "  .colab-df-spinner {\n",
              "    border: 2px solid var(--fill-color);\n",
              "    border-color: transparent;\n",
              "    border-bottom-color: var(--fill-color);\n",
              "    animation:\n",
              "      spin 1s steps(1) infinite;\n",
              "  }\n",
              "\n",
              "  @keyframes spin {\n",
              "    0% {\n",
              "      border-color: transparent;\n",
              "      border-bottom-color: var(--fill-color);\n",
              "      border-left-color: var(--fill-color);\n",
              "    }\n",
              "    20% {\n",
              "      border-color: transparent;\n",
              "      border-left-color: var(--fill-color);\n",
              "      border-top-color: var(--fill-color);\n",
              "    }\n",
              "    30% {\n",
              "      border-color: transparent;\n",
              "      border-left-color: var(--fill-color);\n",
              "      border-top-color: var(--fill-color);\n",
              "      border-right-color: var(--fill-color);\n",
              "    }\n",
              "    40% {\n",
              "      border-color: transparent;\n",
              "      border-right-color: var(--fill-color);\n",
              "      border-top-color: var(--fill-color);\n",
              "    }\n",
              "    60% {\n",
              "      border-color: transparent;\n",
              "      border-right-color: var(--fill-color);\n",
              "    }\n",
              "    80% {\n",
              "      border-color: transparent;\n",
              "      border-right-color: var(--fill-color);\n",
              "      border-bottom-color: var(--fill-color);\n",
              "    }\n",
              "    90% {\n",
              "      border-color: transparent;\n",
              "      border-bottom-color: var(--fill-color);\n",
              "    }\n",
              "  }\n",
              "</style>\n",
              "\n",
              "  <script>\n",
              "    async function quickchart(key) {\n",
              "      const quickchartButtonEl =\n",
              "        document.querySelector('#' + key + ' button');\n",
              "      quickchartButtonEl.disabled = true;  // To prevent multiple clicks.\n",
              "      quickchartButtonEl.classList.add('colab-df-spinner');\n",
              "      try {\n",
              "        const charts = await google.colab.kernel.invokeFunction(\n",
              "            'suggestCharts', [key], {});\n",
              "      } catch (error) {\n",
              "        console.error('Error during call to suggestCharts:', error);\n",
              "      }\n",
              "      quickchartButtonEl.classList.remove('colab-df-spinner');\n",
              "      quickchartButtonEl.classList.add('colab-df-quickchart-complete');\n",
              "    }\n",
              "    (() => {\n",
              "      let quickchartButtonEl =\n",
              "        document.querySelector('#df-d50655ba-fa6d-4f5a-9797-79fa3cd5cf8f button');\n",
              "      quickchartButtonEl.style.display =\n",
              "        google.colab.kernel.accessAllowed ? 'block' : 'none';\n",
              "    })();\n",
              "  </script>\n",
              "</div>\n",
              "    </div>\n",
              "  </div>\n"
            ],
            "application/vnd.google.colaboratory.intrinsic+json": {
              "type": "dataframe",
              "variable_name": "urutan",
              "summary": "{\n  \"name\": \"urutan\",\n  \"rows\": 6,\n  \"fields\": [\n    {\n      \"column\": \"nama\",\n      \"properties\": {\n        \"dtype\": \"string\",\n        \"num_unique_values\": 6,\n        \"samples\": [\n          \"Happy\",\n          \"ke\",\n          \"tahun\"\n        ],\n        \"semantic_type\": \"\",\n        \"description\": \"\"\n      }\n    },\n    {\n      \"column\": \"jumlah_nama\",\n      \"properties\": {\n        \"dtype\": \"number\",\n        \"std\": 307,\n        \"min\": 211,\n        \"max\": 998,\n        \"num_unique_values\": 6,\n        \"samples\": [\n          998,\n          870,\n          211\n        ],\n        \"semantic_type\": \"\",\n        \"description\": \"\"\n      }\n    }\n  ]\n}"
            }
          },
          "metadata": {},
          "execution_count": 30
        }
      ]
    },
    {
      "cell_type": "code",
      "source": [
        "count_nama['jumlah_nama'].max()"
      ],
      "metadata": {
        "colab": {
          "base_uri": "https://localhost:8080/"
        },
        "id": "TBnR3iXGBM6L",
        "outputId": "63d8524b-9c5e-47b8-8eea-a893f4339e4b"
      },
      "execution_count": null,
      "outputs": [
        {
          "output_type": "execute_result",
          "data": {
            "text/plain": [
              "998"
            ]
          },
          "metadata": {},
          "execution_count": 31
        }
      ]
    },
    {
      "cell_type": "markdown",
      "source": [
        "####Present Data"
      ],
      "metadata": {
        "id": "41jMquVlBleY"
      }
    },
    {
      "cell_type": "code",
      "source": [
        "count_nama['jumlah_nama'].plot.bar()"
      ],
      "metadata": {
        "colab": {
          "base_uri": "https://localhost:8080/",
          "height": 442
        },
        "id": "8SnGs1Y3BwJY",
        "outputId": "ccba9d06-dde5-4c3e-fd43-43ee99f60222"
      },
      "execution_count": null,
      "outputs": [
        {
          "output_type": "execute_result",
          "data": {
            "text/plain": [
              "<Axes: >"
            ]
          },
          "metadata": {},
          "execution_count": 33
        },
        {
          "output_type": "display_data",
          "data": {
            "text/plain": [
              "<Figure size 640x480 with 1 Axes>"
            ],
            "image/png": "[encoded data removed]"
          },
          "metadata": {}
        }
      ]
    },
    {
      "cell_type": "code",
      "source": [
        "# General syntax to import a library but no functions:\n",
        "##import (library) as (give the library a nickname/alias)\n",
        "import matplotlib.pyplot as plt\n",
        "import pandas as pd #this is how I usually import pandas\n",
        "import sys #only needed to determine Python version number\n",
        "import matplotlib #only needed to determine Matplotlib version number\n",
        "# Create graph\n",
        "count_nama['jumlah_nama'].plot.bar()\n",
        "\n",
        "# Maximum value in the data set\n",
        "MaxValue = urutan['jumlah_nama'].max()\n",
        "\n",
        "# Name associated with the maximum value\n",
        "MaxName = urutan['nama'][urutan['jumlah_nama'] == urutan['jumlah_nama'].max()].values\n",
        "\n",
        "# Text to display on graph\n",
        "Text = str(MaxValue) + \" - \" + MaxName\n",
        "\n",
        "# Add text to graph\n",
        "plt.annotate(Text, xy=(1, MaxValue), xytext=(8, 0),\n",
        "                   xycoords=('axes fraction', 'data'), textcoords='offset points')"
      ],
      "metadata": {
        "colab": {
          "base_uri": "https://localhost:8080/",
          "height": 442
        },
        "id": "00W8uJ-YCOCA",
        "outputId": "abd597f0-a843-4fef-a41e-7c690fc35288"
      },
      "execution_count": null,
      "outputs": [
        {
          "output_type": "execute_result",
          "data": {
            "text/plain": [
              "Text(8, 0, \"['998 - Happy']\")"
            ]
          },
          "metadata": {},
          "execution_count": 37
        },
        {
          "output_type": "display_data",
          "data": {
            "text/plain": [
              "<Figure size 640x480 with 1 Axes>"
            ],
            "image/png": "[encoded data removed]"
          },
          "metadata": {}
        }
      ]
    },
    {
      "cell_type": "markdown",
      "source": [
        "##Materi Tambahan"
      ],
      "metadata": {
        "id": "bako-UsLb09t"
      }
    },
    {
      "cell_type": "markdown",
      "source": [
        "###Objective 1 - A/B Testing"
      ],
      "metadata": {
        "id": "uqZCgj51b5Zz"
      }
    },
    {
      "cell_type": "markdown",
      "source": [
        "A/B testing allows individuals, teams and companies to make careful changes to their user experiences while collecting data on the impact it makes. This allows them to construct hypotheses and to learn what elements and optimizations of their experiences impact user behavior the most."
      ],
      "metadata": {
        "id": "fIPKEQwob8mV"
      }
    },
    {
      "cell_type": "markdown",
      "source": [
        "#### Background\n",
        "\n",
        "An online news portal aims to expand its business by acquiring new subscribers. Every visitor to the website takes certain actions based on their interest. **The company plans to analyze these interests and wants to determine whether a new feature will be effective or not**.\n",
        "\n",
        "100 users are divided equally into two groups. The old landing page is served to the first group (control group) and the new landing page is served to the second group (treatment group).\n",
        "\n",
        "Various data about the customers in both groups are collected in 'abtest.csv'."
      ],
      "metadata": {
        "id": "AaukMa4Wb_a9"
      }
    },
    {
      "cell_type": "code",
      "source": [
        "import warnings #Mengimpor modul warnings yang digunakan untuk mengontrol warning yang akan ditampilkan oleh Python.\n",
        "warnings.filterwarnings(\"ignore\") #Ignore warning yang tdk relevan\n",
        "import numpy as np #Mengimpor modul numpy, NumPy is the fundamental package for scientific computing in Python\n",
        "import pandas as pd #Mengimpor modul pandas, Pandas adalah pustaka Python yang menyediakan struktur data dan alat analisis data yang mudah digunakan\n",
        "import seaborn as sns #Mengimport modul seaborn, Seaborn adalah pustaka Python diatas Matplotlib untuk membuat visualisasi data statistik\n",
        "sns.set(color_codes=True) #Mengatur palet warna default yang digunakan oleh Seaborn\n",
        "import matplotlib.pyplot as plt #Mengimpor modul matplotlib, Matplotlib adalah pustaka Python untuk visualisasi data\n",
        "%matplotlib inline\n",
        "import scipy.stats as stats #Mengimpor modul scipy, Scipy adalah pustaka Python yang berisi algoritma dan fungsi matematika untuk berbagai keperluan ilmiah"
      ],
      "metadata": {
        "id": "Xp4Yevd3cD6u"
      },
      "execution_count": null,
      "outputs": []
    },
    {
      "cell_type": "markdown",
      "source": [
        "#### Data Dictionary\n",
        "\n",
        "* user_id - This represents the user ID of the person visiting the website.\n",
        "* group - This represents whether the user belongs to the first group (control) or the second group (treatment).\n",
        "* landing_page - This represents whether the landing page is new or old.\n",
        "* time_spent_on_the_page - This represents the time (in minutes) spent by the user on the landing page.\n",
        "* converted - This represents whether the user gets converted to a subscriber of the news portal or not.\n",
        "* language_preferred - This represents the language chosen by the user to view the landing page."
      ],
      "metadata": {
        "id": "xWDVOw5wcLuk"
      }
    },
    {
      "cell_type": "code",
      "source": [
        "%cd /content/drive/MyDrive"
      ],
      "metadata": {
        "colab": {
          "base_uri": "https://localhost:8080/"
        },
        "id": "76LKOt23fZH2",
        "outputId": "6493479e-cd2c-4122-ef26-af7b4011bea2"
      },
      "execution_count": null,
      "outputs": [
        {
          "output_type": "stream",
          "name": "stdout",
          "text": [
            "/content/drive/MyDrive\n"
          ]
        }
      ]
    },
    {
      "cell_type": "code",
      "source": [
        "data = pd.read_csv(\"/content/drive/MyDrive/abtest.csv\") #Membaca file CSV dan mengonversinya menjadi dataframe Pandas.\n",
        "data.head(10) #Menampilkan 10 baris pertama dari dataframe"
      ],
      "metadata": {
        "colab": {
          "base_uri": "https://localhost:8080/",
          "height": 363
        },
        "id": "YSPUpLOCf1pL",
        "outputId": "48574180-cc38-4206-edd9-aec760542a4d"
      },
      "execution_count": null,
      "outputs": [
        {
          "output_type": "execute_result",
          "data": {
            "text/plain": [
              "   user_id      group landing_page  time_spent_on_the_page converted  \\\n",
              "0   546592    control          old                    3.48        no   \n",
              "1   546468  treatment          new                    7.13       yes   \n",
              "2   546462  treatment          new                    4.40        no   \n",
              "3   546567    control          old                    3.02        no   \n",
              "4   546459  treatment          new                    4.75       yes   \n",
              "5   546558    control          old                    5.28       yes   \n",
              "6   546448  treatment          new                    5.25       yes   \n",
              "7   546581    control          old                    6.53       yes   \n",
              "8   546461  treatment          new                   10.71       yes   \n",
              "9   546548    control          old                    2.08        no   \n",
              "\n",
              "  language_preferred  \n",
              "0            Spanish  \n",
              "1            English  \n",
              "2            Spanish  \n",
              "3             French  \n",
              "4            Spanish  \n",
              "5            English  \n",
              "6             French  \n",
              "7            Spanish  \n",
              "8             French  \n",
              "9            English  "
            ],
            "text/html": [
              "\n",
              "  <div id=\"df-0fec5bda-c4e4-4472-bec2-4083825a3fd9\" class=\"colab-df-container\">\n",
              "    <div>\n",
              "<style scoped>\n",
              "    .dataframe tbody tr th:only-of-type {\n",
              "        vertical-align: middle;\n",
              "    }\n",
              "\n",
              "    .dataframe tbody tr th {\n",
              "        vertical-align: top;\n",
              "    }\n",
              "\n",
              "    .dataframe thead th {\n",
              "        text-align: right;\n",
              "    }\n",
              "</style>\n",
              "<table border=\"1\" class=\"dataframe\">\n",
              "  <thead>\n",
              "    <tr style=\"text-align: right;\">\n",
              "      <th></th>\n",
              "      <th>user_id</th>\n",
              "      <th>group</th>\n",
              "      <th>landing_page</th>\n",
              "      <th>time_spent_on_the_page</th>\n",
              "      <th>converted</th>\n",
              "      <th>language_preferred</th>\n",
              "    </tr>\n",
              "  </thead>\n",
              "  <tbody>\n",
              "    <tr>\n",
              "      <th>0</th>\n",
              "      <td>546592</td>\n",
              "      <td>control</td>\n",
              "      <td>old</td>\n",
              "      <td>3.48</td>\n",
              "      <td>no</td>\n",
              "      <td>Spanish</td>\n",
              "    </tr>\n",
              "    <tr>\n",
              "      <th>1</th>\n",
              "      <td>546468</td>\n",
              "      <td>treatment</td>\n",
              "      <td>new</td>\n",
              "      <td>7.13</td>\n",
              "      <td>yes</td>\n",
              "      <td>English</td>\n",
              "    </tr>\n",
              "    <tr>\n",
              "      <th>2</th>\n",
              "      <td>546462</td>\n",
              "      <td>treatment</td>\n",
              "      <td>new</td>\n",
              "      <td>4.40</td>\n",
              "      <td>no</td>\n",
              "      <td>Spanish</td>\n",
              "    </tr>\n",
              "    <tr>\n",
              "      <th>3</th>\n",
              "      <td>546567</td>\n",
              "      <td>control</td>\n",
              "      <td>old</td>\n",
              "      <td>3.02</td>\n",
              "      <td>no</td>\n",
              "      <td>French</td>\n",
              "    </tr>\n",
              "    <tr>\n",
              "      <th>4</th>\n",
              "      <td>546459</td>\n",
              "      <td>treatment</td>\n",
              "      <td>new</td>\n",
              "      <td>4.75</td>\n",
              "      <td>yes</td>\n",
              "      <td>Spanish</td>\n",
              "    </tr>\n",
              "    <tr>\n",
              "      <th>5</th>\n",
              "      <td>546558</td>\n",
              "      <td>control</td>\n",
              "      <td>old</td>\n",
              "      <td>5.28</td>\n",
              "      <td>yes</td>\n",
              "      <td>English</td>\n",
              "    </tr>\n",
              "    <tr>\n",
              "      <th>6</th>\n",
              "      <td>546448</td>\n",
              "      <td>treatment</td>\n",
              "      <td>new</td>\n",
              "      <td>5.25</td>\n",
              "      <td>yes</td>\n",
              "      <td>French</td>\n",
              "    </tr>\n",
              "    <tr>\n",
              "      <th>7</th>\n",
              "      <td>546581</td>\n",
              "      <td>control</td>\n",
              "      <td>old</td>\n",
              "      <td>6.53</td>\n",
              "      <td>yes</td>\n",
              "      <td>Spanish</td>\n",
              "    </tr>\n",
              "    <tr>\n",
              "      <th>8</th>\n",
              "      <td>546461</td>\n",
              "      <td>treatment</td>\n",
              "      <td>new</td>\n",
              "      <td>10.71</td>\n",
              "      <td>yes</td>\n",
              "      <td>French</td>\n",
              "    </tr>\n",
              "    <tr>\n",
              "      <th>9</th>\n",
              "      <td>546548</td>\n",
              "      <td>control</td>\n",
              "      <td>old</td>\n",
              "      <td>2.08</td>\n",
              "      <td>no</td>\n",
              "      <td>English</td>\n",
              "    </tr>\n",
              "  </tbody>\n",
              "</table>\n",
              "</div>\n",
              "    <div class=\"colab-df-buttons\">\n",
              "\n",
              "  <div class=\"colab-df-container\">\n",
              "    <button class=\"colab-df-convert\" onclick=\"convertToInteractive('df-0fec5bda-c4e4-4472-bec2-4083825a3fd9')\"\n",
              "            title=\"Convert this dataframe to an interactive table.\"\n",
              "            style=\"display:none;\">\n",
              "\n",
              "  <svg xmlns=\"http://www.w3.org/2000/svg\" height=\"24px\" viewBox=\"0 -960 960 960\">\n",
              "    <path d=\"M120-120v-720h720v720H120Zm60-500h600v-160H180v160Zm220 220h160v-160H400v160Zm0 220h160v-160H400v160ZM180-400h160v-160H180v160Zm440 0h160v-160H620v160ZM180-180h160v-160H180v160Zm440 0h160v-160H620v160Z\"/>\n",
              "  </svg>\n",
              "    </button>\n",
              "\n",
              "  <style>\n",
              "    .colab-df-container {\n",
              "      display:flex;\n",
              "      gap: 12px;\n",
              "    }\n",
              "\n",
              "    .colab-df-convert {\n",
              "      background-color: #E8F0FE;\n",
              "      border: none;\n",
              "      border-radius: 50%;\n",
              "      cursor: pointer;\n",
              "      display: none;\n",
              "      fill: #1967D2;\n",
              "      height: 32px;\n",
              "      padding: 0 0 0 0;\n",
              "      width: 32px;\n",
              "    }\n",
              "\n",
              "    .colab-df-convert:hover {\n",
              "      background-color: #E2EBFA;\n",
              "      box-shadow: 0px 1px 2px rgba(60, 64, 67, 0.3), 0px 1px 3px 1px rgba(60, 64, 67, 0.15);\n",
              "      fill: #174EA6;\n",
              "    }\n",
              "\n",
              "    .colab-df-buttons div {\n",
              "      margin-bottom: 4px;\n",
              "    }\n",
              "\n",
              "    [theme=dark] .colab-df-convert {\n",
              "      background-color: #3B4455;\n",
              "      fill: #D2E3FC;\n",
              "    }\n",
              "\n",
              "    [theme=dark] .colab-df-convert:hover {\n",
              "      background-color: #434B5C;\n",
              "      box-shadow: 0px 1px 3px 1px rgba(0, 0, 0, 0.15);\n",
              "      filter: drop-shadow(0px 1px 2px rgba(0, 0, 0, 0.3));\n",
              "      fill: #FFFFFF;\n",
              "    }\n",
              "  </style>\n",
              "\n",
              "    <script>\n",
              "      const buttonEl =\n",
              "        document.querySelector('#df-0fec5bda-c4e4-4472-bec2-4083825a3fd9 button.colab-df-convert');\n",
              "      buttonEl.style.display =\n",
              "        google.colab.kernel.accessAllowed ? 'block' : 'none';\n",
              "\n",
              "      async function convertToInteractive(key) {\n",
              "        const element = document.querySelector('#df-0fec5bda-c4e4-4472-bec2-4083825a3fd9');\n",
              "        const dataTable =\n",
              "          await google.colab.kernel.invokeFunction('convertToInteractive',\n",
              "                                                    [key], {});\n",
              "        if (!dataTable) return;\n",
              "\n",
              "        const docLinkHtml = 'Like what you see? Visit the ' +\n",
              "          '<a target=\"_blank\" href=https://colab.research.google.com/notebooks/data_table.ipynb>data table notebook</a>'\n",
              "          + ' to learn more about interactive tables.';\n",
              "        element.innerHTML = '';\n",
              "        dataTable['output_type'] = 'display_data';\n",
              "        await google.colab.output.renderOutput(dataTable, element);\n",
              "        const docLink = document.createElement('div');\n",
              "        docLink.innerHTML = docLinkHtml;\n",
              "        element.appendChild(docLink);\n",
              "      }\n",
              "    </script>\n",
              "  </div>\n",
              "\n",
              "\n",
              "<div id=\"df-424c4ba1-4d19-48cc-907c-eea94ad4ffc2\">\n",
              "  <button class=\"colab-df-quickchart\" onclick=\"quickchart('df-424c4ba1-4d19-48cc-907c-eea94ad4ffc2')\"\n",
              "            title=\"Suggest charts\"\n",
              "            style=\"display:none;\">\n",
              "\n",
              "<svg xmlns=\"http://www.w3.org/2000/svg\" height=\"24px\"viewBox=\"0 0 24 24\"\n",
              "     width=\"24px\">\n",
              "    <g>\n",
              "        <path d=\"M19 3H5c-1.1 0-2 .9-2 2v14c0 1.1.9 2 2 2h14c1.1 0 2-.9 2-2V5c0-1.1-.9-2-2-2zM9 17H7v-7h2v7zm4 0h-2V7h2v10zm4 0h-2v-4h2v4z\"/>\n",
              "    </g>\n",
              "</svg>\n",
              "  </button>\n",
              "\n",
              "<style>\n",
              "  .colab-df-quickchart {\n",
              "      --bg-color: #E8F0FE;\n",
              "      --fill-color: #1967D2;\n",
              "      --hover-bg-color: #E2EBFA;\n",
              "      --hover-fill-color: #174EA6;\n",
              "      --disabled-fill-color: #AAA;\n",
              "      --disabled-bg-color: #DDD;\n",
              "  }\n",
              "\n",
              "  [theme=dark] .colab-df-quickchart {\n",
              "      --bg-color: #3B4455;\n",
              "      --fill-color: #D2E3FC;\n",
              "      --hover-bg-color: #434B5C;\n",
              "      --hover-fill-color: #FFFFFF;\n",
              "      --disabled-bg-color: #3B4455;\n",
              "      --disabled-fill-color: #666;\n",
              "  }\n",
              "\n",
              "  .colab-df-quickchart {\n",
              "    background-color: var(--bg-color);\n",
              "    border: none;\n",
              "    border-radius: 50%;\n",
              "    cursor: pointer;\n",
              "    display: none;\n",
              "    fill: var(--fill-color);\n",
              "    height: 32px;\n",
              "    padding: 0;\n",
              "    width: 32px;\n",
              "  }\n",
              "\n",
              "  .colab-df-quickchart:hover {\n",
              "    background-color: var(--hover-bg-color);\n",
              "    box-shadow: 0 1px 2px rgba(60, 64, 67, 0.3), 0 1px 3px 1px rgba(60, 64, 67, 0.15);\n",
              "    fill: var(--button-hover-fill-color);\n",
              "  }\n",
              "\n",
              "  .colab-df-quickchart-complete:disabled,\n",
              "  .colab-df-quickchart-complete:disabled:hover {\n",
              "    background-color: var(--disabled-bg-color);\n",
              "    fill: var(--disabled-fill-color);\n",
              "    box-shadow: none;\n",
              "  }\n",
              "\n",
              "  .colab-df-spinner {\n",
              "    border: 2px solid var(--fill-color);\n",
              "    border-color: transparent;\n",
              "    border-bottom-color: var(--fill-color);\n",
              "    animation:\n",
              "      spin 1s steps(1) infinite;\n",
              "  }\n",
              "\n",
              "  @keyframes spin {\n",
              "    0% {\n",
              "      border-color: transparent;\n",
              "      border-bottom-color: var(--fill-color);\n",
              "      border-left-color: var(--fill-color);\n",
              "    }\n",
              "    20% {\n",
              "      border-color: transparent;\n",
              "      border-left-color: var(--fill-color);\n",
              "      border-top-color: var(--fill-color);\n",
              "    }\n",
              "    30% {\n",
              "      border-color: transparent;\n",
              "      border-left-color: var(--fill-color);\n",
              "      border-top-color: var(--fill-color);\n",
              "      border-right-color: var(--fill-color);\n",
              "    }\n",
              "    40% {\n",
              "      border-color: transparent;\n",
              "      border-right-color: var(--fill-color);\n",
              "      border-top-color: var(--fill-color);\n",
              "    }\n",
              "    60% {\n",
              "      border-color: transparent;\n",
              "      border-right-color: var(--fill-color);\n",
              "    }\n",
              "    80% {\n",
              "      border-color: transparent;\n",
              "      border-right-color: var(--fill-color);\n",
              "      border-bottom-color: var(--fill-color);\n",
              "    }\n",
              "    90% {\n",
              "      border-color: transparent;\n",
              "      border-bottom-color: var(--fill-color);\n",
              "    }\n",
              "  }\n",
              "</style>\n",
              "\n",
              "  <script>\n",
              "    async function quickchart(key) {\n",
              "      const quickchartButtonEl =\n",
              "        document.querySelector('#' + key + ' button');\n",
              "      quickchartButtonEl.disabled = true;  // To prevent multiple clicks.\n",
              "      quickchartButtonEl.classList.add('colab-df-spinner');\n",
              "      try {\n",
              "        const charts = await google.colab.kernel.invokeFunction(\n",
              "            'suggestCharts', [key], {});\n",
              "      } catch (error) {\n",
              "        console.error('Error during call to suggestCharts:', error);\n",
              "      }\n",
              "      quickchartButtonEl.classList.remove('colab-df-spinner');\n",
              "      quickchartButtonEl.classList.add('colab-df-quickchart-complete');\n",
              "    }\n",
              "    (() => {\n",
              "      let quickchartButtonEl =\n",
              "        document.querySelector('#df-424c4ba1-4d19-48cc-907c-eea94ad4ffc2 button');\n",
              "      quickchartButtonEl.style.display =\n",
              "        google.colab.kernel.accessAllowed ? 'block' : 'none';\n",
              "    })();\n",
              "  </script>\n",
              "</div>\n",
              "    </div>\n",
              "  </div>\n"
            ],
            "application/vnd.google.colaboratory.intrinsic+json": {
              "type": "dataframe",
              "variable_name": "data",
              "summary": "{\n  \"name\": \"data\",\n  \"rows\": 100,\n  \"fields\": [\n    {\n      \"column\": \"user_id\",\n      \"properties\": {\n        \"dtype\": \"number\",\n        \"std\": 52,\n        \"min\": 546443,\n        \"max\": 546592,\n        \"num_unique_values\": 100,\n        \"samples\": [\n          546580,\n          546576,\n          546568\n        ],\n        \"semantic_type\": \"\",\n        \"description\": \"\"\n      }\n    },\n    {\n      \"column\": \"group\",\n      \"properties\": {\n        \"dtype\": \"category\",\n        \"num_unique_values\": 2,\n        \"samples\": [\n          \"treatment\",\n          \"control\"\n        ],\n        \"semantic_type\": \"\",\n        \"description\": \"\"\n      }\n    },\n    {\n      \"column\": \"landing_page\",\n      \"properties\": {\n        \"dtype\": \"category\",\n        \"num_unique_values\": 2,\n        \"samples\": [\n          \"new\",\n          \"old\"\n        ],\n        \"semantic_type\": \"\",\n        \"description\": \"\"\n      }\n    },\n    {\n      \"column\": \"time_spent_on_the_page\",\n      \"properties\": {\n        \"dtype\": \"number\",\n        \"std\": 2.378166078933492,\n        \"min\": 0.19,\n        \"max\": 10.71,\n        \"num_unique_values\": 94,\n        \"samples\": [\n          8.46,\n          3.65\n        ],\n        \"semantic_type\": \"\",\n        \"description\": \"\"\n      }\n    },\n    {\n      \"column\": \"converted\",\n      \"properties\": {\n        \"dtype\": \"category\",\n        \"num_unique_values\": 2,\n        \"samples\": [\n          \"yes\",\n          \"no\"\n        ],\n        \"semantic_type\": \"\",\n        \"description\": \"\"\n      }\n    },\n    {\n      \"column\": \"language_preferred\",\n      \"properties\": {\n        \"dtype\": \"category\",\n        \"num_unique_values\": 3,\n        \"samples\": [\n          \"Spanish\",\n          \"English\"\n        ],\n        \"semantic_type\": \"\",\n        \"description\": \"\"\n      }\n    }\n  ]\n}"
            }
          },
          "metadata": {},
          "execution_count": 4
        }
      ]
    },
    {
      "cell_type": "markdown",
      "source": [
        "#### Exploratory Data Analysis\n",
        "\n",
        "Explore the dataset and extract insights using Exploratory Data Analysis :\n",
        "1. How many variables and records of the dataset?\n",
        "2. Is there a variable that has a blank record? if so, which variables and how many?\n",
        "3. Group the variable into the type of data\n",
        "4. Total & average time spent on the old landing page\n",
        "5. Total & average time spent on the new landing page\n",
        "6. What is the distribution of time spent on the landing page for each landing_page. which on is better?\n",
        "7. % change in conversion for new landing page vs. old landing based on user language_preferred. what do you find?\n",
        "\n",
        "**Please answer the task using python code and the result using text sel**"
      ],
      "metadata": {
        "id": "ZWk-s1tHf9iz"
      }
    },
    {
      "cell_type": "markdown",
      "source": [
        "#####Nomor 1\n",
        "\n",
        "\n",
        "```\n",
        "How many variables and records of the dataset?\n",
        "```\n",
        "\n"
      ],
      "metadata": {
        "id": "rAAkAHCG4IRd"
      }
    },
    {
      "cell_type": "code",
      "source": [
        "num_variables = len(data.columns) #Menghitung jumlah kolom (variabel) dalam dataframe data.\n",
        "num_records = len(data) #Menghitung jumlah baris dalam dataframe data.\n",
        "print(\"Number of variables:\", num_variables) #Print jumlah variabel (kolom) dalam dataframe.\n",
        "print(\"Number of records:\", num_records) #Print jumlah rekaman (baris) dalam dataframe."
      ],
      "metadata": {
        "colab": {
          "base_uri": "https://localhost:8080/"
        },
        "id": "gcDOVBtC4LUN",
        "outputId": "8a70f766-ae40-466c-9e9f-2e8bd7568fdf"
      },
      "execution_count": null,
      "outputs": [
        {
          "output_type": "stream",
          "name": "stdout",
          "text": [
            "Number of variables: 6\n",
            "Number of records: 100\n"
          ]
        }
      ]
    },
    {
      "cell_type": "markdown",
      "source": [
        "#####Nomor 2\n",
        "\n",
        "\n",
        "```\n",
        "Is there a variable that has a blank record? if so, which variables and how many?\n",
        "```\n",
        "\n"
      ],
      "metadata": {
        "id": "BbT0wLNe6-fV"
      }
    },
    {
      "cell_type": "code",
      "source": [
        "print(data.isnull().sum()) #Perintah dalam Pandas yang bertujuan untuk menghitung jumlah nilai-nilai yang hilang (missing values) dalam setiap kolom (variabel) dari dataframe data."
      ],
      "metadata": {
        "colab": {
          "base_uri": "https://localhost:8080/"
        },
        "id": "SawtBmI17Coj",
        "outputId": "60ba9bb6-face-4394-9649-a4fa29a37033"
      },
      "execution_count": null,
      "outputs": [
        {
          "output_type": "stream",
          "name": "stdout",
          "text": [
            "user_id                   0\n",
            "group                     0\n",
            "landing_page              0\n",
            "time_spent_on_the_page    0\n",
            "converted                 0\n",
            "language_preferred        0\n",
            "dtype: int64\n"
          ]
        }
      ]
    },
    {
      "cell_type": "markdown",
      "source": [
        "#####Nomor 3\n",
        "\n",
        "\n",
        "```\n",
        "Group the variable into the type of data\n",
        "```\n",
        "\n"
      ],
      "metadata": {
        "id": "3Kbw1cs67G8o"
      }
    },
    {
      "cell_type": "code",
      "source": [
        "data.dtypes #Perintah dalam Pandas yang digunakan untuk mengembalikan tipe data (data types) dari setiap kolom (variabel) dalam dataframe data."
      ],
      "metadata": {
        "colab": {
          "base_uri": "https://localhost:8080/"
        },
        "id": "8WWli1oq7Kf9",
        "outputId": "235c01c8-2ed6-45d5-a4cb-50ed64777b66"
      },
      "execution_count": null,
      "outputs": [
        {
          "output_type": "execute_result",
          "data": {
            "text/plain": [
              "user_id                     int64\n",
              "group                      object\n",
              "landing_page               object\n",
              "time_spent_on_the_page    float64\n",
              "converted                  object\n",
              "language_preferred         object\n",
              "dtype: object"
            ]
          },
          "metadata": {},
          "execution_count": 7
        }
      ]
    },
    {
      "cell_type": "markdown",
      "source": [
        "#####Nomor 4\n",
        "\n",
        "\n",
        "```\n",
        "Total & average time spent on the old landing page\n",
        "```\n",
        "\n"
      ],
      "metadata": {
        "id": "mRCf8JJG7P6c"
      }
    },
    {
      "cell_type": "code",
      "source": [
        "data_old = data[ data[\"landing_page\"] == \"old\" ] #Filter data dengan mengambil hanya baris-baris di mana nilai kolom \"landing_page\" sama dengan \"old\".\n",
        "\n",
        "Total_old = str(round(data_old[\"time_spent_on_the_page\"].sum(), 2)) #Menghitung total waktu yang dihabiskan oleh pengguna di halaman landing \"old\".\n",
        "Mean_old = str(round(data_old[\"time_spent_on_the_page\"].mean(), 2)) #Menghitung rata-rata waktu yang dihabiskan oleh pengguna di halaman landing \"old\".\n",
        "\n",
        "print(\"Total & average time spent on the old landing page across 50 users (control group): \", \\\n",
        "      Total_old+ \" mins and\", \\\n",
        "      Mean_old+ \" mins.\") #Print total dan rata-rata waktu yang dihabiskan oleh pengguna di halaman landing \"old\"."
      ],
      "metadata": {
        "colab": {
          "base_uri": "https://localhost:8080/"
        },
        "id": "ePQRuWEh7TmX",
        "outputId": "e0b2aeca-6fc7-47cb-bcf7-36704efc5e8b"
      },
      "execution_count": null,
      "outputs": [
        {
          "output_type": "stream",
          "name": "stdout",
          "text": [
            "Total & average time spent on the old landing page across 50 users (control group):  226.62 mins and 4.53 mins.\n"
          ]
        }
      ]
    },
    {
      "cell_type": "markdown",
      "source": [
        "#####Nomor 5\n",
        "\n",
        "\n",
        "```\n",
        "Total & average time spent on the new landing page\n",
        "```\n",
        "\n"
      ],
      "metadata": {
        "id": "ywKAkQjK7ZNO"
      }
    },
    {
      "cell_type": "code",
      "source": [
        "data_new = data[ data[\"landing_page\"] == \"new\"] #Filter data dengan mengambil hanya baris-baris di mana nilai kolom \"landing_page\" sama dengan \"new\".\n",
        "\n",
        "Total_new = str(round(data_new[\"time_spent_on_the_page\"].sum(), 2)) #Menghitung total waktu yang dihabiskan oleh pengguna di halaman landing \"new\".\n",
        "Mean_new = str(round(data_new[\"time_spent_on_the_page\"].mean(), 2)) #Menghitung rata-rata waktu yang dihabiskan oleh pengguna di halaman landing \"new\".\n",
        "\n",
        "print(\"Total & average time spent on the new landing page across 50 users (treatment group): \", \\\n",
        "      Total_new+ \" mins and\", \\\n",
        "      Mean_new+ \" mins.\") #Print  total dan rata-rata waktu yang dihabiskan oleh pengguna di halaman landing \"new\"."
      ],
      "metadata": {
        "colab": {
          "base_uri": "https://localhost:8080/"
        },
        "id": "MkyB3RFt7hg-",
        "outputId": "b68f25ff-dbef-45d7-8cd1-10239789f0b7"
      },
      "execution_count": null,
      "outputs": [
        {
          "output_type": "stream",
          "name": "stdout",
          "text": [
            "Total & average time spent on the new landing page across 50 users (treatment group):  311.16 mins and 6.22 mins.\n"
          ]
        }
      ]
    },
    {
      "cell_type": "markdown",
      "source": [
        "#####Nomor 6\n",
        "\n",
        "\n",
        "```\n",
        "What is the distribution of time spent on the landing page for each landing_page. which on is better?\n",
        "```\n",
        "\n"
      ],
      "metadata": {
        "id": "FXB5WWTd7tA3"
      }
    },
    {
      "cell_type": "code",
      "source": [
        "fig,ax = plt.subplots(1,3, figsize=(20,5)) #Membuat sebuah subplot dengan 1 baris dan 3 kolom, lebarnya 20 inci dan tingginya 5 inci.\n",
        "\n",
        "sns.histplot(data[\"time_spent_on_the_page\"], ax=ax[0], kde = True); #Histogram pertama yang menunjukkan distribusi waktu yang dihabiskan oleh pengguna di halaman landing \"old\" dan \"new\" digabungkan.\n",
        "ax[0].set_ylim((0,25)) #Mengatur batas sumbu y pada subplot pertama, yaitu dari 0 hingga 25.\n",
        "ax[0].axvline(data[\"time_spent_on_the_page\"].mean(), c = \"r\") #Menambahkan garis vertikal yang menunjukkan nilai rata-rata waktu yang dihabiskan oleh pengguna di halaman landing \"old\" dan \"new\" digabungkan.\n",
        "ax[0].set_title(\"Time spent on either the old or new landing page\") #Membuat judul subplot pertama\n",
        "\n",
        "sns.histplot(data_old[\"time_spent_on_the_page\"], ax=ax[1], kde = True); #Histogram kedua yang menunjukkan distribusi waktu yang dihabiskan oleh pengguna di halaman landing \"old\" dan \"new\" digabungkan.\n",
        "ax[1].set_ylim((0,25)) #Mengatur batas sumbu y pada subplot kedua, yaitu dari 0 hingga 25.\n",
        "ax[1].axvline(data_old[\"time_spent_on_the_page\"].mean(), c = \"r\") #Menambahkan garis vertikal yang menunjukkan nilai rata-rata waktu yang dihabiskan oleh pengguna di halaman landing \"old\" dan \"new\" digabungkan.\n",
        "ax[1].set_title(\"Time spent on the old landing page\") #Membuat judul subplot kedua\n",
        "\n",
        "sns.histplot(data_new[\"time_spent_on_the_page\"], ax=ax[2], kde = True); #Histogram ketiga yang menunjukkan distribusi waktu yang dihabiskan oleh pengguna di halaman landing \"old\" dan \"new\" digabungkan.\n",
        "ax[2].set_ylim((0,25)) #Mengatur batas sumbu y pada subplot ketiga, yaitu dari 0 hingga 25.\n",
        "ax[2].axvline(data_new[\"time_spent_on_the_page\"].mean(), c = \"r\") #Menambahkan garis vertikal yang menunjukkan nilai rata-rata waktu yang dihabiskan oleh pengguna di halaman landing \"old\" dan \"new\" digabungkan.\n",
        "ax[2].set_title(\"Time spent on the new landing page\") #Membuat judul subplot ketiga\n",
        "\n",
        "plt.show() #Menampilkan gambar keseluruhan yang berisi ketiga subplot."
      ],
      "metadata": {
        "colab": {
          "base_uri": "https://localhost:8080/",
          "height": 248
        },
        "id": "AtUS6MAA7vf9",
        "outputId": "15c3b603-46fc-4489-fb2d-c26f41d62910"
      },
      "execution_count": null,
      "outputs": [
        {
          "output_type": "display_data",
          "data": {
            "text/plain": [
              "<Figure size 2000x500 with 3 Axes>"
            ],
            "image/png": "[encoded data removed]"
          },
          "metadata": {}
        }
      ]
    },
    {
      "cell_type": "markdown",
      "source": [
        "#####Nomor 7\n",
        "\n",
        "\n",
        "```\n",
        "% change in conversion for new landing page vs. old landing based on user language_preferred. what do you find?\n",
        "```\n",
        "\n"
      ],
      "metadata": {
        "id": "ArRJQptV79K1"
      }
    },
    {
      "cell_type": "code",
      "source": [
        "sns.countplot(x=\"converted\", data=data, hue=\"landing_page\"); #count plot yang menunjukkan jumlah pengguna yang dikonversi (converted) dan tidak dikonversi berdasarkan halaman landing (\"old\" atau \"new\").\n",
        "plt.show() #Menamppilkan plot yang telah dibuat\n",
        "\n",
        "print(\"% converted - old landing page: \", \\\n",
        "      str((data_old[data[\"converted\"]==\"yes\"].count()[\"group\"]/50)*100)+\"%\" )\n",
        "#Print persentase pengguna yang dikonversi pada halaman landing \"old\".\n",
        "\n",
        "print(\"% converted - new landing page: \", \\\n",
        "      str((data_new[data[\"converted\"]==\"yes\"].count()[\"group\"]/50)*100)+\"%\" )\n",
        "#Print persentase pengguna yang dikonversi pada halaman landing \"new\".\n",
        "\n"
      ],
      "metadata": {
        "colab": {
          "base_uri": "https://localhost:8080/",
          "height": 493
        },
        "id": "mUiZpIGH8AAG",
        "outputId": "edf4c920-29b3-492e-e37a-6c149256b4f4"
      },
      "execution_count": null,
      "outputs": [
        {
          "output_type": "display_data",
          "data": {
            "text/plain": [
              "<Figure size 640x480 with 1 Axes>"
            ],
            "image/png": "[encoded data removed]"
          },
          "metadata": {}
        },
        {
          "output_type": "stream",
          "name": "stdout",
          "text": [
            "% converted - old landing page:  42.0%\n",
            "% converted - new landing page:  66.0%\n"
          ]
        }
      ]
    },
    {
      "cell_type": "code",
      "source": [
        "fig,ax = plt.subplots(1,3, figsize=(20,7)) #Membuat subplot dengan 1 baris dan 3 kolom, lebar 20 inci dan tinggi 7 inci\n",
        "\n",
        "sns.countplot(x=\"language_preferred\", data=data.sort_values(\"language_preferred\", ascending = True), \\\n",
        "              hue=\"converted\", ax=ax[0]); #count plot pertama yang menunjukkan tingkat konversi berdasarkan bahasa yang dipilih pengguna, untuk keseluruhan data.\n",
        "ax[0].set_ylim((0,25)) #Mengatur batas sumbu y pada subplot pertama, yaitu dari 0 hingga 25.\n",
        "ax[0].set_title(\"Conversion rate\") #Membuat judul subplot pertama\n",
        "\n",
        "sns.countplot(x=\"language_preferred\", data=data_old.sort_values(\"language_preferred\", ascending = True), \\\n",
        "              hue=\"converted\", ax=ax[1]);  #count plot kedua yang menunjukkan tingkat konversi berdasarkan bahasa yang dipilih pengguna, untuk keseluruhan data.\n",
        "ax[1].set_ylim((0,25)) #Mengatur batas sumbu y pada subplot kedua, yaitu dari 0 hingga 25.\n",
        "ax[1].set_title(\"Conversion rate - old landing page\") #Membuat judul subplot kedua\n",
        "\n",
        "sns.countplot(x=\"language_preferred\", data=data_new.sort_values(\"language_preferred\", ascending = True), \\\n",
        "              hue=\"converted\", ax=ax[2]);  #count plot ketiga yang menunjukkan tingkat konversi berdasarkan bahasa yang dipilih pengguna, untuk keseluruhan data.\n",
        "ax[2].set_ylim((0,25)) #Mengatur batas sumbu y pada subplot ketiga, yaitu dari 0 hingga 25.\n",
        "ax[2].set_title(\"Conversion rate - new landing page\") #Membuat judul subplot ketiga\n",
        "\n",
        "plt.show() #Menampilkan plot yang telah dibuat"
      ],
      "metadata": {
        "colab": {
          "base_uri": "https://localhost:8080/",
          "height": 322
        },
        "id": "iqtpnOxY8ISh",
        "outputId": "e34ce569-78c6-483e-9d05-c74de3029f76"
      },
      "execution_count": null,
      "outputs": [
        {
          "output_type": "display_data",
          "data": {
            "text/plain": [
              "<Figure size 2000x700 with 3 Axes>"
            ],
            "image/png": "[encoded data removed]"
          },
          "metadata": {}
        }
      ]
    },
    {
      "cell_type": "code",
      "source": [
        "print(\"Number of users that prefer English, French and Spanish in the dataset are\",  \\\n",
        "      str(data.groupby(\"language_preferred\").count()[\"user_id\"][\"English\"])+\",\", \\\n",
        "      str(data.groupby(\"language_preferred\").count()[\"user_id\"][\"French\"])+\", and\", \\\n",
        "      str(data.groupby(\"language_preferred\").count()[\"user_id\"][\"Spanish\"])+\".\" +\"\\n\")\n",
        "#Print jumlah pengguna yang memilih bahasa Inggris, Prancis, dan Spanyol.\n",
        "#\"+\",\"+\" digunakan untuk menyatukan string dan variabel."
      ],
      "metadata": {
        "colab": {
          "base_uri": "https://localhost:8080/"
        },
        "id": "uUb0BEPp8Px8",
        "outputId": "447a4c1a-b755-46d8-8883-63a5a450d27d"
      },
      "execution_count": null,
      "outputs": [
        {
          "output_type": "stream",
          "name": "stdout",
          "text": [
            "Number of users that prefer English, French and Spanish in the dataset are 32, 34, and 34.\n",
            "\n"
          ]
        }
      ]
    },
    {
      "cell_type": "code",
      "source": [
        "data_new_converted = data_new[data[\"converted\"]==\"yes\"] #Filter data untuk mengambil hanya baris-baris di mana pengguna dikonversi (\"converted\" = \"yes\") pada halaman landing \"new\".\n",
        "data_old_converted = data_old[data[\"converted\"]==\"yes\"] #Filter data untuk mengambil hanya baris-baris di mana pengguna dikonversi (\"converted\" = \"yes\") pada halaman landing \"old\".\n",
        "\n",
        "print(\"% change in converted - new landing page vs old landing page:\")\n",
        "\n",
        "print(round(100*(data_new_converted.groupby(\"language_preferred\").count()[\"user_id\"] \\\n",
        "    - data_old_converted.groupby(\"language_preferred\").count()[\"user_id\"])/data_new_converted.groupby \\\n",
        "(\"language_preferred\").count()[\"user_id\"], 2)) #Print persentase perubahan dalam jumlah pengguna yang dikonversi antara halaman landing \"new\" dan \"old\" berdasarkan bahasa yang dipilih pengguna."
      ],
      "metadata": {
        "colab": {
          "base_uri": "https://localhost:8080/"
        },
        "id": "c9WTw6yH8WQY",
        "outputId": "f054ee0b-dbe2-428f-f1da-877b3a5d5904"
      },
      "execution_count": null,
      "outputs": [
        {
          "output_type": "stream",
          "name": "stdout",
          "text": [
            "% change in converted - new landing page vs old landing page:\n",
            "language_preferred\n",
            "English   -10.00\n",
            "French     75.00\n",
            "Spanish    36.36\n",
            "Name: user_id, dtype: float64\n"
          ]
        }
      ]
    },
    {
      "cell_type": "markdown",
      "source": [
        "* There are approximately equal number of English, French and Spanish preferring users (32, 34 and 34) in the dataset.\n",
        "* % change in conversion for new landing page vs. old landing page is -10% for english. This means users that prefer English, converted marginally more when on the older landing page.\n",
        "* % change in conversion for new landing page vs. old is 75% for French and 36.36% for Spanish. Users that prefer these languages, hence, converted more when on the new landing page. Conversion on the new landing page is very strong among users prefering French."
      ],
      "metadata": {
        "id": "yNyfWEHZ8fBE"
      }
    },
    {
      "cell_type": "markdown",
      "source": [
        "###Objective 2"
      ],
      "metadata": {
        "id": "fMPUwKrU8na8"
      }
    },
    {
      "cell_type": "markdown",
      "source": [
        "#### No 1 - Do the users spend more time on the new landing page than the old landing page?"
      ],
      "metadata": {
        "id": "F3xByLSB8rqz"
      }
    },
    {
      "cell_type": "markdown",
      "source": [
        "* H0 : Null Hypothesis - The mean time spent on the new landing page is the same as the mean time spent on the old landing page.\n",
        "* H1 : Alternate Hypothesis - The mean time spent on the new landing page is higher than the mean time spent on the old landing page.\n",
        "Let μ1 and μ2 be the mean times spent on the new and old landing pages.\n",
        "\n",
        "H0 : μ1 = μ2\n",
        "H1 : μ1 > μ2\n",
        "\n",
        "level of significance = 5%"
      ],
      "metadata": {
        "id": "0yCTTlc78vm4"
      }
    },
    {
      "cell_type": "code",
      "source": [
        "μ1, μ2 = data_new[\"time_spent_on_the_page\"].mean() , data_old[\"time_spent_on_the_page\"].mean() #menghitung rata-rata waktu yang dihabiskan oleh pengguna pada halaman landing baru (μ1) dan lama (μ2).\n",
        "std1, std2 = data_new[\"time_spent_on_the_page\"].std() , data_old[\"time_spent_on_the_page\"].std() #menghitung standar deviasi dari waktu yang dihabiskan oleh pengguna pada halaman landing baru (std1) dan lama (std2).\n",
        "print(\"μ1, μ2, std1, std2:\", str(round(μ1,2))+\",\", str(round(μ2,2))+\",\", str(round(std1,2))+\",\"\\\n",
        "      , str(round(std2,2))+\".\") #Print nilai-nilai rata-rata (mean) dan standar deviasi (standard deviation) yang telah dihitung."
      ],
      "metadata": {
        "colab": {
          "base_uri": "https://localhost:8080/"
        },
        "id": "qKZUWueh8yfR",
        "outputId": "2f141793-226a-42b9-f6ea-497f78d50a05"
      },
      "execution_count": null,
      "outputs": [
        {
          "output_type": "stream",
          "name": "stdout",
          "text": [
            "μ1, μ2, std1, std2: 6.22, 4.53, 1.82, 2.58.\n"
          ]
        }
      ]
    },
    {
      "cell_type": "markdown",
      "source": [
        "* Continuous data - Yes, the time spent on landing pages is measured on a continuous scale.\n",
        "* Normally distributed populations - Looking at the histogram probability density curves, as well as considering larger sample sizes of 50 (>i.e., 30), normal distribution assumption holds.\n",
        "* Independent populations - As we are taking random samples from population for two different groups, the two samples are assumed to be independent.\n",
        "* Unequal population standard deviations - As the sample standard deviations are different, the population standard deviations may be assumed to be different.\n"
      ],
      "metadata": {
        "id": "mGSjWXQS84cB"
      }
    },
    {
      "cell_type": "markdown",
      "source": [
        "Two Independent Sample T-test for Equality of Means - Unequal Std Dev"
      ],
      "metadata": {
        "id": "JRlsDKZ38-ML"
      }
    },
    {
      "cell_type": "code",
      "source": [
        "from scipy.stats import ttest_ind #Import fungsi ttest_ind dari modul scipy.stats untuk melakukan uji t independen.\n",
        "\n",
        "test_stat, p_value = ttest_ind(data_new[\"time_spent_on_the_page\"], data_old[\"time_spent_on_the_page\"], \\\n",
        "                     equal_var = False, alternative = 'greater') #uji t independen antara waktu yang dihabiskan oleh pengguna pada halaman landing baru (data_new[\"time_spent_on_the_page\"]) dan lama (data_old[\"time_spent_on_the_page\"]).\n",
        "print('The p-value is ', p_value) #Print nilai p (p-value) yang dihasilkan dari uji t independen."
      ],
      "metadata": {
        "colab": {
          "base_uri": "https://localhost:8080/"
        },
        "id": "CwBjHo-G8_Dk",
        "outputId": "2cf2193a-3705-4d4d-db74-3d5891a2a0d9"
      },
      "execution_count": null,
      "outputs": [
        {
          "output_type": "stream",
          "name": "stdout",
          "text": [
            "The p-value is  0.0001392381225166549\n"
          ]
        }
      ]
    },
    {
      "cell_type": "markdown",
      "source": [
        "Insight:\n",
        "* As the p-value (~0.00014) is less than the level of significance(0.05), we can reject the null hypothesis. Hence, we do have enough evidence to support the claim that mean time spent on the new landing page is higher than mean time spent on the old landing page."
      ],
      "metadata": {
        "id": "GXaeA1Cd9I4K"
      }
    },
    {
      "cell_type": "markdown",
      "source": [
        "####No 2 -  Is the conversion rate (the proportion of users who visit the landing page and get converted) for the new page greater than the conversion rate for the old page?"
      ],
      "metadata": {
        "id": "1kXckGjT9Ots"
      }
    },
    {
      "cell_type": "markdown",
      "source": [
        "* H0 : Null Hypothesis - The conversion rate (the proportion of users who visit the landing page and get converted) for the new page is the same as the conversion rate for the old page.\n",
        "* H1 : Alternate Hypothesis - The conversion rate for the new page is greater than the conversion rate for the old page.\n",
        "\n",
        "Let p1 and p2 be the conversion rates for the new and old landing pages.\n",
        "\n",
        "* H0 : p1 = p2\n",
        "* H1 : p1 > p2\n",
        "\n",
        "\n",
        "level of significance = 5%\n",
        "\n",
        "The formulated hypotheses are concerned with proportions. A test of proportions can be used to analyse the hypotheses and draw a conclusion. We shall use a Proportions Z test for this problem."
      ],
      "metadata": {
        "id": "jWfE8j4u9Txa"
      }
    },
    {
      "cell_type": "code",
      "source": [
        "convertedn_new = float(data_new[data[\"converted\"]==\"yes\"].count()[\"group\"]) #Menghitun jumlah pengguna yang telah mengkonversi (converted) pada halaman landing baru.\n",
        "p1 = float(round(convertedn_new/50, 2)) #menghitung tingkat konversi (conversion rate) untuk halaman landing baru\n",
        "convertedn_old = float(data_old[data[\"converted\"]==\"yes\"].count()[\"group\"]) #menghitung jumlah pengguna yang telah mengkonversi (converted) pada halaman landing lama.\n",
        "p2 = float(round(convertedn_old/50, 2)) #menghitung tingkat konversi untuk halaman landing lama\n",
        "\n",
        "print(f'The conversion rates for new landing page and old landing page are {p1} and {p2} respectively.')\n",
        "#Print tingkat konversi untuk halaman landing baru dan lama."
      ],
      "metadata": {
        "colab": {
          "base_uri": "https://localhost:8080/"
        },
        "id": "kKRec9kV9aRY",
        "outputId": "a8d05d2c-d36b-43cf-df4f-f69de36388cd"
      },
      "execution_count": null,
      "outputs": [
        {
          "output_type": "stream",
          "name": "stdout",
          "text": [
            "The conversion rates for new landing page and old landing page are 0.66 and 0.42 respectively.\n"
          ]
        }
      ]
    },
    {
      "cell_type": "markdown",
      "source": [
        "The proportions in the sample are larger for the new landing page. Let's conduct the test to see if this is significant"
      ],
      "metadata": {
        "id": "m_dtb-h59g2V"
      }
    },
    {
      "cell_type": "markdown",
      "source": [
        "Two Proportion Z-test"
      ],
      "metadata": {
        "id": "qFHXDwt19mRe"
      }
    },
    {
      "cell_type": "code",
      "source": [
        "from statsmodels.stats.proportion import proportions_ztest #Import fungsi proportions_ztest dari modul statsmodels.stats.proportion, yang digunakan untuk melakukan uji z pada proporsi dua populasi.\n",
        "stat, pval = proportions_ztest([convertedn_new, convertedn_old], [50, 50], alternative = 'larger') #uji z pada proporsi dua populasi\n",
        "\n",
        "print('The p-value is '+ str(pval)) #Print nilai p (p-value) yang dihasilkan dari uji z."
      ],
      "metadata": {
        "colab": {
          "base_uri": "https://localhost:8080/"
        },
        "id": "BnzmddnS9q0T",
        "outputId": "933fbad9-1f2b-4ee6-8003-93c1d2ec3842"
      },
      "execution_count": null,
      "outputs": [
        {
          "output_type": "stream",
          "name": "stdout",
          "text": [
            "The p-value is 0.008026308204056278\n"
          ]
        }
      ]
    },
    {
      "cell_type": "markdown",
      "source": [
        "Insight:\n",
        "* As the p-value (~0.008) is less than the level of significance (0.05), we can reject the null hypothesis. Hence, we do have enough evidence to support the claim that conversion rate for the new landing page is higher than conversion rate for the old landing page."
      ],
      "metadata": {
        "id": "KHKtP3OF9zAM"
      }
    },
    {
      "cell_type": "markdown",
      "source": [
        "###Summary"
      ],
      "metadata": {
        "id": "vIs85XUi93VK"
      }
    },
    {
      "cell_type": "markdown",
      "source": [
        "**Exploratory Data Analysis**\n",
        "* Total (across all users) and average time spent on the new landing page (311.16 & 6.22 mins) is higher than on the old landing page (226.62 & 4.53 mins).\n",
        "* % conversion rate is higher for new landing page (66%) when compared to old landing page (42%).\n",
        "* There are apporximately equal number of English, French and Spanish preferring users (32, 34 and 34) in the dataset. % change in conversion for new landing page vs. old landing page is -10% for English, 75% for French and 36.36% for Spanish. Conversion when on the new landing page is very strong among users prefering French and marginally poor for users prefering English.\n",
        "\n",
        "**Statistical Analysis**\n",
        "\n",
        "* We statistically found enough evidence to support the claim that mean time spent on the new landing page is higher than mean time spent on the old landing page using a two independent sample T-test for equality of means - unequal std dev.\n",
        "* We statistically found enough evidence to support the claim that conversion rate for the new landing page is higher than conversion rate for the old landing page using a two proportion Z-test."
      ],
      "metadata": {
        "id": "LmM7VFc4995_"
      }
    }
  ]
}