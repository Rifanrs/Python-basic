{
  "nbformat": 4,
  "nbformat_minor": 0,
  "metadata": {
    "colab": {
      "provenance": []
    },
    "kernelspec": {
      "name": "python3",
      "display_name": "Python 3"
    },
    "language_info": {
      "name": "python"
    }
  },
  "cells": [
    {
      "cell_type": "code",
      "execution_count": null,
      "metadata": {
        "id": "oZR-FFdVzY8e"
      },
      "outputs": [],
      "source": [
        "from statistics import mean, median, mode"
      ]
    },
    {
      "cell_type": "markdown",
      "source": [
        "## Mean, Median, Modus"
      ],
      "metadata": {
        "id": "rl7JNZFRJmwK"
      }
    },
    {
      "cell_type": "code",
      "source": [
        "# Contoh umur\n",
        "ages = [22, 25, 30, 35, 35, 40, 45, 50, 55, 60]"
      ],
      "metadata": {
        "id": "EH0p7fUj0GJB"
      },
      "execution_count": null,
      "outputs": []
    },
    {
      "cell_type": "code",
      "source": [
        "# Calculate mean\n",
        "mean = sum(ages) / len(ages)\n",
        "print(\"Mean:\", mean)\n",
        "\n",
        "\n",
        "# mean_value = mean(ages)\n",
        "# print(\"Mean:\", mean_value)"
      ],
      "metadata": {
        "colab": {
          "base_uri": "https://localhost:8080/"
        },
        "id": "vbDp4sus0H98",
        "outputId": "5752d92f-1480-482b-c6ab-6d65266a8368"
      },
      "execution_count": null,
      "outputs": [
        {
          "output_type": "stream",
          "name": "stdout",
          "text": [
            "Mean: 39.7\n"
          ]
        }
      ]
    },
    {
      "cell_type": "code",
      "source": [
        "# Calculate median\n",
        "sorted_ages = sorted(ages)\n",
        "n = len(sorted_ages)\n",
        "if n % 2 == 0:\n",
        "    median = (sorted_ages[n // 2 - 1] + sorted_ages[n // 2]) / 2\n",
        "else:\n",
        "    median = sorted_ages[n // 2]\n",
        "print(\"Median:\", median)\n",
        "\n",
        "\n",
        "# median_value = median(ages)\n",
        "# print(\"Median:\", median_value)"
      ],
      "metadata": {
        "colab": {
          "base_uri": "https://localhost:8080/"
        },
        "id": "X6Z9F4NC0J2y",
        "outputId": "61e5bf76-a903-47d4-e389-b7cf1687b4ab"
      },
      "execution_count": null,
      "outputs": [
        {
          "output_type": "stream",
          "name": "stdout",
          "text": [
            "Median: 37.5\n"
          ]
        }
      ]
    },
    {
      "cell_type": "code",
      "source": [
        "ages = [22, 25, 30, 35, 35, 40, 45, 50, 55, 60]"
      ],
      "metadata": {
        "id": "M057a1nDrjVr"
      },
      "execution_count": null,
      "outputs": []
    },
    {
      "cell_type": "code",
      "source": [
        "# Calculate mode\n",
        "# Menghitung munculnya setiap nomor\n",
        "# counts = {}\n",
        "# for age in ages:\n",
        "#     if age in counts:\n",
        "#         counts[age] += 1\n",
        "#     else:\n",
        "#         counts[age] = 1\n",
        "\n",
        "# # Mencari mode\n",
        "# max_count = max(counts.values())\n",
        "# modes = [key for key, value in counts.items() if value == max_count]\n",
        "\n",
        "# print(\"Mode(s):\", modes)\n",
        "\n",
        "\n",
        "mode_value = mode(ages)\n",
        "print(\"Mode:\", mode_value)"
      ],
      "metadata": {
        "colab": {
          "base_uri": "https://localhost:8080/"
        },
        "id": "1wuezm5n0LpS",
        "outputId": "89a3738c-ac72-4a18-d018-b76dbedd19c5"
      },
      "execution_count": null,
      "outputs": [
        {
          "output_type": "stream",
          "name": "stdout",
          "text": [
            "Mode: 35\n"
          ]
        }
      ]
    },
    {
      "cell_type": "markdown",
      "source": [
        "## Variansi dan Standar Deviasi"
      ],
      "metadata": {
        "id": "UrCd_Os4Jehi"
      }
    },
    {
      "cell_type": "code",
      "source": [
        "scores = [85, 90, 88, 92, 95, 87, 92, 98, 93, 85]"
      ],
      "metadata": {
        "id": "nht1seSZ9kp_"
      },
      "execution_count": null,
      "outputs": []
    },
    {
      "cell_type": "code",
      "source": [
        "# Calculate the mean\n",
        "mean = sum(scores) / len(scores)\n",
        "\n",
        "# Calculate the variance\n",
        "variance = sum((x - mean) ** 2 for x in scores) / len(scores)\n",
        "\n",
        "print(\"Variance:\", variance)"
      ],
      "metadata": {
        "colab": {
          "base_uri": "https://localhost:8080/"
        },
        "id": "sbPv78Jv0M3z",
        "outputId": "851f6a25-e62a-44a3-849a-6de2a3a59241"
      },
      "execution_count": null,
      "outputs": [
        {
          "output_type": "stream",
          "name": "stdout",
          "text": [
            "Variance: 16.65\n"
          ]
        }
      ]
    },
    {
      "cell_type": "code",
      "source": [
        "std_dev = (variance)**0.5\n",
        "print(std_dev)\n",
        "\n",
        "# # Calculate the standard deviation\n",
        "# import math\n",
        "# std_deviation = math.sqrt(variance)\n",
        "\n",
        "# print(\"Standard Deviation:\", std_deviation)"
      ],
      "metadata": {
        "colab": {
          "base_uri": "https://localhost:8080/"
        },
        "id": "Zh253zgH9mgR",
        "outputId": "ccda6099-4ba9-40b0-ff5d-c185277a5729"
      },
      "execution_count": null,
      "outputs": [
        {
          "output_type": "stream",
          "name": "stdout",
          "text": [
            "4.080441152620633\n"
          ]
        }
      ]
    },
    {
      "cell_type": "markdown",
      "source": [
        "## Kovariansi dan Korelasi"
      ],
      "metadata": {
        "id": "8QAhPfL2JY0x"
      }
    },
    {
      "cell_type": "code",
      "source": [
        "math_scores = [85, 90, 88, 92, 95, 87, 92, 98, 93, 85]\n",
        "science_scores = [88, 92, 90, 85, 91, 89, 95, 96, 94, 86]"
      ],
      "metadata": {
        "id": "0dg_vJfr9zmE"
      },
      "execution_count": null,
      "outputs": []
    },
    {
      "cell_type": "code",
      "source": [
        "import numpy as np\n",
        "\n",
        "# Calculate the covariance\n",
        "covariance = np.cov(math_scores, science_scores)[0][1]\n",
        "\n",
        "print(\"Covariance:\", covariance)"
      ],
      "metadata": {
        "colab": {
          "base_uri": "https://localhost:8080/"
        },
        "id": "FBjgzcXMJYQz",
        "outputId": "f2ca75fb-d77c-45a7-d41f-bc3ce8ac3757"
      },
      "execution_count": null,
      "outputs": [
        {
          "output_type": "stream",
          "name": "stdout",
          "text": [
            "Covariance: 10.555555555555555\n"
          ]
        }
      ]
    },
    {
      "cell_type": "markdown",
      "source": [
        "[[cov(X, X), cov(X, Y)],\n",
        " [cov(Y, X), cov(Y, Y)]]"
      ],
      "metadata": {
        "id": "7Z4uhM4PKJLX"
      }
    },
    {
      "cell_type": "code",
      "source": [
        "# Calculate the correlation\n",
        "correlation = np.corrcoef(math_scores, science_scores)[0][1]\n",
        "\n",
        "print(\"Correlation:\", correlation)"
      ],
      "metadata": {
        "colab": {
          "base_uri": "https://localhost:8080/"
        },
        "id": "lzIu6YFZJtu2",
        "outputId": "035e32a5-3915-4a29-8594-95ca5b7591f0"
      },
      "execution_count": null,
      "outputs": [
        {
          "output_type": "stream",
          "name": "stdout",
          "text": [
            "Correlation: 0.6600947766659768\n"
          ]
        }
      ]
    },
    {
      "cell_type": "markdown",
      "source": [
        "[[corr(X, X), corr(X, Y)],\n",
        " [corr(Y, X), corr(Y, Y)]]"
      ],
      "metadata": {
        "id": "GhsNK8JPKKyE"
      }
    },
    {
      "cell_type": "code",
      "source": [],
      "metadata": {
        "id": "JuSPhCuCJvdv"
      },
      "execution_count": null,
      "outputs": []
    }
  ]
}